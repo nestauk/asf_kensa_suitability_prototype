{
 "cells": [
  {
   "cell_type": "code",
   "execution_count": null,
   "id": "73d4000c",
   "metadata": {},
   "outputs": [],
   "source": [
    "import pandas\n",
    "from matplotlib import pyplot\n",
    "from matplotlib.colors import LogNorm, Normalize\n",
    "from scipy import optimize\n",
    "from scipy import stats\n",
    "import numpy\n",
    "import geopandas"
   ]
  },
  {
   "cell_type": "markdown",
   "id": "9bdc8ac0",
   "metadata": {},
   "source": [
    "## Rationale\n",
    "\n",
    "The experimental income data for LSOAs gives us percentiles of the income distribution for each LSOA.\n",
    "\n",
    "This is good at telling us, for instance, how median income varies geographically.\n",
    "\n",
    "However, what if we wanted to know the proportion of households that had a certain income? In theory we could do this by interpolating between the percentiles that we have. According to the spatial variation in incomes, we would expect to see differing proportions of each LSOA achieving at least a given income.\n",
    "\n",
    "Rather than rely on linearly interpolating between percentiles, we can try fitting a distribution and using that. Popular distributions for household incomes include the Weibull and the Burr XII distribution."
   ]
  },
  {
   "cell_type": "code",
   "execution_count": null,
   "id": "61616020",
   "metadata": {},
   "outputs": [],
   "source": [
    "lsoas = pandas.read_excel(\n",
    "    \"../../inputs/data/tables/experimentalabisoccupiedaddresstaxyearending2018.xlsx\",\n",
    "    sheet_name=\"Net Occupied Address LSOA\",\n",
    "    skiprows=2,\n",
    ")"
   ]
  },
  {
   "cell_type": "code",
   "execution_count": null,
   "id": "52cb51a6",
   "metadata": {},
   "outputs": [],
   "source": [
    "lsoas.iloc[0, range(2, 11)]"
   ]
  },
  {
   "cell_type": "code",
   "execution_count": null,
   "id": "f2dece92",
   "metadata": {},
   "outputs": [],
   "source": [
    "pyplot.plot(lsoas.iloc[0, range(2, 11)], [0.1, 0.2, 0.3, 0.4, 0.5, 0.6, 0.7, 0.8, 0.9])\n",
    "pyplot.ylim([0, 1])\n",
    "pyplot.xlim([0, 200_000])"
   ]
  },
  {
   "cell_type": "markdown",
   "id": "d9bc5cd3",
   "metadata": {},
   "source": [
    "## Test with Normal Distribution\n",
    "\n",
    "NB - this is a bad fit, which makes sense."
   ]
  },
  {
   "cell_type": "code",
   "execution_count": null,
   "id": "da307ce6",
   "metadata": {},
   "outputs": [],
   "source": [
    "# a list of (p,x) tuples, where P(X<x)=p\n",
    "percentiles = [\n",
    "    (0.1, 16598),\n",
    "    (0.2, 27678),\n",
    "    (0.3, 37330),\n",
    "    (0.4, 47464),\n",
    "    (0.5, 55830),\n",
    "    (0.6, 68664),\n",
    "    (0.7, 83251),\n",
    "    (0.8, 105332),\n",
    "    (0.9, 153458),\n",
    "]\n",
    "\n",
    "fit_params_ppf, _fit_covariances = optimize.curve_fit(\n",
    "    lambda x, mu, sigma: stats.norm(mu, sigma).ppf(x),\n",
    "    xdata=[percent for percent, percentile in percentiles],\n",
    "    ydata=[percentile for percent, percentile in percentiles],\n",
    "    p0=[55830, 10000],\n",
    ")"
   ]
  },
  {
   "cell_type": "code",
   "execution_count": null,
   "id": "4bc54a79",
   "metadata": {},
   "outputs": [],
   "source": [
    "pyplot.scatter(\n",
    "    [percentile for percent, percentile in percentiles],\n",
    "    [percent for percent, percentile in percentiles],\n",
    "    label=\"given percentiles\",\n",
    ")\n",
    "xs = numpy.linspace(\n",
    "    stats.norm(*fit_params_ppf).ppf(0.001), stats.norm(*fit_params_ppf).ppf(0.999), 500\n",
    ")\n",
    "pyplot.plot(\n",
    "    xs,\n",
    "    stats.norm(*fit_params_ppf).cdf(xs),\n",
    "    \"b--\",\n",
    "    label=f\"fit ppf: $\\\\mu={fit_params_ppf[0]:.2f}, \\\\sigma={fit_params_ppf[1]:.2f}$\",\n",
    ")\n",
    "pyplot.legend()"
   ]
  },
  {
   "cell_type": "code",
   "execution_count": null,
   "id": "76c71d13",
   "metadata": {},
   "outputs": [],
   "source": [
    "pyplot.hist(stats.norm(*fit_params_ppf).rvs(1000))"
   ]
  },
  {
   "cell_type": "markdown",
   "id": "eed2914b",
   "metadata": {},
   "source": [
    "## Weibull Distribution\n",
    "\n",
    "NB, need to estimate the `weibull_min` which is the standard Weibull distribution. We estimate both the shape parameter `c` and the `scale` parameter (as the pdf is otherwise in the standardised form)\n",
    "\n",
    "In this case, the fit looks quite good."
   ]
  },
  {
   "cell_type": "code",
   "execution_count": null,
   "id": "b1d9813e",
   "metadata": {},
   "outputs": [],
   "source": [
    "# a list of (p,x) tuples, where P(X<x)=p\n",
    "percentiles = [\n",
    "    (0.1, 16598),\n",
    "    (0.2, 27678),\n",
    "    (0.3, 37330),\n",
    "    (0.4, 47464),\n",
    "    (0.5, 55830),\n",
    "    (0.6, 68664),\n",
    "    (0.7, 83251),\n",
    "    (0.8, 105332),\n",
    "    (0.9, 153458),\n",
    "]\n",
    "\n",
    "fit_params_ppf, _fit_covariances = optimize.curve_fit(\n",
    "    lambda x, c, scale: stats.weibull_min(c, scale=scale).ppf(x),\n",
    "    xdata=[percent for percent, percentile in percentiles],\n",
    "    ydata=[percentile for percent, percentile in percentiles],\n",
    "    p0=[1.2, 100000],\n",
    ")"
   ]
  },
  {
   "cell_type": "code",
   "execution_count": null,
   "id": "a5b93015",
   "metadata": {},
   "outputs": [],
   "source": [
    "pyplot.scatter(\n",
    "    [percentile for percent, percentile in percentiles],\n",
    "    [percent for percent, percentile in percentiles],\n",
    "    label=\"given percentiles\",\n",
    ")\n",
    "xs = numpy.linspace(\n",
    "    stats.weibull_min(fit_params_ppf[0], scale=fit_params_ppf[1]).ppf(0.001),\n",
    "    stats.weibull_min(fit_params_ppf[0], scale=fit_params_ppf[1]).ppf(0.999),\n",
    "    500,\n",
    ")\n",
    "pyplot.plot(\n",
    "    xs, stats.weibull_min(fit_params_ppf[0], scale=fit_params_ppf[1]).cdf(xs), \"b--\"\n",
    ")"
   ]
  },
  {
   "cell_type": "code",
   "execution_count": null,
   "id": "402a1178",
   "metadata": {},
   "outputs": [],
   "source": [
    "# Histogram\n",
    "pyplot.hist(\n",
    "    stats.weibull_min(fit_params_ppf[0], scale=fit_params_ppf[1]).rvs(10000), bins=50\n",
    ")"
   ]
  },
  {
   "cell_type": "markdown",
   "id": "4df30d2f",
   "metadata": {},
   "source": [
    "## Burr XII Distribution\n",
    "\n",
    "Takes `c` and `d` as shape parameters as well as a `scale` parameter.\n",
    "\n",
    "Looks good, but that might just be because of the long 'high income' tail."
   ]
  },
  {
   "cell_type": "code",
   "execution_count": null,
   "id": "ff8f45ce",
   "metadata": {},
   "outputs": [],
   "source": [
    "# a list of (p,x) tuples, where P(X<x)=p\n",
    "percentiles = [\n",
    "    (0.1, 16598),\n",
    "    (0.2, 27678),\n",
    "    (0.3, 37330),\n",
    "    (0.4, 47464),\n",
    "    (0.5, 55830),\n",
    "    (0.6, 68664),\n",
    "    (0.7, 83251),\n",
    "    (0.8, 105332),\n",
    "    (0.9, 153458),\n",
    "]\n",
    "\n",
    "fit_params_ppf, _fit_covariances = optimize.curve_fit(\n",
    "    lambda x, c, d, scale: stats.burr12(c, d, scale=scale).ppf(x),\n",
    "    xdata=[percent for percent, percentile in percentiles],\n",
    "    ydata=[percentile for percent, percentile in percentiles],\n",
    "    p0=[1, 1, 100000],\n",
    ")"
   ]
  },
  {
   "cell_type": "code",
   "execution_count": null,
   "id": "eadfd94b",
   "metadata": {},
   "outputs": [],
   "source": [
    "pyplot.scatter(\n",
    "    [percentile for percent, percentile in percentiles],\n",
    "    [percent for percent, percentile in percentiles],\n",
    "    label=\"given percentiles\",\n",
    ")\n",
    "xs = numpy.linspace(\n",
    "    stats.burr12(fit_params_ppf[0], fit_params_ppf[1], scale=fit_params_ppf[2]).ppf(\n",
    "        0.001\n",
    "    ),\n",
    "    stats.burr12(fit_params_ppf[0], fit_params_ppf[1], scale=fit_params_ppf[2]).ppf(\n",
    "        0.999\n",
    "    ),\n",
    "    500,\n",
    ")\n",
    "pyplot.plot(\n",
    "    xs,\n",
    "    stats.burr12(fit_params_ppf[0], fit_params_ppf[1], scale=fit_params_ppf[2]).cdf(xs),\n",
    "    \"b--\",\n",
    ")"
   ]
  },
  {
   "cell_type": "code",
   "execution_count": null,
   "id": "c5fc9a4b",
   "metadata": {},
   "outputs": [],
   "source": [
    "# Histogram\n",
    "pyplot.hist(\n",
    "    stats.burr12(fit_params_ppf[0], fit_params_ppf[1], scale=fit_params_ppf[2]).rvs(\n",
    "        10000\n",
    "    ),\n",
    "    bins=50,\n",
    ")"
   ]
  },
  {
   "cell_type": "markdown",
   "id": "765d22f9",
   "metadata": {},
   "source": [
    "## Pareto\n",
    "\n",
    "Standard pareto requires a single shape parameter `b`. This is also known as the tail index.\n",
    "\n",
    "Doesn't seem like as good a fit here as other options due to the long tail. However, lots of pareto variants if we wanted to go down this route (probably not).\n",
    "\n",
    "The issue with the basic pareto is that it is essentially a power law, so the it just declines (unlike lognormal or weibull)."
   ]
  },
  {
   "cell_type": "code",
   "execution_count": null,
   "id": "99c31751",
   "metadata": {},
   "outputs": [],
   "source": [
    "# a list of (p,x) tuples, where P(X<x)=p\n",
    "percentiles = [\n",
    "    (0.1, 16598),\n",
    "    (0.2, 27678),\n",
    "    (0.3, 37330),\n",
    "    (0.4, 47464),\n",
    "    (0.5, 55830),\n",
    "    (0.6, 68664),\n",
    "    (0.7, 83251),\n",
    "    (0.8, 105332),\n",
    "    (0.9, 153458),\n",
    "]\n",
    "\n",
    "fit_params_ppf, _fit_covariances = optimize.curve_fit(\n",
    "    lambda x, b, scale: stats.pareto(b, scale=scale).ppf(x),\n",
    "    xdata=[percent for percent, percentile in percentiles],\n",
    "    ydata=[percentile for percent, percentile in percentiles],\n",
    "    p0=[1, 10000],\n",
    ")"
   ]
  },
  {
   "cell_type": "code",
   "execution_count": null,
   "id": "0e81e941",
   "metadata": {},
   "outputs": [],
   "source": [
    "pyplot.scatter(\n",
    "    [percentile for percent, percentile in percentiles],\n",
    "    [percent for percent, percentile in percentiles],\n",
    "    label=\"given percentiles\",\n",
    ")\n",
    "xs = numpy.linspace(\n",
    "    stats.pareto(fit_params_ppf[0], scale=fit_params_ppf[1]).ppf(0.001),\n",
    "    stats.pareto(fit_params_ppf[0], scale=fit_params_ppf[1]).ppf(0.999),\n",
    "    500,\n",
    ")\n",
    "pyplot.plot(xs, stats.pareto(fit_params_ppf[0], scale=fit_params_ppf[1]).cdf(xs), \"b--\")"
   ]
  },
  {
   "cell_type": "code",
   "execution_count": null,
   "id": "2b627035",
   "metadata": {},
   "outputs": [],
   "source": [
    "pyplot.hist(\n",
    "    stats.pareto(fit_params_ppf[0], scale=fit_params_ppf[1]).rvs(10000), bins=50\n",
    ")"
   ]
  },
  {
   "cell_type": "markdown",
   "id": "ea160e23",
   "metadata": {},
   "source": [
    "## lognormal\n",
    "\n",
    "Takes the shape parameter `s` and a scaling factor. The shape parameter is the standard deviation of the log of the distribution.\n",
    "\n",
    "Not that dissimilar to the weibull."
   ]
  },
  {
   "cell_type": "code",
   "execution_count": null,
   "id": "f1c492c9",
   "metadata": {},
   "outputs": [],
   "source": [
    "# a list of (p,x) tuples, where P(X<x)=p\n",
    "percentiles = [\n",
    "    (0.1, 16598),\n",
    "    (0.2, 27678),\n",
    "    (0.3, 37330),\n",
    "    (0.4, 47464),\n",
    "    (0.5, 55830),\n",
    "    (0.6, 68664),\n",
    "    (0.7, 83251),\n",
    "    (0.8, 105332),\n",
    "    (0.9, 153458),\n",
    "]\n",
    "\n",
    "fit_params_ppf, _fit_covariances = optimize.curve_fit(\n",
    "    lambda x, s, scale: stats.lognorm(s, scale=scale).ppf(x),\n",
    "    xdata=[percent for percent, percentile in percentiles],\n",
    "    ydata=[percentile for percent, percentile in percentiles],\n",
    "    p0=[0.5, 100000],\n",
    ")"
   ]
  },
  {
   "cell_type": "code",
   "execution_count": null,
   "id": "3d69c5cd",
   "metadata": {},
   "outputs": [],
   "source": [
    "pyplot.scatter(\n",
    "    [percentile for percent, percentile in percentiles],\n",
    "    [percent for percent, percentile in percentiles],\n",
    "    label=\"given percentiles\",\n",
    ")\n",
    "xs = numpy.linspace(\n",
    "    stats.lognorm(fit_params_ppf[0], scale=fit_params_ppf[1]).ppf(0.001),\n",
    "    stats.lognorm(fit_params_ppf[0], scale=fit_params_ppf[1]).ppf(0.999),\n",
    "    500,\n",
    ")\n",
    "pyplot.plot(\n",
    "    xs, stats.lognorm(fit_params_ppf[0], scale=fit_params_ppf[1]).cdf(xs), \"b--\"\n",
    ")"
   ]
  },
  {
   "cell_type": "code",
   "execution_count": null,
   "id": "8407229b",
   "metadata": {},
   "outputs": [],
   "source": [
    "pyplot.hist(\n",
    "    stats.lognorm(fit_params_ppf[0], scale=fit_params_ppf[1]).rvs(10000), bins=50\n",
    ")"
   ]
  },
  {
   "cell_type": "markdown",
   "id": "2da19957",
   "metadata": {},
   "source": [
    "## A Mielke Beta-Kappa / Dagum Distribution\n",
    "\n",
    "Takes `k` and `s` as shape parameters."
   ]
  },
  {
   "cell_type": "code",
   "execution_count": null,
   "id": "330c4fd7",
   "metadata": {},
   "outputs": [],
   "source": [
    "# a list of (p,x) tuples, where P(X<x)=p\n",
    "percentiles = [\n",
    "    (0.1, 16598),\n",
    "    (0.2, 27678),\n",
    "    (0.3, 37330),\n",
    "    (0.4, 47464),\n",
    "    (0.5, 55830),\n",
    "    (0.6, 68664),\n",
    "    (0.7, 83251),\n",
    "    (0.8, 105332),\n",
    "    (0.9, 153458),\n",
    "]\n",
    "\n",
    "fit_params_ppf, _fit_covariances = optimize.curve_fit(\n",
    "    lambda x, k, s, scale: stats.mielke(k, s, scale=scale).ppf(x),\n",
    "    xdata=[percent for percent, percentile in percentiles],\n",
    "    ydata=[percentile for percent, percentile in percentiles],\n",
    "    p0=[1, 1, 100000],\n",
    ")"
   ]
  },
  {
   "cell_type": "code",
   "execution_count": null,
   "id": "9260088c",
   "metadata": {},
   "outputs": [],
   "source": [
    "pyplot.scatter(\n",
    "    [percentile for percent, percentile in percentiles],\n",
    "    [percent for percent, percentile in percentiles],\n",
    "    label=\"given percentiles\",\n",
    ")\n",
    "xs = numpy.linspace(\n",
    "    stats.mielke(fit_params_ppf[0], fit_params_ppf[1], scale=fit_params_ppf[2]).ppf(\n",
    "        0.001\n",
    "    ),\n",
    "    stats.mielke(fit_params_ppf[0], fit_params_ppf[1], scale=fit_params_ppf[2]).ppf(\n",
    "        0.999\n",
    "    ),\n",
    "    500,\n",
    ")\n",
    "pyplot.plot(\n",
    "    xs,\n",
    "    stats.mielke(fit_params_ppf[0], fit_params_ppf[1], scale=fit_params_ppf[2]).cdf(xs),\n",
    "    \"b--\",\n",
    ")"
   ]
  },
  {
   "cell_type": "code",
   "execution_count": null,
   "id": "6678efd3",
   "metadata": {},
   "outputs": [],
   "source": [
    "pyplot.hist(\n",
    "    stats.mielke(fit_params_ppf[0], fit_params_ppf[1], scale=fit_params_ppf[2]).rvs(\n",
    "        10000\n",
    "    ),\n",
    "    bins=50,\n",
    ")"
   ]
  },
  {
   "cell_type": "markdown",
   "id": "24cfa6eb",
   "metadata": {},
   "source": [
    "## Fisk / log-logistic Distribution\n",
    "\n",
    "Just the shape parameter `c`, plus scale."
   ]
  },
  {
   "cell_type": "code",
   "execution_count": null,
   "id": "29a2403b",
   "metadata": {},
   "outputs": [],
   "source": [
    "# a list of (p,x) tuples, where P(X<x)=p\n",
    "percentiles = [\n",
    "    (0.1, 16598),\n",
    "    (0.2, 27678),\n",
    "    (0.3, 37330),\n",
    "    (0.4, 47464),\n",
    "    (0.5, 55830),\n",
    "    (0.6, 68664),\n",
    "    (0.7, 83251),\n",
    "    (0.8, 105332),\n",
    "    (0.9, 153458),\n",
    "]\n",
    "\n",
    "fit_params_ppf, _fit_covariances = optimize.curve_fit(\n",
    "    lambda x, c, scale: stats.fisk(c, scale=scale).ppf(x),\n",
    "    xdata=[percent for percent, percentile in percentiles],\n",
    "    ydata=[percentile for percent, percentile in percentiles],\n",
    "    p0=[2, 100000],\n",
    ")"
   ]
  },
  {
   "cell_type": "code",
   "execution_count": null,
   "id": "220165a1",
   "metadata": {},
   "outputs": [],
   "source": [
    "pyplot.scatter(\n",
    "    [percentile for percent, percentile in percentiles],\n",
    "    [percent for percent, percentile in percentiles],\n",
    "    label=\"given percentiles\",\n",
    ")\n",
    "xs = numpy.linspace(\n",
    "    stats.fisk(fit_params_ppf[0], scale=fit_params_ppf[1]).ppf(0.001),\n",
    "    stats.fisk(fit_params_ppf[0], scale=fit_params_ppf[1]).ppf(0.999),\n",
    "    500,\n",
    ")\n",
    "pyplot.plot(xs, stats.fisk(fit_params_ppf[0], scale=fit_params_ppf[1]).cdf(xs), \"b--\")"
   ]
  },
  {
   "cell_type": "code",
   "execution_count": null,
   "id": "aa559a93",
   "metadata": {},
   "outputs": [],
   "source": [
    "pyplot.hist(stats.fisk(fit_params_ppf[0], scale=fit_params_ppf[1]).rvs(10000), bins=50)"
   ]
  },
  {
   "cell_type": "markdown",
   "id": "309443d9",
   "metadata": {},
   "source": [
    "## Rayleigh Distribution\n",
    "\n",
    "No shape parameters, aside from scale. As a result, not a great fit."
   ]
  },
  {
   "cell_type": "code",
   "execution_count": null,
   "id": "b6861502",
   "metadata": {},
   "outputs": [],
   "source": [
    "# a list of (p,x) tuples, where P(X<x)=p\n",
    "percentiles = [\n",
    "    (0.1, 16598),\n",
    "    (0.2, 27678),\n",
    "    (0.3, 37330),\n",
    "    (0.4, 47464),\n",
    "    (0.5, 55830),\n",
    "    (0.6, 68664),\n",
    "    (0.7, 83251),\n",
    "    (0.8, 105332),\n",
    "    (0.9, 153458),\n",
    "]\n",
    "\n",
    "fit_params_ppf, _fit_covariances = optimize.curve_fit(\n",
    "    lambda x, scale: stats.rayleigh(scale=scale).ppf(x),\n",
    "    xdata=[percent for percent, percentile in percentiles],\n",
    "    ydata=[percentile for percent, percentile in percentiles],\n",
    "    p0=[100000],\n",
    ")"
   ]
  },
  {
   "cell_type": "code",
   "execution_count": null,
   "id": "8f9394ab",
   "metadata": {
    "lines_to_next_cell": 2
   },
   "outputs": [],
   "source": [
    "pyplot.scatter(\n",
    "    [percentile for percent, percentile in percentiles],\n",
    "    [percent for percent, percentile in percentiles],\n",
    "    label=\"given percentiles\",\n",
    ")\n",
    "xs = numpy.linspace(\n",
    "    stats.rayleigh(scale=fit_params_ppf[0]).ppf(0.001),\n",
    "    stats.rayleigh(scale=fit_params_ppf[0]).ppf(0.999),\n",
    "    500,\n",
    ")\n",
    "pyplot.plot(xs, stats.rayleigh(scale=fit_params_ppf[0]).cdf(xs), \"b--\")"
   ]
  },
  {
   "cell_type": "markdown",
   "id": "3b644817",
   "metadata": {
    "lines_to_next_cell": 2
   },
   "source": [
    "## Find the best performing distribution across all LSOAs\n",
    "\n",
    "How do we evaluate this? Let's start with a simple RSME approach.\n",
    "\n",
    "I could take a leave-one-out approach to fitting distributions, but there aren't many data points anyway, so I'll ignore for now.\n",
    "\n",
    "There's probably a bit of an issue here in that LSOAs with greater incomes will have more influence simply because errors can be larger when absolute values themselves are larger."
   ]
  },
  {
   "cell_type": "code",
   "execution_count": null,
   "id": "de0dfa92",
   "metadata": {},
   "outputs": [],
   "source": [
    "def rmse(ydata_obs: list, ydata_pred: list) -> float:\n",
    "    se = 0\n",
    "    for i in range(len(ydata_obs)):\n",
    "        se += (ydata_obs[i] - ydata_pred[i]) ** 2\n",
    "    mse = se / len(ydata_obs)\n",
    "    return mse**0.5\n",
    "\n",
    "\n",
    "def reshape_inputs(row: pandas.Series) -> list:\n",
    "    indices = row.index[row.index.str.contains(\"percentile\")]\n",
    "    return row[indices].to_list()\n",
    "\n",
    "\n",
    "def fit_lognormal(row: pandas.Series, initial_s: float, initial_scale: float) -> tuple:\n",
    "    ydata = reshape_inputs(row)\n",
    "    fit_params_ppf, _fit_covariances = optimize.curve_fit(\n",
    "        lambda x, s, scale: stats.lognorm(s, scale=scale).ppf(x),\n",
    "        xdata=numpy.arange(0.1, 1, 0.1),\n",
    "        ydata=ydata,\n",
    "        p0=[initial_s, initial_scale],\n",
    "    )\n",
    "    error = rmse(\n",
    "        ydata,\n",
    "        [\n",
    "            stats.lognorm(fit_params_ppf[0], scale=fit_params_ppf[1]).ppf(pct)\n",
    "            for pct in numpy.arange(0.1, 1, 0.1)\n",
    "        ],\n",
    "    )\n",
    "    return fit_params_ppf, error\n",
    "\n",
    "\n",
    "def fit_weibull(row: pandas.Series, initial_c: float, initial_scale: float) -> tuple:\n",
    "    ydata = reshape_inputs(row)\n",
    "    fit_params_ppf, _fit_covariances = optimize.curve_fit(\n",
    "        lambda x, c, scale: stats.weibull_min(c, scale=scale).ppf(x),\n",
    "        xdata=numpy.arange(0.1, 1, 0.1),\n",
    "        ydata=ydata,\n",
    "        p0=[initial_c, initial_scale],\n",
    "    )\n",
    "    error = rmse(\n",
    "        ydata,\n",
    "        [\n",
    "            stats.weibull_min(fit_params_ppf[0], scale=fit_params_ppf[1]).ppf(pct)\n",
    "            for pct in numpy.arange(0.1, 1, 0.1)\n",
    "        ],\n",
    "    )\n",
    "    return fit_params_ppf, error\n",
    "\n",
    "\n",
    "def fit_fisk(row: pandas.Series, initial_c: float, initial_scale: float) -> tuple:\n",
    "    ydata = reshape_inputs(row)\n",
    "    fit_params_ppf, _fit_covariances = optimize.curve_fit(\n",
    "        lambda x, c, scale: stats.fisk(c, scale=scale).ppf(x),\n",
    "        xdata=numpy.arange(0.1, 1, 0.1),\n",
    "        ydata=ydata,\n",
    "        p0=[initial_c, initial_scale],\n",
    "    )\n",
    "    error = rmse(\n",
    "        ydata,\n",
    "        [\n",
    "            stats.fisk(fit_params_ppf[0], scale=fit_params_ppf[1]).ppf(pct)\n",
    "            for pct in numpy.arange(0.1, 1, 0.1)\n",
    "        ],\n",
    "    )\n",
    "    return fit_params_ppf, error\n",
    "\n",
    "\n",
    "def fit_pareto(row: pandas.Series, initial_b: float, initial_scale: float) -> tuple:\n",
    "    ydata = reshape_inputs(row)\n",
    "    fit_params_ppf, _fit_covariances = optimize.curve_fit(\n",
    "        lambda x, b, scale: stats.pareto(b, scale=scale).ppf(x),\n",
    "        xdata=numpy.arange(0.1, 1, 0.1),\n",
    "        ydata=ydata,\n",
    "        p0=[initial_b, initial_scale],\n",
    "    )\n",
    "    error = rmse(\n",
    "        ydata,\n",
    "        [\n",
    "            stats.pareto(fit_params_ppf[0], scale=fit_params_ppf[1]).ppf(pct)\n",
    "            for pct in numpy.arange(0.1, 1, 0.1)\n",
    "        ],\n",
    "    )\n",
    "    return fit_params_ppf, error\n",
    "\n",
    "\n",
    "def fit_burrXII(\n",
    "    row: pandas.Series, initial_c: float, initial_d: float, initial_scale: float\n",
    ") -> tuple:\n",
    "    ydata = reshape_inputs(row)\n",
    "    try:\n",
    "        fit_params_ppf, _fit_covariances = optimize.curve_fit(\n",
    "            lambda x, c, d, scale: stats.burr12(c, d, scale=scale).ppf(x),\n",
    "            xdata=numpy.arange(0.1, 1, 0.1),\n",
    "            ydata=ydata,\n",
    "            p0=[initial_c, initial_d, initial_scale],\n",
    "            maxfev=10000,\n",
    "        )\n",
    "        error = rmse(\n",
    "            ydata,\n",
    "            [\n",
    "                stats.burr12(\n",
    "                    fit_params_ppf[0], fit_params_ppf[1], scale=fit_params_ppf[2]\n",
    "                ).ppf(pct)\n",
    "                for pct in numpy.arange(0.1, 1, 0.1)\n",
    "            ],\n",
    "        )\n",
    "        return fit_params_ppf, error\n",
    "    except:\n",
    "        return None, None\n",
    "\n",
    "\n",
    "def fit_mielke(\n",
    "    row: pandas.Series, initial_k: float, initial_s: float, initial_scale: float\n",
    ") -> tuple:\n",
    "    ydata = reshape_inputs(row)\n",
    "    try:\n",
    "        fit_params_ppf, _fit_covariances = optimize.curve_fit(\n",
    "            lambda x, k, s, scale: stats.mielke(k, s, scale=scale).ppf(x),\n",
    "            xdata=numpy.arange(0.1, 1, 0.1),\n",
    "            ydata=ydata,\n",
    "            p0=[initial_k, initial_s, initial_scale],\n",
    "            maxfev=10000,\n",
    "        )\n",
    "        error = rmse(\n",
    "            ydata,\n",
    "            [\n",
    "                stats.mielke(\n",
    "                    fit_params_ppf[0], fit_params_ppf[1], scale=fit_params_ppf[2]\n",
    "                ).ppf(pct)\n",
    "                for pct in numpy.arange(0.1, 1, 0.1)\n",
    "            ],\n",
    "        )\n",
    "        return fit_params_ppf, error\n",
    "    except:\n",
    "        return None, None"
   ]
  },
  {
   "cell_type": "code",
   "execution_count": null,
   "id": "6132f584",
   "metadata": {},
   "outputs": [],
   "source": [
    "# NB takes ~4 hours\n",
    "fits = pandas.concat(\n",
    "    [\n",
    "        (\n",
    "            lsoas.apply(\n",
    "                lambda row: fit_lognormal(row, 1, 100000), axis=1, result_type=\"expand\"\n",
    "            ).rename(columns={0: \"lognorm_params\", 1: \"lognorm_error\"})\n",
    "        ),\n",
    "        (\n",
    "            lsoas.apply(\n",
    "                lambda row: fit_weibull(row, 1, 100000), axis=1, result_type=\"expand\"\n",
    "            ).rename(columns={0: \"weibull_params\", 1: \"weibull_error\"})\n",
    "        ),\n",
    "        (\n",
    "            lsoas.apply(\n",
    "                lambda row: fit_fisk(row, 1, 100000), axis=1, result_type=\"expand\"\n",
    "            ).rename(columns={0: \"fisk_params\", 1: \"fisk_error\"})\n",
    "        ),\n",
    "        (\n",
    "            lsoas.apply(\n",
    "                lambda row: fit_pareto(row, 1, 10000), axis=1, result_type=\"expand\"\n",
    "            ).rename(columns={0: \"pareto_params\", 1: \"pareto_error\"})\n",
    "        ),\n",
    "        (\n",
    "            lsoas.apply(\n",
    "                lambda row: fit_burrXII(row, 1, 1, 100000), axis=1, result_type=\"expand\"\n",
    "            ).rename(columns={0: \"burrxii_params\", 1: \"burrxii_error\"})\n",
    "        ),\n",
    "        (\n",
    "            lsoas.apply(\n",
    "                lambda row: fit_mielke(row, 1, 1, 100000), axis=1, result_type=\"expand\"\n",
    "            ).rename(columns={0: \"mielke_params\", 1: \"mielke_error\"})\n",
    "        ),\n",
    "    ],\n",
    "    axis=1,\n",
    ")"
   ]
  },
  {
   "cell_type": "code",
   "execution_count": null,
   "id": "f5a578cf",
   "metadata": {},
   "outputs": [],
   "source": [
    "fits.to_parquet(\"../../outputs/tables/lsoa_income_fits.parquet\")"
   ]
  },
  {
   "cell_type": "code",
   "execution_count": null,
   "id": "3504b202",
   "metadata": {},
   "outputs": [],
   "source": [
    "fits = pandas.read_parquet(\"../../outputs/tables/lsoa_income_fits.parquet\")"
   ]
  },
  {
   "cell_type": "code",
   "execution_count": null,
   "id": "c098d502",
   "metadata": {},
   "outputs": [],
   "source": [
    "# The 2 parameter distributions Burr XII and Mielke outperform the single parameter options tested.\n",
    "fits[\n",
    "    [\n",
    "        \"lognorm_error\",\n",
    "        \"weibull_error\",\n",
    "        \"fisk_error\",\n",
    "        \"pareto_error\",\n",
    "        \"burrxii_error\",\n",
    "        \"mielke_error\",\n",
    "    ]\n",
    "].describe()"
   ]
  },
  {
   "cell_type": "code",
   "execution_count": null,
   "id": "48b830d8",
   "metadata": {},
   "outputs": [],
   "source": [
    "f, ax = pyplot.subplots(figsize=(8, 5))\n",
    "\n",
    "for col in fits.columns[fits.columns.str.contains(\"error\")]:\n",
    "    kernel = stats.gaussian_kde(fits[col])\n",
    "    xs = numpy.linspace(0, 8000, 500)\n",
    "    ys = kernel(xs)\n",
    "    ax.plot(xs, ys, label=col.split(\"_\")[0])\n",
    "\n",
    "ax.legend(title=\"Distribution\")\n",
    "ax.set_xlabel(\"RMSE (£)\")"
   ]
  },
  {
   "cell_type": "markdown",
   "id": "7132f66f",
   "metadata": {},
   "source": [
    "## Explore Fits\n",
    "\n",
    "While the Mielke distribution performs the best, some of the parameter estimates cause overflows when estimating the cdf which we need to establish the proportion of an LSOA covered by a given value.\n",
    "\n",
    "Therefore, we're using the Burr XII distribution which also performs well."
   ]
  },
  {
   "cell_type": "code",
   "execution_count": null,
   "id": "a0f12265",
   "metadata": {},
   "outputs": [],
   "source": [
    "f, [[ax1, ax2], [ax3, ax4]] = pyplot.subplots(2, 2, figsize=(12, 8))\n",
    "\n",
    "# ax1\n",
    "idx, (k, s, scale) = list(\n",
    "    fits[fits[\"burrxii_error\"].between(400, 430)].sample(1)[\"burrxii_params\"].items()\n",
    ")[0]\n",
    "\n",
    "ax1.scatter(\n",
    "    lsoas.loc[idx, lsoas.columns.str.contains(\"percentile\")],\n",
    "    numpy.arange(0.1, 1, 0.1),\n",
    "    label=\"given percentiles\",\n",
    ")\n",
    "\n",
    "xs = numpy.linspace(\n",
    "    stats.burr12(k, s, scale=scale).ppf(0.001),\n",
    "    stats.burr12(k, s, scale=scale).ppf(0.999),\n",
    "    500,\n",
    ")\n",
    "ax1.plot(xs, stats.burr12(k, s, scale=scale).cdf(xs), \"b--\")\n",
    "ax1.text(x=0, y=0.95, s=f\"RMSE: {fits.loc[idx, 'burrxii_error'].round(0)}\")\n",
    "ax1.set_title(\"Mean LSOA fit\")\n",
    "\n",
    "# ax2\n",
    "idx, (k, s, scale) = list(\n",
    "    fits[fits[\"burrxii_error\"].between(635, 681)].sample(1)[\"burrxii_params\"].items()\n",
    ")[0]\n",
    "\n",
    "ax2.scatter(\n",
    "    lsoas.loc[idx, lsoas.columns.str.contains(\"percentile\")],\n",
    "    numpy.arange(0.1, 1, 0.1),\n",
    "    label=\"given percentiles\",\n",
    ")\n",
    "\n",
    "xs = numpy.linspace(\n",
    "    stats.burr12(k, s, scale=scale).ppf(0.001),\n",
    "    stats.burr12(k, s, scale=scale).ppf(0.999),\n",
    "    500,\n",
    ")\n",
    "ax2.plot(xs, stats.burr12(k, s, scale=scale).cdf(xs), \"b--\")\n",
    "ax2.text(x=0, y=0.95, s=f\"RMSE: {fits.loc[idx, 'burrxii_error'].round(0)}\")\n",
    "ax2.set_title(\"90th %ile LSOA fit\")\n",
    "\n",
    "# ax3\n",
    "idx, (k, s, scale) = list(\n",
    "    fits[fits[\"burrxii_error\"].between(1100, 1600)].sample(1)[\"burrxii_params\"].items()\n",
    ")[0]\n",
    "\n",
    "ax3.scatter(\n",
    "    lsoas.loc[idx, lsoas.columns.str.contains(\"percentile\")],\n",
    "    numpy.arange(0.1, 1, 0.1),\n",
    "    label=\"given percentiles\",\n",
    ")\n",
    "\n",
    "xs = numpy.linspace(\n",
    "    stats.burr12(k, s, scale=scale).ppf(0.001),\n",
    "    stats.burr12(k, s, scale=scale).ppf(0.999),\n",
    "    500,\n",
    ")\n",
    "ax3.plot(xs, stats.burr12(k, s, scale=scale).cdf(xs), \"b--\")\n",
    "ax3.text(x=0, y=0.95, s=f\"RMSE: {fits.loc[idx, 'burrxii_error'].round(0)}\")\n",
    "ax3.set_title(\"99th %ile LSOA fit\")\n",
    "\n",
    "# ax4\n",
    "idx, (k, s, scale) = list(\n",
    "    fits[fits[\"burrxii_error\"] == fits[\"burrxii_error\"].max()][\"burrxii_params\"].items()\n",
    ")[0]\n",
    "\n",
    "ax4.scatter(\n",
    "    lsoas.loc[idx, lsoas.columns.str.contains(\"percentile\")],\n",
    "    numpy.arange(0.1, 1, 0.1),\n",
    "    label=\"given percentiles\",\n",
    ")\n",
    "\n",
    "xs = numpy.linspace(\n",
    "    stats.burr12(k, s, scale=scale).ppf(0.001),\n",
    "    stats.burr12(k, s, scale=scale).ppf(0.99),\n",
    "    500,\n",
    ")\n",
    "ax4.plot(xs, stats.burr12(k, s, scale=scale).cdf(xs), \"b--\")\n",
    "ax4.text(x=0, y=0.95, s=f\"RMSE: {fits.loc[idx, 'burrxii_error'].round(0)}\")\n",
    "ax4.set_title(\"Worst LSOA fit\")"
   ]
  },
  {
   "cell_type": "markdown",
   "id": "254695e9",
   "metadata": {},
   "source": [
    "## Mapping Errors in Burr XII distribution\n",
    "\n",
    "There is possibly a bit of spatial structure in the errors associated with wealthier lsoas or lsoas witha larger income range."
   ]
  },
  {
   "cell_type": "code",
   "execution_count": null,
   "id": "3a6d2eec",
   "metadata": {},
   "outputs": [],
   "source": [
    "# NB 2011 LSOA definition...\n",
    "lsoa_geoms = geopandas.read_file(\n",
    "    \"../../inputs/data/lsoa/LSOA_Dec_2011_Boundaries_Generalised_Clipped_BGC_EW_V3_-1005832519865330139.gpkg\"\n",
    ")"
   ]
  },
  {
   "cell_type": "code",
   "execution_count": null,
   "id": "7f1fd924",
   "metadata": {},
   "outputs": [],
   "source": [
    "eng_wal = geopandas.read_file(\n",
    "    \"https://services1.arcgis.com/ESMARspQHYMw9BZ9/arcgis/rest/services/Countries_December_2022_UK_BUC/FeatureServer/0/query?where=CTRY22NM%20%3D%20'ENGLAND'%20OR%20CTRY22NM%20%3D%20'WALES'&outFields=*&outSR=27700&f=json\"\n",
    ")"
   ]
  },
  {
   "cell_type": "code",
   "execution_count": null,
   "id": "c1496bd3",
   "metadata": {},
   "outputs": [],
   "source": [
    "lsoas[\"burrxii_error\"] = fits[\"burrxii_error\"]\n",
    "lsoas[\"burrxii_params\"] = fits[\"burrxii_params\"]"
   ]
  },
  {
   "cell_type": "code",
   "execution_count": null,
   "id": "1c69dec5",
   "metadata": {},
   "outputs": [],
   "source": [
    "lsoa_geoms = lsoa_geoms.merge(lsoas, left_on=\"LSOA11CD\", right_on=\"LSOA code\")"
   ]
  },
  {
   "cell_type": "code",
   "execution_count": null,
   "id": "8840b0a3",
   "metadata": {},
   "outputs": [],
   "source": [
    "pyplot.hist(numpy.log(lsoa_geoms[\"burrxii_error\"]), bins=30)"
   ]
  },
  {
   "cell_type": "code",
   "execution_count": null,
   "id": "598dbdff",
   "metadata": {
    "lines_to_next_cell": 2
   },
   "outputs": [],
   "source": [
    "f, ax = pyplot.subplots(figsize=(8, 12))\n",
    "\n",
    "norm = LogNorm(\n",
    "    vmin=lsoa_geoms[\"burrxii_error\"].min(), vmax=lsoa_geoms[\"burrxii_error\"].max()\n",
    ")\n",
    "lsoa_geoms.plot(\"burrxii_error\", cmap=\"Reds\", norm=norm, ax=ax)\n",
    "eng_wal.plot(facecolor=\"none\", edgecolor=\"0.1\", linewidth=0.5, ax=ax)\n",
    "\n",
    "# add colorbar\n",
    "cax = f.add_axes([0.2, 0.45, 0.03, 0.3])\n",
    "sm = pyplot.cm.ScalarMappable(cmap=\"Reds\", norm=norm)\n",
    "f.colorbar(sm, label=\"RMSE (£)\", cax=cax)\n",
    "\n",
    "ax.set_axis_off()"
   ]
  },
  {
   "cell_type": "markdown",
   "id": "789a08ca",
   "metadata": {
    "lines_to_next_cell": 2
   },
   "source": [
    "## Proportion of households above a given value"
   ]
  },
  {
   "cell_type": "code",
   "execution_count": null,
   "id": "f408cfbd",
   "metadata": {},
   "outputs": [],
   "source": [
    "def get_prop(row: pandas.Series, value: float) -> float:\n",
    "    k, s, scale = row[\"burrxii_params\"]\n",
    "    prop = stats.burr12(k, s, scale=scale).cdf(value)\n",
    "    return 1 - prop"
   ]
  },
  {
   "cell_type": "code",
   "execution_count": null,
   "id": "3e1cbe9d",
   "metadata": {},
   "outputs": [],
   "source": [
    "lsoa_geoms[\"hh_inc_38100_prop\"] = lsoa_geoms.apply(\n",
    "    lambda row: get_prop(row, 38_100), axis=1\n",
    ")\n",
    "lsoa_geoms[\"hh_inc_50000_prop\"] = lsoa_geoms.apply(\n",
    "    lambda row: get_prop(row, 50_000), axis=1\n",
    ")"
   ]
  },
  {
   "cell_type": "code",
   "execution_count": null,
   "id": "1671ea4f",
   "metadata": {},
   "outputs": [],
   "source": [
    "f, [ax1, ax2] = pyplot.subplots(1, 2, figsize=(14, 10))\n",
    "\n",
    "lsoa_geoms.plot(\"hh_inc_38100_prop\", cmap=\"Greens\", ax=ax1)\n",
    "eng_wal.plot(facecolor=\"none\", edgecolor=\"0.1\", linewidth=0.5, ax=ax1)\n",
    "ax1.set_axis_off()\n",
    "ax1.set_title(\"LSOA Proportion at £38,100 (median income)\")\n",
    "# add colorbar\n",
    "cax = f.add_axes([0.1, 0.45, 0.015, 0.3])\n",
    "sm = pyplot.cm.ScalarMappable(\n",
    "    cmap=\"Greens\",\n",
    "    norm=Normalize(\n",
    "        vmin=lsoa_geoms[\"hh_inc_38100_prop\"].min(),\n",
    "        vmax=lsoa_geoms[\"hh_inc_38100_prop\"].max(),\n",
    "    ),\n",
    ")\n",
    "f.colorbar(sm, label=\"Proportion\", cax=cax)\n",
    "\n",
    "lsoa_geoms.plot(\"hh_inc_50000_prop\", cmap=\"Oranges\", ax=ax2)\n",
    "eng_wal.plot(facecolor=\"none\", edgecolor=\"0.1\", linewidth=0.5, ax=ax2)\n",
    "ax2.set_axis_off()\n",
    "ax2.set_title(\"LSOA Proportion at £50,000\")\n",
    "# add colorbar\n",
    "cax = f.add_axes([0.55, 0.45, 0.015, 0.3])\n",
    "sm = pyplot.cm.ScalarMappable(\n",
    "    cmap=\"Oranges\",\n",
    "    norm=Normalize(\n",
    "        vmin=lsoa_geoms[\"hh_inc_50000_prop\"].min(),\n",
    "        vmax=lsoa_geoms[\"hh_inc_50000_prop\"].max(),\n",
    "    ),\n",
    ")\n",
    "f.colorbar(sm, label=\"Proportion\", cax=cax)"
   ]
  },
  {
   "cell_type": "markdown",
   "id": "09c95d70",
   "metadata": {},
   "source": [
    "## Compare with Street Density Data"
   ]
  },
  {
   "cell_type": "code",
   "execution_count": null,
   "id": "c14f6648",
   "metadata": {},
   "outputs": [],
   "source": [
    "density = pandas.read_csv(\"../../inputs/data/lsoa/uprn_street_density_lsoa_2011.csv\")"
   ]
  },
  {
   "cell_type": "code",
   "execution_count": null,
   "id": "9496ca94",
   "metadata": {},
   "outputs": [],
   "source": [
    "lsoa_geoms = lsoa_geoms.merge(density, on=\"LSOA11NM\")"
   ]
  },
  {
   "cell_type": "code",
   "execution_count": null,
   "id": "c32b0b6e",
   "metadata": {},
   "outputs": [],
   "source": [
    "# create rolling percentage window (+/- 5)\n",
    "median = []\n",
    "fiftyk = []\n",
    "\n",
    "for lower, centre, upper in zip(\n",
    "    numpy.arange(-0.05, 1.00, 0.05),\n",
    "    numpy.arange(0.0, 1.05, 0.05),\n",
    "    numpy.arange(0.05, 1.10, 0.05),\n",
    "):\n",
    "    median.append(\n",
    "        [\n",
    "            centre,\n",
    "            lsoa_geoms.loc[\n",
    "                lambda df: df[\"hh_inc_38100_prop\"].between(lower, upper),\n",
    "                \"average_street_density\",\n",
    "            ].mean(),\n",
    "            lsoa_geoms.loc[\n",
    "                lambda df: df[\"hh_inc_38100_prop\"].between(lower, upper),\n",
    "                \"average_street_density\",\n",
    "            ].std(),\n",
    "            lsoa_geoms.loc[\n",
    "                lambda df: df[\"hh_inc_38100_prop\"].between(lower, upper),\n",
    "                \"average_street_density\",\n",
    "            ].count(),\n",
    "        ]\n",
    "    )\n",
    "    fiftyk.append(\n",
    "        [\n",
    "            centre,\n",
    "            lsoa_geoms.loc[\n",
    "                lambda df: df[\"hh_inc_50000_prop\"].between(lower, upper),\n",
    "                \"average_street_density\",\n",
    "            ].mean(),\n",
    "            lsoa_geoms.loc[\n",
    "                lambda df: df[\"hh_inc_50000_prop\"].between(lower, upper),\n",
    "                \"average_street_density\",\n",
    "            ].std(),\n",
    "            lsoa_geoms.loc[\n",
    "                lambda df: df[\"hh_inc_50000_prop\"].between(lower, upper),\n",
    "                \"average_street_density\",\n",
    "            ].count(),\n",
    "        ]\n",
    "    )"
   ]
  },
  {
   "cell_type": "code",
   "execution_count": null,
   "id": "0eaa1573",
   "metadata": {},
   "outputs": [],
   "source": [
    "median = numpy.array(median)\n",
    "fiftyk = numpy.array(fiftyk)\n",
    "\n",
    "median = numpy.column_stack(\n",
    "    [\n",
    "        median,\n",
    "        median[:, 1] - 1.96 * (median[:, 2] / numpy.sqrt(median[:, 3])),\n",
    "        median[:, 1] + 1.96 * (median[:, 2] / numpy.sqrt(median[:, 3])),\n",
    "    ]\n",
    ")\n",
    "\n",
    "fiftyk = numpy.column_stack(\n",
    "    [\n",
    "        fiftyk,\n",
    "        fiftyk[:, 1] - 1.96 * (fiftyk[:, 2] / numpy.sqrt(fiftyk[:, 3])),\n",
    "        fiftyk[:, 1] + 1.96 * (fiftyk[:, 2] / numpy.sqrt(fiftyk[:, 3])),\n",
    "    ]\n",
    ")"
   ]
  },
  {
   "cell_type": "code",
   "execution_count": null,
   "id": "07091dc2",
   "metadata": {},
   "outputs": [],
   "source": [
    "f, ax = pyplot.subplots(figsize=(8, 6))\n",
    "\n",
    "# Median\n",
    "ax.plot(\n",
    "    median[:, 0],\n",
    "    median[:, 1],\n",
    "    color=\"green\",\n",
    "    linewidth=0.8,\n",
    "    label=\"Over median Income\",\n",
    ")\n",
    "\n",
    "ax.fill_between(\n",
    "    median[:, 0],\n",
    "    median[:, 4],\n",
    "    median[:, 5],\n",
    "    zorder=0,\n",
    "    color=\"green\",\n",
    "    alpha=0.33,\n",
    "    ec=None,\n",
    ")\n",
    "\n",
    "# Fifty k\n",
    "ax.plot(\n",
    "    fiftyk[:, 0],\n",
    "    fiftyk[:, 1],\n",
    "    color=\"orange\",\n",
    "    linewidth=0.8,\n",
    "    label=\"Over £50k Income\",\n",
    ")\n",
    "\n",
    "ax.fill_between(\n",
    "    fiftyk[:, 0],\n",
    "    fiftyk[:, 4],\n",
    "    fiftyk[:, 5],\n",
    "    zorder=0,\n",
    "    color=\"orange\",\n",
    "    alpha=0.33,\n",
    "    ec=None,\n",
    ")\n",
    "\n",
    "# Decoration\n",
    "ax.set_ylim([0, 1300])\n",
    "ax.set_xticks(numpy.arange(0.0, 1.1, 0.1))\n",
    "ax.set_xticklabels(numpy.arange(0, 110, 10))\n",
    "ax.grid()\n",
    "ax.legend(loc=2)\n",
    "ax.set_xlabel(\"Percentage of Households in LSOA\")\n",
    "ax.set_ylabel(\"Mean Street Density (UPRNs per km)\")"
   ]
  },
  {
   "cell_type": "markdown",
   "id": "6154dc41",
   "metadata": {},
   "source": [
    "## Comparison to IMD2019"
   ]
  },
  {
   "cell_type": "code",
   "execution_count": null,
   "id": "529419ce",
   "metadata": {},
   "outputs": [],
   "source": [
    "imd = pandas.read_excel(\n",
    "    \"../../inputs/data/tables/2019_Income_and_Employment_Domains_-_England_and_Wales.ods\",\n",
    "    engine=\"odf\",\n",
    "    sheet_name=\"Income\",\n",
    ")"
   ]
  },
  {
   "cell_type": "code",
   "execution_count": null,
   "id": "75c05ee2",
   "metadata": {},
   "outputs": [],
   "source": [
    "lsoa_geoms = lsoa_geoms.merge(imd, left_on=\"LSOA11CD\", right_on=\"LSOA Code (2011)\")"
   ]
  },
  {
   "cell_type": "code",
   "execution_count": null,
   "id": "ad21f818",
   "metadata": {},
   "outputs": [],
   "source": [
    "lsoa_geoms[[\"hh_inc_38100_prop\", \"Income Domain Rank (where 1 is most deprived)\"]].corr(\n",
    "    method=\"pearson\"\n",
    ")"
   ]
  },
  {
   "cell_type": "code",
   "execution_count": null,
   "id": "3f4b2b8d",
   "metadata": {},
   "outputs": [],
   "source": [
    "f, ax = pyplot.subplots(figsize=(8, 6))\n",
    "\n",
    "ax.scatter(\n",
    "    lsoa_geoms[\"hh_inc_38100_prop\"],\n",
    "    lsoa_geoms[\"Income Domain Rank (where 1 is most deprived)\"],\n",
    "    marker=\".\",\n",
    "    color=\"k\",\n",
    "    alpha=0.05,\n",
    ")\n",
    "\n",
    "ax.set_xlabel(\"Proportion of LSOAs with Annual Net Household Income >= £38,100\")\n",
    "ax.set_ylabel(\"IMD 2019 Income Domain Rank, 1 = Most Deprived\")"
   ]
  }
 ],
 "metadata": {
  "jupytext": {
   "cell_metadata_filter": "-all",
   "comment_magics": true
  },
  "kernelspec": {
   "display_name": "asf_kensa_suitability_prototype",
   "language": "python",
   "name": "asf_kensa_suitability_prototype"
  },
  "language_info": {
   "codemirror_mode": {
    "name": "ipython",
    "version": 3
   },
   "file_extension": ".py",
   "mimetype": "text/x-python",
   "name": "python",
   "nbconvert_exporter": "python",
   "pygments_lexer": "ipython3",
   "version": "3.8.17"
  }
 },
 "nbformat": 4,
 "nbformat_minor": 5
}
