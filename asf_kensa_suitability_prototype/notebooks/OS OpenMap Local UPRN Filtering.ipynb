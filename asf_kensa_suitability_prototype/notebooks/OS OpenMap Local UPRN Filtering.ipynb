{
 "cells": [
  {
   "cell_type": "code",
   "execution_count": null,
   "id": "d6d0c876",
   "metadata": {},
   "outputs": [],
   "source": [
    "import fiona\n",
    "import geopandas\n",
    "from dask import dataframe as dd\n",
    "import dask_geopandas\n",
    "import pandas\n",
    "from pyogrio import read_info, read_dataframe\n",
    "import matplotlib.pyplot as plt"
   ]
  },
  {
   "cell_type": "markdown",
   "id": "55647c9b",
   "metadata": {},
   "source": [
    "## Aim\n",
    "\n",
    "The aim is to use building outlines from OS OpenMap Local to remove the non-building UPRNs in the OS OpenUPRN data.\n",
    "\n",
    "I have explored the possibility of excluding all important building classes, but find that in numerous cases the mixed-use nature of the built environment means you cannot simply exclude UPRNs based on their intersection with a building footprint. This is particularly true of retail.\n",
    "\n",
    "It is likely the case that a true accounting of domestic/residential UPRNs would have to be licensed/purchased."
   ]
  },
  {
   "cell_type": "code",
   "execution_count": null,
   "id": "7e6ebfe1",
   "metadata": {},
   "outputs": [],
   "source": [
    "# filepath = \"/vsizip/../../inputs/data/os_openmap_local/opmplc_gpkg_gb.zip/Data/opmplc_gb.gpkg\"\n",
    "filepath = \"../../inputs/data/os_openmap_local/Data/opmplc_gb.gpkg\"\n",
    "uprn_path = \"../../inputs/data/uprn/osopenuprn_202304.csv\""
   ]
  },
  {
   "cell_type": "code",
   "execution_count": null,
   "id": "1da0f598",
   "metadata": {},
   "outputs": [],
   "source": [
    "fiona.listlayers(filepath)"
   ]
  },
  {
   "cell_type": "markdown",
   "id": "54d6eb50",
   "metadata": {},
   "source": [
    "## UPRNS"
   ]
  },
  {
   "cell_type": "code",
   "execution_count": null,
   "id": "fa21ab97",
   "metadata": {},
   "outputs": [],
   "source": [
    "# Load uprns from zip file\n",
    "uprn_df = dd.read_csv(uprn_path)"
   ]
  },
  {
   "cell_type": "code",
   "execution_count": null,
   "id": "0acc414e",
   "metadata": {},
   "outputs": [],
   "source": [
    "# Convert dask dataframe to geodataframe - defaults to 31 partitions from uprn_df.\n",
    "uprn_gdf = dask_geopandas.from_dask_dataframe(\n",
    "    uprn_df,\n",
    "    geometry=dask_geopandas.points_from_xy(uprn_df, \"X_COORDINATE\", \"Y_COORDINATE\"),\n",
    ")"
   ]
  },
  {
   "cell_type": "code",
   "execution_count": null,
   "id": "2dccf555",
   "metadata": {},
   "outputs": [],
   "source": [
    "uprn_gdf = uprn_gdf.set_crs(\"epsg:27700\")"
   ]
  },
  {
   "cell_type": "markdown",
   "id": "a284cebe",
   "metadata": {},
   "source": [
    "## Important Buildings\n",
    "\n",
    "This is a test on the important buildings layer. What it demonstrates is that ~1.4% of the important buildings do not intersect a UPRN. It appears that in several of these cases a UPRN exists, but it lies just outside of the building polygon."
   ]
  },
  {
   "cell_type": "code",
   "execution_count": null,
   "id": "e6e7ed5f",
   "metadata": {},
   "outputs": [],
   "source": [
    "important_buildings = geopandas.read_file(filepath, layer=\"important_building\")"
   ]
  },
  {
   "cell_type": "code",
   "execution_count": null,
   "id": "e255f91c",
   "metadata": {},
   "outputs": [],
   "source": [
    "important_buildings.head()"
   ]
  },
  {
   "cell_type": "code",
   "execution_count": null,
   "id": "691cfc4a",
   "metadata": {},
   "outputs": [],
   "source": [
    "important_buildings[\"building_theme\"].value_counts()"
   ]
  },
  {
   "cell_type": "code",
   "execution_count": null,
   "id": "b3f5da0f",
   "metadata": {},
   "outputs": [],
   "source": [
    "important_buildings_gdf = dask_geopandas.from_geopandas(\n",
    "    important_buildings, npartitions=4\n",
    ")"
   ]
  },
  {
   "cell_type": "code",
   "execution_count": null,
   "id": "e0e781b2",
   "metadata": {},
   "outputs": [],
   "source": [
    "important_building_uprns = dask_geopandas.sjoin(\n",
    "    uprn_gdf, important_buildings_gdf, how=\"inner\", predicate=\"intersects\"\n",
    ").compute()"
   ]
  },
  {
   "cell_type": "code",
   "execution_count": null,
   "id": "0811a536",
   "metadata": {},
   "outputs": [],
   "source": [
    "# 229,748 important buildings\n",
    "important_buildings_gdf.__len__()"
   ]
  },
  {
   "cell_type": "code",
   "execution_count": null,
   "id": "02d0feb3",
   "metadata": {},
   "outputs": [],
   "source": [
    "# 454,891 uprns intersecting with important buildings\n",
    "important_building_uprns.shape[0]"
   ]
  },
  {
   "cell_type": "code",
   "execution_count": null,
   "id": "b4f3e0c2",
   "metadata": {},
   "outputs": [],
   "source": [
    "# 127,060 ids identified - 55%\n",
    "# Appears that some places have multiple buildings, some without UPRNs\n",
    "important_building_uprns.groupby(\"id\")[\"index_right\"].count().sort_values(\n",
    "    ascending=False\n",
    ")"
   ]
  },
  {
   "cell_type": "code",
   "execution_count": null,
   "id": "1c2850bf",
   "metadata": {},
   "outputs": [],
   "source": [
    "# NB the education theme appears to cover university halls of residence too.\n",
    "important_building_uprns.groupby(\"building_theme\")[\"index_right\"].count().sort_values(\n",
    "    ascending=False\n",
    ")"
   ]
  },
  {
   "cell_type": "code",
   "execution_count": null,
   "id": "5a118df2",
   "metadata": {},
   "outputs": [],
   "source": [
    "# Uprns per building per theme\n",
    "important_building_uprns.groupby([\"building_theme\", \"id\"])[\n",
    "    \"index_right\"\n",
    "].count().reset_index().groupby(\"building_theme\")[\"index_right\"].agg(\n",
    "    [\"min\", \"max\", \"mean\"]\n",
    ")"
   ]
  },
  {
   "cell_type": "code",
   "execution_count": null,
   "id": "845d383b",
   "metadata": {},
   "outputs": [],
   "source": [
    "# Filtering by distinctive name (exact match) gives 3,256 missing, 1.4%\n",
    "# So actually, I think we're removing most of the important building UPRNs.\n",
    "# NB several of these seem to be where the UPRN is not within the building polygon.\n",
    "# A fix might be to buffer the points a small amount (~5-10m?) and rerun the intersection.\n",
    "important_buildings.loc[\n",
    "    lambda df: ~df[\"distinctive_name\"].isin(\n",
    "        important_building_uprns[\"distinctive_name\"].unique()\n",
    "    ),\n",
    "    :,\n",
    "]"
   ]
  },
  {
   "cell_type": "markdown",
   "id": "68952bd4",
   "metadata": {},
   "source": [
    "## Buildings and Railway Stations\n",
    "\n",
    "Railway stations are not identified as important buildings and are only given as point locations in the OS OpenMap Local data. If we wanted to exclude them, we first intersect the station points with the buildings layer, and the the selected buildings with the UPRN data.\n",
    "\n",
    "As with important buildings, some stations, particularly those on the London Underground can intersect with large numbers of residential UPRNs."
   ]
  },
  {
   "cell_type": "code",
   "execution_count": null,
   "id": "c10b3c45",
   "metadata": {},
   "outputs": [],
   "source": [
    "# 15m features\n",
    "read_info(filepath, layer=\"building\")"
   ]
  },
  {
   "cell_type": "code",
   "execution_count": null,
   "id": "570ad4e1",
   "metadata": {},
   "outputs": [],
   "source": [
    "railway_stations = geopandas.read_file(filepath, layer=\"railway_station\")"
   ]
  },
  {
   "cell_type": "code",
   "execution_count": null,
   "id": "586ce511",
   "metadata": {
    "scrolled": true
   },
   "outputs": [],
   "source": [
    "railway_station_polys = []\n",
    "\n",
    "for skip in range(0, 15_000_000, 500_000):\n",
    "    buildings = read_dataframe(\n",
    "        filepath, layer=\"building\", skip_features=skip, max_features=500_000\n",
    "    )\n",
    "    railway_station_polys.append(\n",
    "        geopandas.sjoin(buildings, railway_stations, how=\"inner\", predicate=\"contains\")\n",
    "    )\n",
    "    print(skip + 500_000)"
   ]
  },
  {
   "cell_type": "code",
   "execution_count": null,
   "id": "8459ae71",
   "metadata": {},
   "outputs": [],
   "source": [
    "railway_station_polys = geopandas.pd.concat(railway_station_polys).reset_index(\n",
    "    drop=True\n",
    ")"
   ]
  },
  {
   "cell_type": "code",
   "execution_count": null,
   "id": "16123e11",
   "metadata": {},
   "outputs": [],
   "source": [
    "railway_station_polys.to_file(\n",
    "    \"../../inputs/data/os_openmap_local/railways_station_buildings.gpkg\", driver=\"GPKG\"\n",
    ")"
   ]
  },
  {
   "cell_type": "code",
   "execution_count": null,
   "id": "a342ff8c",
   "metadata": {},
   "outputs": [],
   "source": [
    "railway_station_polys = dask_geopandas.read_file(\n",
    "    \"../../inputs/data/os_openmap_local/railways_station_buildings.gpkg\", npartitions=8\n",
    ")"
   ]
  },
  {
   "cell_type": "code",
   "execution_count": null,
   "id": "422c1528",
   "metadata": {},
   "outputs": [],
   "source": [
    "railway_station_polys = railway_station_polys.drop(columns=\"index_right\")"
   ]
  },
  {
   "cell_type": "code",
   "execution_count": null,
   "id": "8dcef687",
   "metadata": {},
   "outputs": [],
   "source": [
    "railway_station_uprns = dask_geopandas.sjoin(\n",
    "    uprn_gdf, railway_station_polys, how=\"inner\", predicate=\"within\"\n",
    ").compute()"
   ]
  },
  {
   "cell_type": "code",
   "execution_count": null,
   "id": "7e21adb2",
   "metadata": {},
   "outputs": [],
   "source": [
    "# In London there is overlap between tube stations and housing.\n",
    "railway_station_uprns.__len__()"
   ]
  },
  {
   "cell_type": "code",
   "execution_count": null,
   "id": "6c68f8fb",
   "metadata": {},
   "outputs": [],
   "source": [
    "railway_station_uprns[\"UPRN\"].unique().__len__()"
   ]
  },
  {
   "cell_type": "code",
   "execution_count": null,
   "id": "b46a9bbf",
   "metadata": {},
   "outputs": [],
   "source": [
    "railway_station_uprns.drop(columns=\"geometry\").to_csv(\n",
    "    \"../../inputs/data/os_openmap_local/railways_station_building_uprns.csv\",\n",
    "    index=False,\n",
    ")"
   ]
  },
  {
   "cell_type": "markdown",
   "id": "71b4d57a",
   "metadata": {},
   "source": [
    "## Building UPRNs\n",
    "\n",
    "Dask geopandas produces memory overflows on sjoin and not enough memory to create a spatial partition, hence this approach.\n",
    "\n",
    "Building feature codes are:\n",
    "15014 - Building\n",
    "15016 - Glasshouse\n",
    "15018 - Air Transport\n",
    "15019 - Education\n",
    "15020 - Medical Care\n",
    "15021 - Road Transport\n",
    "15022 - Water Transport\n",
    "15023 - Emergency Service\n",
    "15024 - Cultural Facility\n",
    "15025 - Religious Buildings\n",
    "15026 - Retail\n",
    "15027 - Sports Or Exercise Facility\n",
    "15028 - Attraction And Leisure\n",
    "\n",
    "We'll exclude the codes that are very unlikely to occur in mixed use with residential, namely: glasshouse, air transport, education, road transport, water transport, emergency service, religious buildings, medical care."
   ]
  },
  {
   "cell_type": "code",
   "execution_count": null,
   "id": "f241b519",
   "metadata": {
    "scrolled": true
   },
   "outputs": [],
   "source": [
    "building_uprns = []\n",
    "\n",
    "for skip in range(0, 15_000_000, 500_000):\n",
    "    buildings = read_dataframe(\n",
    "        filepath,\n",
    "        layer=\"building\",\n",
    "        skip_features=skip,\n",
    "        max_features=500_000,\n",
    "        where=\"feature_code in (15014, 15024, 15026, 15027, 15028)\",\n",
    "    )\n",
    "\n",
    "    buildings = dask_geopandas.from_geopandas(buildings, npartitions=10)\n",
    "\n",
    "    building_uprns.append(\n",
    "        dask_geopandas.sjoin(\n",
    "            uprn_gdf, buildings, how=\"inner\", predicate=\"within\"\n",
    "        ).compute()[\"UPRN\"]\n",
    "    )\n",
    "    print(skip + 500_000)\n",
    "    del buildings"
   ]
  },
  {
   "cell_type": "code",
   "execution_count": null,
   "id": "f0696170",
   "metadata": {},
   "outputs": [],
   "source": [
    "building_uprns = pandas.concat(building_uprns, ignore_index=True)"
   ]
  },
  {
   "cell_type": "code",
   "execution_count": null,
   "id": "8ab8b195",
   "metadata": {},
   "outputs": [],
   "source": [
    "building_uprns.to_csv(\"../../inputs/data/uprn/building_uprns.csv\", index=False)"
   ]
  },
  {
   "cell_type": "code",
   "execution_count": null,
   "id": "3b61048d",
   "metadata": {},
   "outputs": [],
   "source": [
    "building_uprns = dd.read_csv(\"../../inputs/data/uprn/building_uprns.csv\")"
   ]
  },
  {
   "cell_type": "code",
   "execution_count": null,
   "id": "0ea74ac2",
   "metadata": {},
   "outputs": [],
   "source": [
    "uprn_df = uprn_df.merge(building_uprns, how=\"inner\", on=\"UPRN\")"
   ]
  },
  {
   "cell_type": "code",
   "execution_count": null,
   "id": "65c676b9",
   "metadata": {},
   "outputs": [],
   "source": [
    "# 34,320,971\n",
    "uprn_df[\"UPRN\"].unique().__len__()"
   ]
  },
  {
   "cell_type": "code",
   "execution_count": null,
   "id": "b33fe5f2",
   "metadata": {},
   "outputs": [],
   "source": [
    "uprn_df = uprn_df.compute()"
   ]
  },
  {
   "cell_type": "code",
   "execution_count": null,
   "id": "4fbca633",
   "metadata": {},
   "outputs": [],
   "source": [
    "uprn_df.to_csv(\n",
    "    \"../../inputs/data/uprn/osopenuprn_202304_osopenmaplocal_buildings.csv\", index=False\n",
    ")"
   ]
  }
 ],
 "metadata": {
  "jupytext": {
   "cell_metadata_filter": "-all",
   "comment_magics": true
  },
  "kernelspec": {
   "display_name": "asf_kensa_suitability_prototype",
   "language": "python",
   "name": "asf_kensa_suitability_prototype"
  },
  "language_info": {
   "codemirror_mode": {
    "name": "ipython",
    "version": 3
   },
   "file_extension": ".py",
   "mimetype": "text/x-python",
   "name": "python",
   "nbconvert_exporter": "python",
   "pygments_lexer": "ipython3",
   "version": "3.8.17"
  }
 },
 "nbformat": 4,
 "nbformat_minor": 5
}
