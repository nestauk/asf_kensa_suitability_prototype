{
 "cells": [
  {
   "cell_type": "code",
   "execution_count": 1,
   "id": "d647ef5d",
   "metadata": {},
   "outputs": [],
   "source": [
    "import boto3\n",
    "\n",
    "s3 = boto3.client('s3')"
   ]
  },
  {
   "cell_type": "code",
   "execution_count": 4,
   "id": "88a6c919",
   "metadata": {},
   "outputs": [],
   "source": [
    "# Bucket Name\n",
    "bucket = 'asf-kensa-suitability-prototype'"
   ]
  },
  {
   "cell_type": "code",
   "execution_count": 7,
   "id": "06a04a85",
   "metadata": {},
   "outputs": [
    {
     "data": {
      "text/plain": [
       "['data/',\n",
       " 'data/uprn/',\n",
       " 'data/uprn/osopenuprn_202304.csv.zip',\n",
       " 'data/usrn/',\n",
       " 'data/usrn/osopenusrn_202305.gpkg.zip']"
      ]
     },
     "execution_count": 7,
     "metadata": {},
     "output_type": "execute_result"
    }
   ],
   "source": [
    "# Prior Objects\n",
    "[obj['Key'] for obj in s3.list_objects(Bucket=bucket)['Contents']]"
   ]
  },
  {
   "cell_type": "markdown",
   "id": "1a0bd8d1",
   "metadata": {},
   "source": [
    "## Linked Identifiers\n",
    "\n",
    "Source: https://osdatahub.os.uk/downloads/open/LIDS"
   ]
  },
  {
   "cell_type": "code",
   "execution_count": 8,
   "id": "160ea4d5",
   "metadata": {},
   "outputs": [],
   "source": [
    "lids = '../../inputs/data/lids/BLPU_UPRN_Street_USRN_11.csv'"
   ]
  },
  {
   "cell_type": "code",
   "execution_count": 9,
   "id": "815d9603",
   "metadata": {},
   "outputs": [],
   "source": [
    "s3.upload_file(Filename=lids,\n",
    "               Bucket=bucket,\n",
    "               Key=\"data/lids/BLPU_UPRN_Street_USRN_11.csv\")"
   ]
  },
  {
   "cell_type": "markdown",
   "id": "321444a2",
   "metadata": {},
   "source": [
    "## LSOAs\n",
    "\n",
    "Sourced from ONS geoportal and Scottish Government."
   ]
  },
  {
   "cell_type": "code",
   "execution_count": 11,
   "id": "b286f18f",
   "metadata": {},
   "outputs": [],
   "source": [
    "lsoa_21 = '../../inputs/data/lsoa/LSOA_2021_EW_BSC_1975544170032131431.gpkg'\n",
    "lsoa_21_gen = '../../inputs/data/lsoa/LSOA_Dec_2021_Boundaries_Generalised_Clipped_EW_BGC_V2_-6143458911719931546.gpkg'\n",
    "lsoa_11 = '../../inputs/data/lsoa/LSOA_Dec_2011_Boundaries_Generalised_Clipped_BGC_EW_V3_-1005832519865330139.gpkg'\n",
    "scot_lsoa_11 = '../../inputs/data/lsoa/SG_DataZoneBdry_2011.zip'"
   ]
  },
  {
   "cell_type": "code",
   "execution_count": 12,
   "id": "83895d2c",
   "metadata": {},
   "outputs": [],
   "source": [
    "s3.upload_file(Filename=lsoa_21,\n",
    "               Bucket=bucket,\n",
    "               Key=\"data/lsoa/LSOA_2021_EW_BSC_1975544170032131431.gpkg\")"
   ]
  },
  {
   "cell_type": "code",
   "execution_count": 13,
   "id": "4c8d7276",
   "metadata": {},
   "outputs": [],
   "source": [
    "s3.upload_file(Filename=lsoa_21_gen,\n",
    "               Bucket=bucket,\n",
    "               Key=\"data/lsoa/LSOA_Dec_2021_Boundaries_Generalised_Clipped_EW_BGC_V2_-6143458911719931546.gpkg\")"
   ]
  },
  {
   "cell_type": "code",
   "execution_count": 14,
   "id": "c8a509d8",
   "metadata": {},
   "outputs": [],
   "source": [
    "s3.upload_file(Filename=lsoa_11,\n",
    "               Bucket=bucket,\n",
    "               Key=\"data/lsoa/LSOA_Dec_2011_Boundaries_Generalised_Clipped_BGC_EW_V3_-1005832519865330139.gpkg\")"
   ]
  },
  {
   "cell_type": "code",
   "execution_count": 15,
   "id": "038afa0f",
   "metadata": {},
   "outputs": [],
   "source": [
    "s3.upload_file(Filename=scot_lsoa_11,\n",
    "               Bucket=bucket,\n",
    "               Key=\"data/lsoa/SG_DataZoneBdry_2011.zip\")"
   ]
  },
  {
   "cell_type": "markdown",
   "id": "714b5f3b",
   "metadata": {},
   "source": [
    "## OS OpenMap Local\n",
    "\n",
    "Source: https://osdatahub.os.uk/downloads/open/OpenMapLocal"
   ]
  },
  {
   "cell_type": "code",
   "execution_count": 18,
   "id": "ba8dfeb6",
   "metadata": {},
   "outputs": [],
   "source": [
    "openmap = '../../inputs/data/os_openmap_local/Data/opmplc_gb.gpkg'"
   ]
  },
  {
   "cell_type": "code",
   "execution_count": 19,
   "id": "cdfecb7d",
   "metadata": {},
   "outputs": [],
   "source": [
    "s3.upload_file(Filename=openmap,\n",
    "               Bucket=bucket,\n",
    "               Key=\"data/os_openmap_local/opmplc_gb.gpkg\")"
   ]
  },
  {
   "cell_type": "markdown",
   "id": "47c6498f",
   "metadata": {},
   "source": [
    "## Tables\n",
    "\n",
    "IMD England and Wales estimates - https://www.gov.uk/government/statistics/indices-of-deprivation-2019-income-and-employment-domains-combined-for-england-and-wales\n",
    "\n",
    "Experimental income data - https://www.ons.gov.uk/peoplepopulationandcommunity/personalandhouseholdfinances/incomeandwealth/articles/adminbasedincomestatisticsenglandandwales/taxyearending2018\n",
    "\n",
    "lsoa lookup - from ONS geoportal\n",
    "\n",
    "Census Tables - from ONS Census site"
   ]
  },
  {
   "cell_type": "code",
   "execution_count": 20,
   "id": "ee48e0d4",
   "metadata": {},
   "outputs": [],
   "source": [
    "imd_ew = \"../../inputs/data/tables/2019_Income_and_Employment_Domains_-_England_and_Wales.ods\"\n",
    "income = \"../../inputs/data/tables/experimentalabisoccupiedaddresstaxyearending2018.xlsx\"\n",
    "lsoa_lookup = \"../../inputs/data/tables/LSOA_(2011)_to_LSOA_(2021)_to_Local_Authority_District_(2022)_Lookup_for_England_and_Wales_(Version_2).csv\"\n",
    "rural_urban_classification = \"../../inputs/data/tables/Rural_Urban_Classification_2011_lookup_tables_for_small_area_geographies.ods\"\n",
    "census_table_1 = \"../../inputs/data/tables/custom-filtered-2023-07-20T12_47_48Z.csv\"\n",
    "census_table_2 = \"../../inputs/data/tables/TS054-2021-4-filtered-2023-07-19T08_48_38Z.csv\""
   ]
  },
  {
   "cell_type": "code",
   "execution_count": 21,
   "id": "671052de",
   "metadata": {},
   "outputs": [],
   "source": [
    "s3.upload_file(Filename=imd_ew,\n",
    "               Bucket=bucket,\n",
    "               Key=\"data/tables/2019_Income_and_Employment_Domains_-_England_and_Wales.ods\")"
   ]
  },
  {
   "cell_type": "code",
   "execution_count": 22,
   "id": "5e78ea53",
   "metadata": {},
   "outputs": [],
   "source": [
    "s3.upload_file(Filename=income,\n",
    "               Bucket=bucket,\n",
    "               Key=\"data/tables/experimentalabisoccupiedaddresstaxyearending2018.xlsx\")"
   ]
  },
  {
   "cell_type": "code",
   "execution_count": 23,
   "id": "c047ab8b",
   "metadata": {},
   "outputs": [],
   "source": [
    "s3.upload_file(Filename=lsoa_lookup,\n",
    "               Bucket=bucket,\n",
    "               Key=\"data/tables/LSOA_(2011)_to_LSOA_(2021)_to_Local_Authority_District_(2022)_Lookup_for_England_and_Wales_(Version_2).csv\")"
   ]
  },
  {
   "cell_type": "code",
   "execution_count": 24,
   "id": "43f13ad0",
   "metadata": {},
   "outputs": [],
   "source": [
    "s3.upload_file(Filename=rural_urban_classification,\n",
    "               Bucket=bucket,\n",
    "               Key=\"data/tables/Rural_Urban_Classification_2011_lookup_tables_for_small_area_geographies.ods\")"
   ]
  },
  {
   "cell_type": "code",
   "execution_count": 25,
   "id": "e2206b4a",
   "metadata": {},
   "outputs": [],
   "source": [
    "s3.upload_file(Filename=census_table_1,\n",
    "               Bucket=bucket,\n",
    "               Key=\"data/tables/custom-filtered-2023-07-20T12_47_48Z.csv\")"
   ]
  },
  {
   "cell_type": "code",
   "execution_count": 26,
   "id": "ebe58737",
   "metadata": {},
   "outputs": [],
   "source": [
    "s3.upload_file(Filename=census_table_2,\n",
    "               Bucket=bucket,\n",
    "               Key=\"data/tables/TS054-2021-4-filtered-2023-07-19T08_48_38Z.csv\")"
   ]
  },
  {
   "cell_type": "markdown",
   "id": "439b3826",
   "metadata": {},
   "source": [
    "## Urban Form\n",
    "\n",
    "Source: https://urbangrammarai.xyz/blog/post28_proceedings.html"
   ]
  },
  {
   "cell_type": "code",
   "execution_count": 27,
   "id": "84dddead",
   "metadata": {},
   "outputs": [],
   "source": [
    "urban_form = \"../../inputs/data/urban_form/signatures_form_simplified.gpkg\""
   ]
  },
  {
   "cell_type": "code",
   "execution_count": 28,
   "id": "95f67268",
   "metadata": {},
   "outputs": [],
   "source": [
    "s3.upload_file(Filename=urban_form,\n",
    "               Bucket=bucket,\n",
    "               Key=\"data/urban_form/signatures_form_simplified.gpkg\")"
   ]
  }
 ],
 "metadata": {
  "jupytext": {
   "cell_metadata_filter": "-all",
   "comment_magics": true
  },
  "kernelspec": {
   "display_name": "Python 3 (ipykernel)",
   "language": "python",
   "name": "python3"
  },
  "language_info": {
   "codemirror_mode": {
    "name": "ipython",
    "version": 3
   },
   "file_extension": ".py",
   "mimetype": "text/x-python",
   "name": "python",
   "nbconvert_exporter": "python",
   "pygments_lexer": "ipython3",
   "version": "3.8.17"
  }
 },
 "nbformat": 4,
 "nbformat_minor": 5
}
