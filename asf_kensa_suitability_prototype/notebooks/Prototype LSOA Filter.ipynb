{
 "cells": [
  {
   "cell_type": "code",
   "execution_count": null,
   "id": "2b592753",
   "metadata": {},
   "outputs": [],
   "source": [
    "import geopandas\n",
    "import pandas\n",
    "from matplotlib import pyplot\n",
    "from scipy.stats import burr12, gaussian_kde\n",
    "import numpy\n",
    "from matplotlib_venn import venn3"
   ]
  },
  {
   "cell_type": "markdown",
   "id": "6e077ec1",
   "metadata": {},
   "source": [
    "## Aim\n",
    "\n",
    "In this notebook we will aim to demonstrate the potential to pre-qualify small -areas (LSOAs for convenience) according to three dimensions - density, tenure and ability to pay.\n",
    "\n",
    "Density is the LSOA aggregated measure of UPRNs per USRN km.\n",
    "Tenure is based on the proportion of owner occupiers in the LSOA.\n",
    "Ability to pay is the proportion of the LSOA earning over a given amount.\n",
    "\n",
    "There are broadly two approaches we can take methodologically - we can use a binary threshold to filter, meaning LSOAs are either 'in' or 'out', or we can score/rank the LSOAs and create a continuous representation of pre-qualification suitability.\n",
    "\n",
    "In this prototype, for convenience we'll trial a binary approach. However, key to a binary approach is the use of meaningful thresholds. Identifying these would be a task for future work, so for now we'll use some arbitrary candidate values.\n",
    "\n",
    "Finally, as the Scottish Census hasn't been published yet and the incomes data only covers England and Wales, England and Wales will be the focus of the filtering. Future work will have to look at how to integrate Scotland."
   ]
  },
  {
   "cell_type": "code",
   "execution_count": null,
   "id": "ef4d7446",
   "metadata": {},
   "outputs": [],
   "source": [
    "# Processed street density data path\n",
    "street_data = \"../../inputs/data/lsoa/uprn_street_density_lsoa_2021.csv\"\n",
    "\n",
    "# lsoa polygons from https://geoportal.statistics.gov.uk/maps/766da1380a3544c5a7ca9131dfd4acb6\n",
    "lsoa_path = \"../../inputs/data/lsoa/LSOA_Dec_2021_Boundaries_Generalised_Clipped_EW_BGC_V2_-6143458911719931546.gpkg\"\n",
    "\n",
    "# Tenure data\n",
    "tenure_path = \"../../inputs/data/tables/TS054-2021-4-filtered-2023-07-19T08_48_38Z.csv\"\n",
    "\n",
    "# Income data\n",
    "income = (\n",
    "    \"../../inputs/data/tables/experimentalabisoccupiedaddresstaxyearending2018.xlsx\"\n",
    ")\n",
    "\n",
    "# Income distribution fits\n",
    "income_fits_path = \"../../outputs/tables/lsoa_income_fits.parquet\"\n",
    "\n",
    "# Lsoa lookup\n",
    "lookup = \"../../inputs/data/tables/LSOA_(2011)_to_LSOA_(2021)_to_Local_Authority_District_(2022)_Lookup_for_England_and_Wales_(Version_2).csv\""
   ]
  },
  {
   "cell_type": "code",
   "execution_count": null,
   "id": "94ff7b32",
   "metadata": {},
   "outputs": [],
   "source": [
    "# Density data\n",
    "density = pandas.read_csv(street_data)\n",
    "\n",
    "# Lsoas\n",
    "lsoa = geopandas.read_file(lsoa_path)\n",
    "\n",
    "# Get eng/wales tenure data\n",
    "tenure = pandas.read_csv(tenure_path)\n",
    "\n",
    "# Income\n",
    "income = pandas.read_excel(income, sheet_name=\"Net Occupied Address LSOA\", skiprows=2)\n",
    "\n",
    "# Income fits\n",
    "income_fits = pandas.read_parquet(income_fits_path)\n",
    "\n",
    "# lsoa lookup\n",
    "lookup = pandas.read_csv(lookup)"
   ]
  },
  {
   "cell_type": "code",
   "execution_count": null,
   "id": "624d97d9",
   "metadata": {},
   "outputs": [],
   "source": [
    "# Derive tenure stat - owner_occupier_prop\n",
    "tenure = (\n",
    "    tenure.pivot(\n",
    "        index=\"Lower layer Super Output Areas Code\",\n",
    "        columns=\"Tenure of household (9 categories)\",\n",
    "        values=\"Observation\",\n",
    "    )\n",
    "    .assign(total=lambda df: df.sum(axis=1))\n",
    "    .reset_index()\n",
    "    .rename_axis(None, axis=1)\n",
    "    .assign(\n",
    "        owner_occupier_prop=lambda df: df[\n",
    "            [\"Owned: Owns outright\", \"Owned: Owns with a mortgage or loan\"]\n",
    "        ].sum(axis=1)\n",
    "        / df[\"total\"]\n",
    "    )\n",
    ")"
   ]
  },
  {
   "cell_type": "code",
   "execution_count": null,
   "id": "e3f3ce9f",
   "metadata": {},
   "outputs": [],
   "source": [
    "def get_prop(row: pandas.Series, value: float) -> float:\n",
    "    k, s, scale = row[\"burrxii_params\"]\n",
    "    prop = burr12(k, s, scale=scale).cdf(value)\n",
    "    return 1 - prop\n",
    "\n",
    "\n",
    "# merge income and params, create some income thresholds\n",
    "income = (\n",
    "    pandas.concat([income, income_fits[\"burrxii_params\"]], axis=1)\n",
    "    .assign(\n",
    "        prop_20k=lambda df: df.apply(lambda row: get_prop(row, 20_000), axis=1),\n",
    "        prop_30k=lambda df: df.apply(lambda row: get_prop(row, 30_000), axis=1),\n",
    "        prop_40k=lambda df: df.apply(lambda row: get_prop(row, 40_000), axis=1),\n",
    "        prop_50k=lambda df: df.apply(lambda row: get_prop(row, 50_000), axis=1),\n",
    "        prop_60k=lambda df: df.apply(lambda row: get_prop(row, 60_000), axis=1),\n",
    "        prop_70k=lambda df: df.apply(lambda row: get_prop(row, 70_000), axis=1),\n",
    "        prop_80k=lambda df: df.apply(lambda row: get_prop(row, 80_000), axis=1),\n",
    "    )\n",
    "    .merge(lookup[[\"LSOA11CD\", \"LSOA21CD\"]], left_on=\"LSOA code\", right_on=\"LSOA11CD\")\n",
    "    .groupby(\"LSOA21CD\", as_index=False)\n",
    "    .agg(\n",
    "        {\n",
    "            \"prop_20k\": \"mean\",\n",
    "            \"prop_30k\": \"mean\",\n",
    "            \"prop_40k\": \"mean\",\n",
    "            \"prop_50k\": \"mean\",\n",
    "            \"prop_60k\": \"mean\",\n",
    "            \"prop_70k\": \"mean\",\n",
    "            \"prop_80k\": \"mean\",\n",
    "        }\n",
    "    )\n",
    ")"
   ]
  },
  {
   "cell_type": "code",
   "execution_count": null,
   "id": "7471fe00",
   "metadata": {},
   "outputs": [],
   "source": [
    "# Merge Data\n",
    "lsoa = (\n",
    "    lsoa.merge(density, on=\"LSOA21NM\")\n",
    "    .merge(tenure, left_on=\"LSOA21CD\", right_on=\"Lower layer Super Output Areas Code\")\n",
    "    .merge(income, on=\"LSOA21CD\")\n",
    ")"
   ]
  },
  {
   "cell_type": "markdown",
   "id": "6e8e80b5",
   "metadata": {},
   "source": [
    "## Some Univariate Statistics\n",
    "\n",
    "### Average Street Density\n"
   ]
  },
  {
   "cell_type": "code",
   "execution_count": null,
   "id": "812ebf76",
   "metadata": {},
   "outputs": [],
   "source": [
    "f, ax = pyplot.subplots(figsize=(8, 5))\n",
    "\n",
    "xs = numpy.linspace(0, 1000, 1001)\n",
    "z = gaussian_kde(\n",
    "    lsoa.loc[lsoa[\"average_street_density\"] < 1000, \"average_street_density\"]\n",
    ")(xs)\n",
    "\n",
    "ax.plot(xs, z)\n",
    "ax.set_xlabel(\"Mean Linear Density (UPRNS/USRN km)\")\n",
    "ax.set_ylabel(\"Density\")\n",
    "ax.grid()\n",
    "ax.set_title(\"Distribution of Linear Density, LSOAs, England and Wales\")"
   ]
  },
  {
   "cell_type": "code",
   "execution_count": null,
   "id": "b0734ec2",
   "metadata": {},
   "outputs": [],
   "source": [
    "# Look instead at percentiles\n",
    "percentiles = numpy.linspace(0, 1, 1001)\n",
    "values = lsoa[\"average_street_density\"].quantile(percentiles)\n",
    "\n",
    "f, ax = pyplot.subplots(figsize=(8, 5))\n",
    "\n",
    "ax.plot(percentiles, numpy.log(values))\n",
    "ax.axvline(0.131, linestyle=\"dashed\", ymax=0.42)\n",
    "ax.axvline(0.947, linestyle=\"dashed\", ymax=0.67)\n",
    "ax.axhline(4.165358494623148, linestyle=\"dashed\", xmax=0.165)  # 64.41577101220506\n",
    "ax.axhline(5.966119839252738, linestyle=\"dashed\", xmax=0.9)  # 389.98950919142936\n",
    "\n",
    "ax.set_xlabel(\"LSOA percentile, England And Wales\")\n",
    "ax.set_ylabel(\"Log Mean Linear Density (UPRNs/USRN km)\")\n",
    "ax.set_title(\"Turning points in the LSOA distribution of linear density\")"
   ]
  },
  {
   "cell_type": "code",
   "execution_count": null,
   "id": "8fe27baf",
   "metadata": {},
   "outputs": [],
   "source": [
    "def turning_points(array):\n",
    "    \"\"\"turning_points(array) -> min_indices, max_indices\n",
    "    Finds the turning points within an 1D array and returns the indices of the minimum and\n",
    "    maximum turning points in two separate lists.\n",
    "    \"\"\"\n",
    "    idx_max, idx_min = [], []\n",
    "    if len(array) < 3:\n",
    "        return idx_min, idx_max\n",
    "\n",
    "    NEUTRAL, RISING, FALLING = range(3)\n",
    "\n",
    "    def get_state(a, b):\n",
    "        if a < b:\n",
    "            return RISING\n",
    "        if a > b:\n",
    "            return FALLING\n",
    "        return NEUTRAL\n",
    "\n",
    "    ps = get_state(array[0], array[1])\n",
    "    begin = 1\n",
    "    for i in range(2, len(array)):\n",
    "        s = get_state(array[i - 1], array[i])\n",
    "        if s != NEUTRAL:\n",
    "            if ps != NEUTRAL and ps != s:\n",
    "                if s == FALLING:\n",
    "                    idx_max.append((begin + i - 1) // 2)\n",
    "                else:\n",
    "                    idx_min.append((begin + i - 1) // 2)\n",
    "            begin = i\n",
    "            ps = s\n",
    "    return idx_min, idx_max"
   ]
  },
  {
   "cell_type": "code",
   "execution_count": null,
   "id": "cd6ca41a",
   "metadata": {},
   "outputs": [],
   "source": [
    "turning_points(\n",
    "    numpy.log(values.to_list())\n",
    "    - (numpy.log(values.to_list()).max() * numpy.arange(0.00, 1.001, 0.001))\n",
    ")"
   ]
  },
  {
   "cell_type": "code",
   "execution_count": null,
   "id": "729a9cbd",
   "metadata": {},
   "outputs": [],
   "source": [
    "lsoa[\"average_street_density\"].between(64, 390).sum()"
   ]
  },
  {
   "cell_type": "markdown",
   "id": "eae5f469",
   "metadata": {},
   "source": [
    "### Owner Occupiers"
   ]
  },
  {
   "cell_type": "code",
   "execution_count": null,
   "id": "33b4e44f",
   "metadata": {},
   "outputs": [],
   "source": [
    "f, ax = pyplot.subplots(figsize=(8, 5))\n",
    "\n",
    "xs = numpy.linspace(0, 1, 1001)\n",
    "z = gaussian_kde(lsoa[\"owner_occupier_prop\"])(xs)\n",
    "\n",
    "ax.plot(xs, z)\n",
    "ax.set_xlabel(\"Owner Occupier Proportion\")\n",
    "ax.set_ylabel(\"Density\")\n",
    "ax.grid()\n",
    "ax.set_title(\"Distribution of Owner Occupier Proportions, LSOAs, England and Wales\")"
   ]
  },
  {
   "cell_type": "markdown",
   "id": "c5f1e1b7",
   "metadata": {},
   "source": [
    "### Proportion at Income Thresholds"
   ]
  },
  {
   "cell_type": "code",
   "execution_count": null,
   "id": "76401459",
   "metadata": {},
   "outputs": [],
   "source": [
    "f, ax = pyplot.subplots(figsize=(8, 5))\n",
    "\n",
    "# 20k\n",
    "xs = numpy.linspace(0, 1, 1001)\n",
    "z = gaussian_kde(lsoa[\"prop_20k\"])(xs)\n",
    "mode20 = xs[numpy.argmax(z)]\n",
    "ax.plot(xs, z, color=\"#e41a1c\", label=\">£20k\")\n",
    "\n",
    "# 30k\n",
    "xs = numpy.linspace(0, 1, 1001)\n",
    "z = gaussian_kde(lsoa[\"prop_30k\"])(xs)\n",
    "mode30 = xs[numpy.argmax(z)]\n",
    "ax.plot(xs, z, color=\"#377eb8\", label=\">£30k\")\n",
    "\n",
    "# 40k\n",
    "xs = numpy.linspace(0, 1, 1001)\n",
    "z = gaussian_kde(lsoa[\"prop_40k\"])(xs)\n",
    "mode40 = xs[numpy.argmax(z)]\n",
    "ax.plot(xs, z, color=\"#4daf4a\", label=\">£40k\")\n",
    "\n",
    "# 50k\n",
    "xs = numpy.linspace(0, 1, 1001)\n",
    "z = gaussian_kde(lsoa[\"prop_50k\"])(xs)\n",
    "mode50 = xs[numpy.argmax(z)]\n",
    "ax.plot(xs, z, color=\"#984ea3\", label=\">£50k\")\n",
    "\n",
    "# 60k\n",
    "xs = numpy.linspace(0, 1, 1001)\n",
    "z = gaussian_kde(lsoa[\"prop_60k\"])(xs)\n",
    "mode60 = xs[numpy.argmax(z)]\n",
    "ax.plot(xs, z, color=\"#ff7f00\", label=\">£60k\")\n",
    "\n",
    "# 70k\n",
    "# xs = numpy.linspace(0, 1, 1001)\n",
    "# z = gaussian_kde(lsoa['prop_70k'])(xs)\n",
    "# ax.plot(xs, z, color='#ffff33', label='£70k')\n",
    "\n",
    "# 80k\n",
    "# xs = numpy.linspace(0, 1, 1001)\n",
    "# z = gaussian_kde(lsoa['prop_80k'])(xs)\n",
    "# ax.plot(xs, z, color='#a65628', label='£80k')\n",
    "\n",
    "ax.legend()\n",
    "ax.set_xlabel(\"Income Proportion\")\n",
    "ax.set_ylabel(\"Density\")\n",
    "ax.grid()\n",
    "ax.set_title(\"Distribution of Income Proportions, LSOAs, England and Wales\")"
   ]
  },
  {
   "cell_type": "code",
   "execution_count": null,
   "id": "95686371",
   "metadata": {},
   "outputs": [],
   "source": [
    "mode20, mode30, mode40, mode50, mode60"
   ]
  },
  {
   "cell_type": "markdown",
   "id": "86303fa1",
   "metadata": {},
   "source": [
    "### Multivariate Analysis"
   ]
  },
  {
   "cell_type": "code",
   "execution_count": null,
   "id": "fcf99570",
   "metadata": {},
   "outputs": [],
   "source": [
    "# basic filters\n",
    "density_filter = lsoa[\"average_street_density\"].between(64, 390)\n",
    "tenure_filter = lsoa[\"owner_occupier_prop\"] > 0.5\n",
    "income_filter = lsoa[\"prop_30k\"] > 0.5"
   ]
  },
  {
   "cell_type": "code",
   "execution_count": null,
   "id": "c53b8071",
   "metadata": {},
   "outputs": [],
   "source": [
    "(density_filter & tenure_filter & income_filter).sum()"
   ]
  },
  {
   "cell_type": "code",
   "execution_count": null,
   "id": "622af711",
   "metadata": {},
   "outputs": [],
   "source": [
    "f, ax = pyplot.subplots(figsize=(7, 6))\n",
    "\n",
    "venn3(\n",
    "    subsets=(\n",
    "        (density_filter & ~(tenure_filter | income_filter)).sum(),\n",
    "        (tenure_filter & ~(density_filter | income_filter)).sum(),\n",
    "        (tenure_filter & density_filter & ~income_filter).sum(),\n",
    "        (income_filter & ~(tenure_filter | density_filter)).sum(),\n",
    "        (~tenure_filter & density_filter & income_filter).sum(),\n",
    "        (tenure_filter & ~density_filter & income_filter).sum(),\n",
    "        (density_filter & tenure_filter & income_filter).sum(),\n",
    "    ),\n",
    "    set_labels=(\n",
    "        \"Density Filter\\n(64 - 390 UPRNs/km)\",\n",
    "        \"Tenure Filter\\n(>50% owner occupier)\",\n",
    "        \"Income Filter\\n(>50% £30k+)\",\n",
    "    ),\n",
    "    ax=ax,\n",
    ")"
   ]
  },
  {
   "cell_type": "code",
   "execution_count": null,
   "id": "64088bf2",
   "metadata": {},
   "outputs": [],
   "source": [
    "numpy.sum(\n",
    "    (\n",
    "        (density_filter & ~(tenure_filter | income_filter)).sum(),\n",
    "        (tenure_filter & ~(density_filter | income_filter)).sum(),\n",
    "        (tenure_filter & density_filter & ~income_filter).sum(),\n",
    "        (income_filter & ~(tenure_filter | density_filter)).sum(),\n",
    "        (~tenure_filter & density_filter & income_filter).sum(),\n",
    "        (tenure_filter & ~density_filter & income_filter).sum(),\n",
    "        (density_filter & tenure_filter & income_filter).sum(),\n",
    "    )\n",
    ")"
   ]
  },
  {
   "cell_type": "code",
   "execution_count": null,
   "id": "ba0f1de5",
   "metadata": {},
   "outputs": [],
   "source": [
    "lsoa[(density_filter & tenure_filter & income_filter)][\"total\"].sum()"
   ]
  },
  {
   "cell_type": "code",
   "execution_count": null,
   "id": "4bcd3e97",
   "metadata": {},
   "outputs": [],
   "source": [
    "count_dense = []\n",
    "for val in range(64, 391):\n",
    "    # basic filters\n",
    "    density_filter = lsoa[\"average_street_density\"].between(val, 390)\n",
    "    tenure_filter = lsoa[\"owner_occupier_prop\"] > 0.5\n",
    "    income_filter = lsoa[\"prop_30k\"] > 0.5\n",
    "    count_dense.append((density_filter & tenure_filter & income_filter).sum())\n",
    "\n",
    "count_tenure = []\n",
    "for val in numpy.linspace(0.5, 1, 51):\n",
    "    # basic filters\n",
    "    density_filter = lsoa[\"average_street_density\"].between(64, 390)\n",
    "    tenure_filter = lsoa[\"owner_occupier_prop\"] > val\n",
    "    income_filter = lsoa[\"prop_30k\"] > 0.5\n",
    "    count_tenure.append((density_filter & tenure_filter & income_filter).sum())\n",
    "\n",
    "count_income = []\n",
    "for val in numpy.linspace(0.5, 1, 51):\n",
    "    # basic filters\n",
    "    density_filter = lsoa[\"average_street_density\"].between(64, 390)\n",
    "    tenure_filter = lsoa[\"owner_occupier_prop\"] > 0.5\n",
    "    income_filter = lsoa[\"prop_30k\"] > val\n",
    "    count_income.append((density_filter & tenure_filter & income_filter).sum())"
   ]
  },
  {
   "cell_type": "code",
   "execution_count": null,
   "id": "719b1257",
   "metadata": {},
   "outputs": [],
   "source": [
    "f, [ax1, ax2, ax3] = pyplot.subplots(1, 3, figsize=(12, 3), sharey=True)\n",
    "\n",
    "ax1.plot(range(64, 391), count_dense)\n",
    "ax2.plot(numpy.linspace(0.5, 1, 51), count_tenure)\n",
    "ax3.plot(numpy.linspace(0.5, 1, 51), count_income)\n",
    "\n",
    "ax1.set_xlabel(\"Linear Property Density\")\n",
    "ax2.set_xlabel(\"Owner Occupier Proportion\")\n",
    "ax3.set_xlabel(\"£30k+ Income Proportion\")\n",
    "ax1.set_ylabel(\"Count of LSOAs\")\n",
    "\n",
    "ax2.set_title(\"Filter Sensitivity Holding Other Criteria Constant\")"
   ]
  },
  {
   "cell_type": "code",
   "execution_count": null,
   "id": "91744184",
   "metadata": {},
   "outputs": [],
   "source": [
    "eng_wal = (\n",
    "    geopandas.read_file(\n",
    "        \"https://services1.arcgis.com/ESMARspQHYMw9BZ9/arcgis/rest/services/Countries_December_2022_GB_BGC/FeatureServer/0/query?outFields=*&where=1%3D1&f=geojson\"\n",
    "    )\n",
    "    .loc[lambda df: df[\"CTRY22NM\"].isin([\"England\", \"Wales\"])]\n",
    "    .to_crs(27700)\n",
    ")"
   ]
  },
  {
   "cell_type": "code",
   "execution_count": null,
   "id": "65061df2",
   "metadata": {
    "lines_to_next_cell": 2
   },
   "outputs": [],
   "source": [
    "f, [ax1, ax2, ax3] = pyplot.subplots(1, 3, figsize=(12, 5), sharex=True, sharey=True)\n",
    "\n",
    "# ax1 - density\n",
    "lsoa.loc[density_filter].plot(color=\"#ff9999\", edgecolor=\"none\", zorder=2, ax=ax1)\n",
    "eng_wal.plot(facecolor=\"0.9\", edgecolor=\"none\", zorder=1, ax=ax1)\n",
    "ax1.set_axis_off()\n",
    "ax1.set_title(\"Density (64 - 390 UPRNs/km)\")\n",
    "\n",
    "# ax2 - Owner Occupier\n",
    "lsoa.loc[tenure_filter].plot(color=\"#99cc99\", edgecolor=\"none\", zorder=2, ax=ax2)\n",
    "eng_wal.plot(facecolor=\"0.9\", edgecolor=\"none\", zorder=1, ax=ax2)\n",
    "ax2.set_axis_off()\n",
    "ax2.set_title(\"Owner Occupiers (>50%)\")\n",
    "\n",
    "# ax3 - Income Filter\n",
    "lsoa.loc[income_filter].plot(color=\"#9999ff\", edgecolor=\"none\", zorder=2, ax=ax3)\n",
    "eng_wal.plot(facecolor=\"0.9\", edgecolor=\"none\", zorder=1, ax=ax3)\n",
    "ax3.set_axis_off()\n",
    "ax3.set_title(\"£30k+ Net Household Income (>50%)\")"
   ]
  },
  {
   "cell_type": "code",
   "execution_count": null,
   "id": "40a82883",
   "metadata": {},
   "outputs": [],
   "source": [
    "# calculate venn classes\n",
    "\n",
    "lsoa.loc[\n",
    "    lambda df: (density_filter & ~(tenure_filter | income_filter)), \"venn_class\"\n",
    "] = 1\n",
    "lsoa.loc[\n",
    "    lambda df: (tenure_filter & ~(density_filter | income_filter)), \"venn_class\"\n",
    "] = 2\n",
    "lsoa.loc[lambda df: (tenure_filter & density_filter & ~income_filter), \"venn_class\"] = 3\n",
    "lsoa.loc[\n",
    "    lambda df: (income_filter & ~(tenure_filter | density_filter)), \"venn_class\"\n",
    "] = 4\n",
    "lsoa.loc[lambda df: (~tenure_filter & density_filter & income_filter), \"venn_class\"] = 5\n",
    "lsoa.loc[lambda df: (tenure_filter & ~density_filter & income_filter), \"venn_class\"] = 6\n",
    "lsoa.loc[lambda df: (density_filter & tenure_filter & income_filter), \"venn_class\"] = 7"
   ]
  },
  {
   "cell_type": "code",
   "execution_count": null,
   "id": "eb983142",
   "metadata": {},
   "outputs": [],
   "source": [
    "colors = {\n",
    "    1: \"#ff9999\",\n",
    "    2: \"#99cc99\",\n",
    "    3: \"#e0bc99\",\n",
    "    4: \"#9999ff\",\n",
    "    5: \"#da95da\",\n",
    "    6: \"#99bce0\",\n",
    "    7: \"#c1adc1\",\n",
    "}"
   ]
  },
  {
   "cell_type": "code",
   "execution_count": null,
   "id": "cf2249a7",
   "metadata": {},
   "outputs": [],
   "source": [
    "f, [ax1, ax2] = pyplot.subplots(1, 2, figsize=(12, 7))\n",
    "\n",
    "# ax1\n",
    "(\n",
    "    lsoa.plot(\n",
    "        facecolor=lsoa[\"venn_class\"].map(colors).fillna(\"0.9\"),\n",
    "        edgecolor=lsoa[\"venn_class\"].map(colors).fillna(\"0.9\"),\n",
    "        linewidth=0.5,\n",
    "        zorder=2,\n",
    "        ax=ax1,\n",
    "    )\n",
    ")\n",
    "eng_wal.plot(facecolor=\"0.9\", edgecolor=\"none\", zorder=1, ax=ax1)\n",
    "ax1.set_axis_off()\n",
    "\n",
    "# ax2\n",
    "(\n",
    "    lsoa.loc[lambda df: df[\"venn_class\"] == 7].plot(\n",
    "        facecolor=\"#c1adc1\", edgecolor=\"#c1adc1\", linewidth=0.5, zorder=2, ax=ax2\n",
    "    )\n",
    ")\n",
    "eng_wal.plot(facecolor=\"0.9\", edgecolor=\"none\", zorder=1, ax=ax2)\n",
    "ax2.set_axis_off()"
   ]
  },
  {
   "cell_type": "markdown",
   "id": "88e185bb",
   "metadata": {},
   "source": [
    "## Ranking within Selected Region"
   ]
  },
  {
   "cell_type": "code",
   "execution_count": null,
   "id": "788790bc",
   "metadata": {},
   "outputs": [],
   "source": [
    "rank_lsoa = lsoa.loc[lambda df: df[\"venn_class\"] == 7]"
   ]
  },
  {
   "cell_type": "code",
   "execution_count": null,
   "id": "bcf7989f",
   "metadata": {},
   "outputs": [],
   "source": [
    "# Range standardise the inputs\n",
    "rank_lsoa[\"std_average_street_density\"] = (\n",
    "    rank_lsoa[\"average_street_density\"] - rank_lsoa[\"average_street_density\"].min()\n",
    ") / (\n",
    "    rank_lsoa[\"average_street_density\"].max()\n",
    "    - rank_lsoa[\"average_street_density\"].min()\n",
    ")\n",
    "rank_lsoa[\"std_owner_occupier_prop\"] = (\n",
    "    rank_lsoa[\"owner_occupier_prop\"] - rank_lsoa[\"owner_occupier_prop\"].min()\n",
    ") / (rank_lsoa[\"owner_occupier_prop\"].max() - rank_lsoa[\"owner_occupier_prop\"].min())\n",
    "rank_lsoa[\"std_prop_30k\"] = (rank_lsoa[\"prop_30k\"] - rank_lsoa[\"prop_30k\"].min()) / (\n",
    "    rank_lsoa[\"prop_30k\"].max() - rank_lsoa[\"prop_30k\"].min()\n",
    ")"
   ]
  },
  {
   "cell_type": "code",
   "execution_count": null,
   "id": "b958f18e",
   "metadata": {},
   "outputs": [],
   "source": [
    "pandas.plotting.scatter_matrix(\n",
    "    rank_lsoa[\n",
    "        [\"std_average_street_density\", \"std_owner_occupier_prop\", \"std_prop_30k\"]\n",
    "    ],\n",
    "    figsize=(8, 8),\n",
    ")"
   ]
  },
  {
   "cell_type": "code",
   "execution_count": null,
   "id": "9841334e",
   "metadata": {},
   "outputs": [],
   "source": [
    "rank_lsoa[\n",
    "    [\"std_average_street_density\", \"std_owner_occupier_prop\", \"std_prop_30k\"]\n",
    "].corr(method=\"pearson\")"
   ]
  },
  {
   "cell_type": "code",
   "execution_count": null,
   "id": "7f2c3ce6",
   "metadata": {},
   "outputs": [],
   "source": [
    "rank_lsoa[\"rank_criteria\"] = (\n",
    "    rank_lsoa[\"std_average_street_density\"] + rank_lsoa[\"std_prop_30k\"]\n",
    ").rank(ascending=False)"
   ]
  },
  {
   "cell_type": "code",
   "execution_count": null,
   "id": "09e244e0",
   "metadata": {},
   "outputs": [],
   "source": [
    "f, ax = pyplot.subplots(figsize=(8, 12))\n",
    "\n",
    "rank_lsoa.plot(\"rank_average_street_density\", cmap=\"Reds_r\", zorder=2, ax=ax)\n",
    "eng_wal.plot(facecolor=\"0.9\", edgecolor=\"none\", zorder=1, ax=ax)\n",
    "ax.set_axis_off()\n",
    "\n",
    "# add colorbar\n",
    "cax = f.add_axes([0.2, 0.42, 0.025, 0.3])\n",
    "sm = pyplot.cm.ScalarMappable(cmap=\"Reds_r\", norm=pyplot.Normalize(vmin=1, vmax=7740))\n",
    "# fake up the array of the scalar mappable. Urgh...\n",
    "sm._A = []\n",
    "cbar = f.colorbar(sm, cax=cax)\n",
    "cax.set_title(\"Rank\")\n",
    "cbar.ax.invert_yaxis()"
   ]
  },
  {
   "cell_type": "code",
   "execution_count": null,
   "id": "c33d83af",
   "metadata": {},
   "outputs": [],
   "source": [
    "f, ax = pyplot.subplots(figsize=(8, 12))\n",
    "\n",
    "rank_lsoa.plot(\"rank_prop_30k\", cmap=\"Greens_r\", zorder=2, ax=ax)\n",
    "eng_wal.plot(facecolor=\"0.9\", edgecolor=\"none\", zorder=1, ax=ax)\n",
    "ax.set_axis_off()\n",
    "\n",
    "# add colorbar\n",
    "cax = f.add_axes([0.2, 0.42, 0.025, 0.3])\n",
    "sm = pyplot.cm.ScalarMappable(cmap=\"Greens_r\", norm=pyplot.Normalize(vmin=1, vmax=7740))\n",
    "# fake up the array of the scalar mappable. Urgh...\n",
    "sm._A = []\n",
    "cbar = f.colorbar(sm, cax=cax)\n",
    "cax.set_title(\"Rank\")\n",
    "cbar.ax.invert_yaxis()"
   ]
  }
 ],
 "metadata": {
  "jupytext": {
   "cell_metadata_filter": "-all",
   "comment_magics": true
  },
  "kernelspec": {
   "display_name": "Python 3 (ipykernel)",
   "language": "python",
   "name": "python3"
  },
  "language_info": {
   "codemirror_mode": {
    "name": "ipython",
    "version": 3
   },
   "file_extension": ".py",
   "mimetype": "text/x-python",
   "name": "python",
   "nbconvert_exporter": "python",
   "pygments_lexer": "ipython3",
   "version": "3.8.17"
  }
 },
 "nbformat": 4,
 "nbformat_minor": 5
}
