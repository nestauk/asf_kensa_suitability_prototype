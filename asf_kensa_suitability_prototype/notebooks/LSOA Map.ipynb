{
 "cells": [
  {
   "cell_type": "code",
   "execution_count": null,
   "id": "b5fe9f3c",
   "metadata": {},
   "outputs": [],
   "source": [
    "import pandas\n",
    "import geopandas\n",
    "import numpy\n",
    "from pyogrio import read_dataframe\n",
    "import matplotlib.pyplot as plt\n",
    "from matplotlib.colors import LogNorm\n",
    "import plotly.express as px\n",
    "import boto3"
   ]
  },
  {
   "cell_type": "code",
   "execution_count": null,
   "id": "50a27d9c",
   "metadata": {},
   "outputs": [],
   "source": [
    "# lsoa polygons from https://geoportal.statistics.gov.uk/maps/766da1380a3544c5a7ca9131dfd4acb6\n",
    "lsoa_path = \"../../inputs/data/lsoa/LSOA_Dec_2021_Boundaries_Generalised_Clipped_EW_BGC_V2_-6143458911719931546.gpkg\"\n",
    "# lsoa_path = \"../../inputs/data/lsoa/LSOA_2021_EW_BSC_1975544170032131431.gpkg\"\n",
    "# datazone polygons from\n",
    "datazone_path = \"/vsizip/../../inputs/data/lsoa/SG_DataZoneBdry_2011.zip\"\n",
    "\n",
    "# Processed street density data path\n",
    "street_data = \"../../inputs/data/lsoa/uprn_street_density_lsoa_2021.csv\""
   ]
  },
  {
   "cell_type": "code",
   "execution_count": null,
   "id": "884d5c80",
   "metadata": {},
   "outputs": [],
   "source": [
    "# Load data\n",
    "data = pandas.read_csv(street_data)\n",
    "# geometries\n",
    "# read LSOA data\n",
    "lsoa = read_dataframe(lsoa_path)\n",
    "datazone = read_dataframe(datazone_path)"
   ]
  },
  {
   "cell_type": "code",
   "execution_count": null,
   "id": "7d93f1fd",
   "metadata": {},
   "outputs": [],
   "source": [
    "# Combine lsoas and datazones\n",
    "lsoa = pandas.concat(\n",
    "    [\n",
    "        lsoa[[\"LSOA21CD\", \"LSOA21NM\", \"geometry\"]],\n",
    "        datazone[[\"DataZone\", \"Name\", \"geometry\"]].rename(\n",
    "            columns={\"DataZone\": \"LSOA21CD\", \"Name\": \"LSOA21NM\"}\n",
    "        ),\n",
    "    ],\n",
    "    ignore_index=True,\n",
    ")\n",
    "del datazone"
   ]
  },
  {
   "cell_type": "code",
   "execution_count": null,
   "id": "39914f80",
   "metadata": {},
   "outputs": [],
   "source": [
    "# NB W01002024 (Cardiff 048F) is na - likely mixed use commercial/high density residential removed by uprn filtering step.\n",
    "# likely not an issue for us here as mixed use urban probably not a target for share dground arrays.\n",
    "lsoa = lsoa.merge(data, how=\"left\", on=\"LSOA21NM\").fillna(0)"
   ]
  },
  {
   "cell_type": "code",
   "execution_count": null,
   "id": "a6275a5a",
   "metadata": {},
   "outputs": [],
   "source": [
    "lsoa[\"average_street_density\"].describe()"
   ]
  },
  {
   "cell_type": "code",
   "execution_count": null,
   "id": "f71167d0",
   "metadata": {},
   "outputs": [],
   "source": [
    "density_percentiles = lsoa[\"average_street_density\"].quantile(numpy.arange(0, 1, 0.01))"
   ]
  },
  {
   "cell_type": "code",
   "execution_count": null,
   "id": "43673721",
   "metadata": {},
   "outputs": [],
   "source": [
    "f, ax = plt.subplots(figsize=(6, 4))\n",
    "\n",
    "ax.plot(density_percentiles)\n",
    "ax.set_xlabel(\"Density Percentile\")\n",
    "ax.set_ylabel(\"UPRNs per km\")\n",
    "ax.set_xticks(numpy.arange(0, 1.1, 0.1))\n",
    "ax.grid()"
   ]
  },
  {
   "cell_type": "code",
   "execution_count": null,
   "id": "309aa47a",
   "metadata": {},
   "outputs": [],
   "source": [
    "f, ax = plt.subplots(figsize=(6, 4))\n",
    "\n",
    "ax.plot(numpy.arange(0.01, 1, 0.01), numpy.log(density_percentiles.to_list()[1:]))\n",
    "ax.set_xlabel(\"Density Percentile\")\n",
    "ax.set_ylabel(\"UPRNs per km\")\n",
    "ax.set_xticks(numpy.arange(0, 1.1, 0.1))\n",
    "ax.grid()"
   ]
  },
  {
   "cell_type": "code",
   "execution_count": null,
   "id": "bdefca7f",
   "metadata": {},
   "outputs": [],
   "source": [
    "plt.hist(\n",
    "    numpy.log(\n",
    "        lsoa.loc[lambda df: df[\"average_street_density\"] > 0, \"average_street_density\"]\n",
    "    ),\n",
    "    bins=20,\n",
    ")"
   ]
  },
  {
   "cell_type": "code",
   "execution_count": null,
   "id": "f2ec843f",
   "metadata": {},
   "outputs": [],
   "source": [
    "lsoa[\"log_average_street_density\"] = lsoa[\"average_street_density\"].apply(\n",
    "    lambda x: numpy.log(x) if x > 0 else 0\n",
    ")"
   ]
  },
  {
   "cell_type": "code",
   "execution_count": null,
   "id": "731f5736",
   "metadata": {},
   "outputs": [],
   "source": [
    "# lsoa.drop(columns='geometry').to_csv(\"../../outputs/tables/gb_lsoas_2021_dz_2011_uprn_usrn_density.csv\", index=False)"
   ]
  },
  {
   "cell_type": "code",
   "execution_count": null,
   "id": "ccbba0c1",
   "metadata": {},
   "outputs": [],
   "source": [
    "f, ax = plt.subplots(figsize=(6, 9))\n",
    "\n",
    "norm = LogNorm(\n",
    "    vmin=lsoa.loc[\n",
    "        lambda df: df[\"average_street_density\"] > 0, \"average_street_density\"\n",
    "    ].min(),\n",
    "    vmax=lsoa[\"average_street_density\"].max(),\n",
    ")\n",
    "\n",
    "lsoa.plot(\n",
    "    column=\"average_street_density\", edgecolor=\"none\", norm=norm, cmap=\"coolwarm\", ax=ax\n",
    ")\n",
    "\n",
    "cax = f.add_axes([0.7, 0.5, 0.03, 0.22])\n",
    "sm = plt.cm.ScalarMappable(cmap=\"coolwarm\", norm=norm)\n",
    "# fake up the array of the scalar mappable.\n",
    "sm._A = []\n",
    "f.colorbar(sm, cax=cax)"
   ]
  },
  {
   "cell_type": "code",
   "execution_count": null,
   "id": "56f957c5",
   "metadata": {},
   "outputs": [],
   "source": [
    "lsoa_wgs84 = lsoa.to_crs(4326)"
   ]
  },
  {
   "cell_type": "code",
   "execution_count": null,
   "id": "7a31ecd1",
   "metadata": {},
   "outputs": [],
   "source": [
    "lsoa_wgs84.head()"
   ]
  },
  {
   "cell_type": "code",
   "execution_count": null,
   "id": "7854b2c2",
   "metadata": {},
   "outputs": [],
   "source": [
    "lsoa_wgs84.to_file(\n",
    "    \"../../outputs/vectors/gb_lsoas_2021_dz_2011_uprn_usrn_density_wgs84.gpkg\",\n",
    "    driver=\"GPKG\",\n",
    ")"
   ]
  },
  {
   "cell_type": "code",
   "execution_count": null,
   "id": "e2b50b26",
   "metadata": {},
   "outputs": [],
   "source": [
    "# Save file locally\n",
    "lsoa_wgs84.to_parquet(\n",
    "    \"../../outputs/vectors/gb_lsoas_2021_dz_2011_uprn_usrn_density_qgs84.parquet\"\n",
    ")"
   ]
  },
  {
   "cell_type": "code",
   "execution_count": null,
   "id": "2d6669f8",
   "metadata": {},
   "outputs": [],
   "source": [
    "lsoa_wgs84 = geopandas.read_parquet(\n",
    "    \"../../outputs/vectors/gb_lsoas_2021_dz_2011_uprn_usrn_density_qgs84.parquet\"\n",
    ")"
   ]
  },
  {
   "cell_type": "code",
   "execution_count": null,
   "id": "1a05dd90",
   "metadata": {},
   "outputs": [],
   "source": [
    "# save file to public s3 bucket\n",
    "key = \"asf-kensa-prototype-lsoa.parquet\"\n",
    "\n",
    "s3 = boto3.client(\"s3\")\n",
    "\n",
    "s3.upload_file(\n",
    "    Bucket=\"nesta-test\",\n",
    "    Filename=\"../../outputs/vectors/gb_lsoas_2021_dz_2011_uprn_usrn_density_qgs84.parquet\",\n",
    "    Key=key,\n",
    ")"
   ]
  },
  {
   "cell_type": "code",
   "execution_count": null,
   "id": "84886075",
   "metadata": {},
   "outputs": [],
   "source": [
    "s3_url = \"http://nesta-test.s3.amazonaws.com/asf-kensa-prototype-lsoa.parquet\""
   ]
  },
  {
   "cell_type": "code",
   "execution_count": null,
   "id": "5dfcc993",
   "metadata": {},
   "outputs": [],
   "source": [
    "import fsspec\n",
    "\n",
    "with fsspec.open(s3_url) as file:\n",
    "    test = geopandas.read_parquet(\n",
    "        file, columns=[\"log_average_street_density\", \"geometry\"]\n",
    "    )"
   ]
  },
  {
   "cell_type": "code",
   "execution_count": null,
   "id": "7666d00f",
   "metadata": {},
   "outputs": [],
   "source": [
    "test.head()"
   ]
  },
  {
   "cell_type": "code",
   "execution_count": null,
   "id": "8419666e",
   "metadata": {},
   "outputs": [],
   "source": [
    "fig = px.choropleth_mapbox(\n",
    "    lsoa_wgs84,\n",
    "    geojson=lsoa_wgs84.geometry,\n",
    "    locations=lsoa_wgs84.index,\n",
    "    color=\"log_average_street_density\",\n",
    "    center={\"lat\": 54.3628, \"lon\": -3.4432},\n",
    "    mapbox_style=\"open-street-map\",\n",
    "    zoom=12,\n",
    ")\n",
    "fig.show()"
   ]
  }
 ],
 "metadata": {
  "jupytext": {
   "cell_metadata_filter": "-all",
   "comment_magics": true
  },
  "kernelspec": {
   "display_name": "asf_kensa_suitability_prototype",
   "language": "python",
   "name": "asf_kensa_suitability_prototype"
  },
  "language_info": {
   "codemirror_mode": {
    "name": "ipython",
    "version": 3
   },
   "file_extension": ".py",
   "mimetype": "text/x-python",
   "name": "python",
   "nbconvert_exporter": "python",
   "pygments_lexer": "ipython3",
   "version": "3.8.17"
  }
 },
 "nbformat": 4,
 "nbformat_minor": 5
}
