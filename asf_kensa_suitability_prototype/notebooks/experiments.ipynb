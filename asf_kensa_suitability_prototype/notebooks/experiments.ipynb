{
 "cells": [
  {
   "cell_type": "markdown",
   "id": "3faf6324",
   "metadata": {},
   "source": [
    "### Imports and setup"
   ]
  },
  {
   "cell_type": "code",
   "execution_count": null,
   "id": "b1664501",
   "metadata": {},
   "outputs": [],
   "source": [
    "import os\n",
    "\n",
    "os.chdir(\"../..\")"
   ]
  },
  {
   "cell_type": "code",
   "execution_count": null,
   "id": "340dda84",
   "metadata": {},
   "outputs": [],
   "source": [
    "from dask import dataframe as dd\n",
    "import dask_geopandas\n",
    "import geopandas as gpd\n",
    "from pyogrio import read_dataframe\n",
    "import matplotlib.pyplot as plt\n",
    "from matplotlib.colors import LogNorm, ListedColormap, BoundaryNorm\n",
    "from matplotlib_scalebar.scalebar import ScaleBar\n",
    "from matplotlib.patches import Patch\n",
    "from shapely.geometry import box\n",
    "from shapely.ops import nearest_points\n",
    "from shapely import unary_union, line_merge\n",
    "import contextily as cx\n",
    "import rasterio\n",
    "from rasterio.features import rasterize\n",
    "from rasterio.crs import CRS\n",
    "from rasterio.plot import show\n",
    "import numpy\n",
    "import pandas"
   ]
  },
  {
   "cell_type": "code",
   "execution_count": null,
   "id": "540ab7a2",
   "metadata": {},
   "outputs": [],
   "source": [
    "# uprn_path = \"inputs/data/uprn/osopenuprn_202304.csv\"\n",
    "# Using an fsspec file uri allows you to keep the data zipped.\n",
    "# uprn_path = \"zip://osopenuprn_202304.csv::inputs/data/uprn/osopenuprn_202305_csv.zip\"\n",
    "# uprn filtered by buildings\n",
    "uprn_path = \"inputs/data/uprn/osopenuprn_202304_osopenmaplocal_buildings.csv\"\n",
    "\n",
    "# Using an fsspec\n",
    "# lids_path = \"zip://BLPU_UPRN_Street_USRN_11.csv::inputs/data/lids/lids-2023-05_csv_BLPU-UPRN-Street-USRN-11.zip\"\n",
    "lids_path = \"inputs/data/lids/BLPU_UPRN_Street_USRN_11.csv\"\n",
    "\n",
    "# usrn_path = \"inputs/data/usrn/osopenusrn_202305.gpkg\"\n",
    "# GDAL virtual filesystem for reading from zipped geopackage file.\n",
    "usrn_path = \"/vsizip/inputs/data/usrn/osopenusrn_202306_gpkg.zip/osopenusrn_202306.gpkg\"\n",
    "\n",
    "# lsoa polygons from https://geoportal.statistics.gov.uk/maps/766da1380a3544c5a7ca9131dfd4acb6\n",
    "lsoa_path = \"inputs/data/lsoa/LSOA_Dec_2021_Boundaries_Generalised_Clipped_EW_BGC_V2_-6143458911719931546.gpkg\"\n",
    "# datazone polygons from\n",
    "datazone_path = \"/vsizip/inputs/data/lsoa/SG_DataZoneBdry_2011.zip\""
   ]
  },
  {
   "cell_type": "markdown",
   "id": "0070f172",
   "metadata": {},
   "source": [
    "Import UPRNs:"
   ]
  },
  {
   "cell_type": "code",
   "execution_count": null,
   "id": "46099506",
   "metadata": {},
   "outputs": [],
   "source": [
    "# Load uprns\n",
    "uprn_df = dd.read_csv(uprn_path)"
   ]
  },
  {
   "cell_type": "code",
   "execution_count": null,
   "id": "f6754e4f",
   "metadata": {},
   "outputs": [],
   "source": [
    "# Convert dask dataframe to geodataframe - defaults to 31 partitions from uprn_df.\n",
    "uprn_gdf = dask_geopandas.from_dask_dataframe(\n",
    "    uprn_df,\n",
    "    geometry=dask_geopandas.points_from_xy(uprn_df, \"X_COORDINATE\", \"Y_COORDINATE\"),\n",
    ")"
   ]
  },
  {
   "cell_type": "code",
   "execution_count": null,
   "id": "ba263365",
   "metadata": {},
   "outputs": [],
   "source": [
    "uprn_gdf.head()"
   ]
  },
  {
   "cell_type": "markdown",
   "id": "a9136999",
   "metadata": {},
   "source": [
    "Import linked identifiers:"
   ]
  },
  {
   "cell_type": "code",
   "execution_count": null,
   "id": "4a0cbb5e",
   "metadata": {},
   "outputs": [],
   "source": [
    "# Load lids\n",
    "lids_df = dd.read_csv(lids_path)"
   ]
  },
  {
   "cell_type": "code",
   "execution_count": null,
   "id": "48af7704",
   "metadata": {},
   "outputs": [],
   "source": [
    "# Identifier 1 is uprn, identifier 2 is usrn.\n",
    "lids_df.head()"
   ]
  },
  {
   "cell_type": "markdown",
   "id": "2537a8fe",
   "metadata": {},
   "source": [
    "Join linked identifiers to UPRN data and explore missing."
   ]
  },
  {
   "cell_type": "code",
   "execution_count": null,
   "id": "089b9662",
   "metadata": {},
   "outputs": [],
   "source": [
    "uprn_df_check = uprn_df.merge(\n",
    "    lids_df[[\"IDENTIFIER_1\", \"IDENTIFIER_2\"]],\n",
    "    how=\"left\",\n",
    "    left_on=\"UPRN\",\n",
    "    right_on=\"IDENTIFIER_1\",\n",
    ")"
   ]
  },
  {
   "cell_type": "code",
   "execution_count": null,
   "id": "b3aaaf84",
   "metadata": {},
   "outputs": [],
   "source": [
    "# The fact that IDENTIFIER_2 gets flipped to a float suggests that we're introducing some missing data.\n",
    "uprn_df_check.head()"
   ]
  },
  {
   "cell_type": "code",
   "execution_count": null,
   "id": "f7458ae7",
   "metadata": {},
   "outputs": [],
   "source": [
    "# Get count of na values - 27,633\n",
    "uprn_df_check[\"IDENTIFIER_2\"].isna().sum().compute()"
   ]
  },
  {
   "cell_type": "code",
   "execution_count": null,
   "id": "d63d26f9",
   "metadata": {},
   "outputs": [],
   "source": [
    "# 27,633/ 34,927,544 = 0.08% missing\n",
    "uprn_df_check[\"IDENTIFIER_2\"].__len__()"
   ]
  },
  {
   "cell_type": "code",
   "execution_count": null,
   "id": "70e76c9a",
   "metadata": {},
   "outputs": [],
   "source": [
    "missing = uprn_df_check.loc[lambda df: df[\"IDENTIFIER_2\"].isna()].compute()\n",
    "\n",
    "# Missing ids appear to be distributed to urban areas, I'll ignore them for now, but worth exploring.\n",
    "f, ax = plt.subplots(figsize=(5, 7))\n",
    "missing.plot(x=\"X_COORDINATE\", y=\"Y_COORDINATE\", kind=\"scatter\", marker=\".\", s=2, ax=ax)\n",
    "ax.set_aspect(\"equal\")"
   ]
  },
  {
   "cell_type": "markdown",
   "id": "e0e5c52e",
   "metadata": {},
   "source": [
    "Join linked identifiers to UPRNs and group to summarise counts of UPRN per USRN."
   ]
  },
  {
   "cell_type": "code",
   "execution_count": null,
   "id": "bfb50013",
   "metadata": {},
   "outputs": [],
   "source": [
    "# rejoin using inner to drop unmatched uprns\n",
    "uprn_df = uprn_df.merge(\n",
    "    lids_df[[\"IDENTIFIER_1\", \"IDENTIFIER_2\"]],\n",
    "    how=\"inner\",\n",
    "    left_on=\"UPRN\",\n",
    "    right_on=\"IDENTIFIER_1\",\n",
    ")"
   ]
  },
  {
   "cell_type": "code",
   "execution_count": null,
   "id": "d32fe184",
   "metadata": {},
   "outputs": [],
   "source": [
    "uprn_df.__len__()"
   ]
  },
  {
   "cell_type": "code",
   "execution_count": null,
   "id": "9124d297",
   "metadata": {},
   "outputs": [],
   "source": [
    "# Get count of UPRNs by USRNs\n",
    "uprn_count = (\n",
    "    uprn_df.groupby(\"IDENTIFIER_2\")[\"IDENTIFIER_1\"]\n",
    "    .count()\n",
    "    .compute()\n",
    "    .reset_index(name=\"count\")\n",
    ")"
   ]
  },
  {
   "cell_type": "code",
   "execution_count": null,
   "id": "3b765ead",
   "metadata": {},
   "outputs": [],
   "source": [
    "# on average streets have 36 uprns associated, but median is 19 indicating skew. Max is high.\n",
    "uprn_count[\"count\"].describe()"
   ]
  },
  {
   "cell_type": "markdown",
   "id": "72ac4665",
   "metadata": {},
   "source": [
    "Import USRNs:"
   ]
  },
  {
   "cell_type": "code",
   "execution_count": null,
   "id": "18443c10",
   "metadata": {},
   "outputs": [],
   "source": [
    "# We'll drop 32 bad usrn's for now, however these could be fixed.\n",
    "# 32 of 1,712,890 usrns is 0.002%\n",
    "import fiona\n",
    "from shapely.geometry import shape\n",
    "\n",
    "# Find bad geoms\n",
    "bad_usrns = []\n",
    "with fiona.open(usrn_path) as src:\n",
    "    for feat in src:\n",
    "        try:\n",
    "            shape(feat.geometry)\n",
    "        except:\n",
    "            bad_usrns.append(feat.properties[\"usrn\"])\n",
    "\n",
    "print(len(bad_usrns))"
   ]
  },
  {
   "cell_type": "code",
   "execution_count": null,
   "id": "665088ad",
   "metadata": {
    "scrolled": true
   },
   "outputs": [],
   "source": [
    "# They appear to be multilinestrings that have component lines with bad segments (e.g. a line made of 1 point).\n",
    "# These could be fixed by dropping the bad segments and passing the rest to MultiLineString.\n",
    "from shapely.geometry import LineString\n",
    "\n",
    "with fiona.open(usrn_path) as src:\n",
    "    for feat in src:\n",
    "        if feat.properties[\"usrn\"] in bad_usrns:\n",
    "            count_bad_segments = 0\n",
    "            for idx, line in enumerate(feat.geometry.coordinates):\n",
    "                try:\n",
    "                    LineString(line)\n",
    "                except:\n",
    "                    count_bad_segments += 1\n",
    "            print(\n",
    "                f\"usrn : {feat.properties['usrn']} of type {feat.geometry.type} has \\\n",
    "{len(feat.geometry.coordinates)} segments of which {count_bad_segments} is/are malformed.\"\n",
    "            )"
   ]
  },
  {
   "cell_type": "code",
   "execution_count": null,
   "id": "4f24e005",
   "metadata": {},
   "outputs": [],
   "source": [
    "# Read usrn data without problematic line features, using pyogrio.\n",
    "usrn_gdf = read_dataframe(\n",
    "    usrn_path, where=f\"usrn not in ({','.join(map(str, bad_usrns))})\"\n",
    ")"
   ]
  },
  {
   "cell_type": "code",
   "execution_count": null,
   "id": "3cd8d025",
   "metadata": {},
   "outputs": [],
   "source": [
    "# convert to dask geopandas geodataframe (nb 'where' not currently implemented in dask geopandas)\n",
    "usrn_gdf = dask_geopandas.from_geopandas(usrn_gdf, npartitions=10)"
   ]
  },
  {
   "cell_type": "code",
   "execution_count": null,
   "id": "b37b6e0b",
   "metadata": {},
   "outputs": [],
   "source": [
    "usrn_gdf.head()"
   ]
  },
  {
   "cell_type": "code",
   "execution_count": null,
   "id": "5f54ac2a",
   "metadata": {},
   "outputs": [],
   "source": [
    "usrn_gdf.__len__()"
   ]
  },
  {
   "cell_type": "code",
   "execution_count": null,
   "id": "c58d2777",
   "metadata": {},
   "outputs": [],
   "source": [
    "# merge uprn_count with usrn_gdf:\n",
    "usrn_gdf_check = usrn_gdf.merge(\n",
    "    uprn_count, how=\"outer\", left_on=\"usrn\", right_on=\"IDENTIFIER_2\"\n",
    ")"
   ]
  },
  {
   "cell_type": "code",
   "execution_count": null,
   "id": "0c17366f",
   "metadata": {},
   "outputs": [],
   "source": [
    "usrn_gdf_check.head()"
   ]
  },
  {
   "cell_type": "code",
   "execution_count": null,
   "id": "e65ab5f2",
   "metadata": {},
   "outputs": [],
   "source": [
    "usrn_gdf_check.__len__()"
   ]
  },
  {
   "cell_type": "code",
   "execution_count": null,
   "id": "7b3bb230",
   "metadata": {},
   "outputs": [],
   "source": [
    "# 142 Missing usrns of 1713000 - 0.01% - these are usrns in linked ids not in usrns.\n",
    "usrn_gdf_check.usrn.isna().sum().compute()"
   ]
  },
  {
   "cell_type": "code",
   "execution_count": null,
   "id": "3f3a35d0",
   "metadata": {},
   "outputs": [],
   "source": [
    "# missing data count of uprns sums to 4014 uprns of 34,900,206 - 0.01%\n",
    "usrn_gdf_check.loc[lambda df: df.usrn.isna(), \"count\"].sum().compute()"
   ]
  },
  {
   "cell_type": "code",
   "execution_count": null,
   "id": "2341126e",
   "metadata": {},
   "outputs": [],
   "source": [
    "# no matching uprns for 734,729 usrns - no uprn associated with 43% of usrns - plausible?\n",
    "usrn_gdf_check.IDENTIFIER_2.isna().sum().compute()"
   ]
  },
  {
   "cell_type": "code",
   "execution_count": null,
   "id": "172a35fe",
   "metadata": {},
   "outputs": [],
   "source": [
    "# Rejoin the data retaining only matching rows.\n",
    "usrn_gdf = usrn_gdf.merge(\n",
    "    uprn_count, how=\"inner\", left_on=\"usrn\", right_on=\"IDENTIFIER_2\"\n",
    ")"
   ]
  },
  {
   "cell_type": "code",
   "execution_count": null,
   "id": "830fb425",
   "metadata": {},
   "outputs": [],
   "source": [
    "# 978,129 usrns with joined uprn data.\n",
    "usrn_gdf.__len__()"
   ]
  },
  {
   "cell_type": "code",
   "execution_count": null,
   "id": "5da14cb1",
   "metadata": {},
   "outputs": [],
   "source": [
    "# No duplicate usrns by id.\n",
    "usrn_gdf[\"usrn\"].unique().__len__()"
   ]
  },
  {
   "cell_type": "markdown",
   "id": "28424308",
   "metadata": {},
   "source": [
    "This is now an authoritative uprn - usrn joined dataset based on the the published linked identifiers data. It is a good starting point for simple analysis.\n",
    "\n",
    "However, as it cannot capture where a uprn is along a usrn segment it is only really useful at the usrn resolution.\n",
    "\n",
    "It's be good to look at some basic summaries of this data - e.g. uprns per length of usrn.\n",
    "\n",
    "Also, aggregating the data - perhaps to OA or LSOA would be interesting.\n",
    "\n",
    "As would creating a line density surface. You could do this using `rasterio` and iterating over each line feature, rasterising, adjusting the burnt in values according to the count/density of the uprns on the line and the number of cells covered, and then summing all the surfaces (in practice this would be more like a reduce operation). Then you could look at the raw surface, or smooth/convolve."
   ]
  },
  {
   "cell_type": "code",
   "execution_count": null,
   "id": "36158582",
   "metadata": {},
   "outputs": [],
   "source": [
    "# note that we still have duplicate geometries - ignore for now.\n",
    "usrn_gdf.drop_duplicates(\"geometry\").__len__()\n",
    "\n",
    "#\n",
    "# NB duplicates doesn't match on geometry, just construction, which may mean some are missed.\n",
    "#\n",
    "# from shapely.geometry import LineString\n",
    "# linestring_a = LineString([(0, 1), (2, 3), (2, 6), (2, 7)])\n",
    "# linestring_b = LineString([(0, 1), (2, 3), (2, 6), (2, 7)]) # These are duplicates.\n",
    "#\n",
    "# linestring_a = LineString([(0, 1), (2, 3), (2, 6), (2, 7)])\n",
    "# linestring_b = LineString([(0, 1), (2, 3), (2, 7)]) # These are not duplicates, but they cover the same coordinates.\n",
    "#\n",
    "# relevant info from uprn.uk:\n",
    "#\n",
    "# Note: a USRN is an operational identifier and is unique to a highway authority.\n",
    "# Where a road crosses a highway authority boundary, therefore, it will have different USRNs\n",
    "# in different authorities, even if it has the same name and number.\n",
    "#\n",
    "# Roads operated by national highway authorities (eg, Highways England) will also have\n",
    "# separate USRNs for the road as a whole and for each subsection within each local highway\n",
    "# authority that it crosses."
   ]
  },
  {
   "cell_type": "markdown",
   "id": "3a9fe0f6",
   "metadata": {},
   "source": [
    "### USRN \"density\""
   ]
  },
  {
   "cell_type": "code",
   "execution_count": null,
   "id": "20a89b53",
   "metadata": {},
   "outputs": [],
   "source": [
    "# add column indicating density of UPRNs on USRNs\n",
    "# NB Calculating density per km for more convenient numbers\n",
    "usrn_gdf[\"density\"] = usrn_gdf[\"count\"] / (usrn_gdf[\"geometry\"].length / 1_000)"
   ]
  },
  {
   "cell_type": "code",
   "execution_count": null,
   "id": "8fc50900",
   "metadata": {},
   "outputs": [],
   "source": [
    "# On average 167 uprns per km, so around 1 uprn every 6m\n",
    "usrn_gdf[\"density\"].describe().compute()"
   ]
  },
  {
   "cell_type": "code",
   "execution_count": null,
   "id": "917ac388",
   "metadata": {},
   "outputs": [],
   "source": [
    "density = usrn_gdf[\"density\"].compute()"
   ]
  },
  {
   "cell_type": "code",
   "execution_count": null,
   "id": "9aa7a273",
   "metadata": {},
   "outputs": [],
   "source": [
    "density_percentiles = density.quantile([i / 500 for i in list(range(0, 500))])"
   ]
  },
  {
   "cell_type": "code",
   "execution_count": null,
   "id": "7ffc4995",
   "metadata": {},
   "outputs": [],
   "source": [
    "# A small proportion of the data is very dense.\n",
    "f, ax = plt.subplots(figsize=(6, 4))\n",
    "\n",
    "ax.plot([i / 500 for i in list(range(0, 500))], density_percentiles)\n",
    "\n",
    "ax.set_xlabel(\"Percentile of Distribution\")\n",
    "ax.set_ylabel(\"UPRNs per km\")\n",
    "ax.set_xticks(numpy.arange(0, 1.1, 0.1))\n",
    "ax.grid()"
   ]
  },
  {
   "cell_type": "code",
   "execution_count": null,
   "id": "c8dd2ace",
   "metadata": {},
   "outputs": [],
   "source": [
    "# Around 20% of people live in rural areas, this may help explain the shape of the curve.\n",
    "f, ax = plt.subplots(figsize=(6, 4))\n",
    "\n",
    "ax.plot(\n",
    "    [i / 500 for i in list(range(0, 500))][1:],\n",
    "    numpy.log(density_percentiles.to_list()[1:]),\n",
    ")\n",
    "\n",
    "# ax.plot([0,1],[0,numpy.log(density_percentiles.to_list()[1:]).max()])\n",
    "\n",
    "# Turning points from below.\n",
    "ax.axvline(0.93, ymin=0.01, ymax=0.74, linestyle=\"dashed\")  # 7% high dense\n",
    "ax.axvline(\n",
    "    0.23, ymin=0.01, ymax=0.48, linestyle=\"dashed\"\n",
    ")  # 70% middle dense, 23% low dense\n",
    "\n",
    "ax.axhline(3.91638117183093, xmin=0, xmax=0.25, linestyle=\"dashed\")\n",
    "ax.axhline(5.947321067960089, xmin=0, xmax=0.895, linestyle=\"dashed\")\n",
    "\n",
    "ax.set_xticks(numpy.arange(0, 1.1, 0.1))\n",
    "ax.set_ylim([0, 8.1])\n",
    "ax.grid()\n",
    "ax.set_xlabel(\"Percentile of Distribution\")\n",
    "ax.set_ylabel(\"log UPRNs per km\")\n",
    "# ax.set_title(\"Turning points in density curve\");"
   ]
  },
  {
   "cell_type": "code",
   "execution_count": null,
   "id": "9695e95f",
   "metadata": {},
   "outputs": [],
   "source": [
    "numpy.exp([3.91638117183093, 5.947321067960089])"
   ]
  },
  {
   "cell_type": "code",
   "execution_count": null,
   "id": "372701b1",
   "metadata": {},
   "outputs": [],
   "source": [
    "def turning_points(array):\n",
    "    \"\"\"turning_points(array) -> min_indices, max_indices\n",
    "    Finds the turning points within an 1D array and returns the indices of the minimum and\n",
    "    maximum turning points in two separate lists.\n",
    "    \"\"\"\n",
    "    idx_max, idx_min = [], []\n",
    "    if len(array) < 3:\n",
    "        return idx_min, idx_max\n",
    "\n",
    "    NEUTRAL, RISING, FALLING = range(3)\n",
    "\n",
    "    def get_state(a, b):\n",
    "        if a < b:\n",
    "            return RISING\n",
    "        if a > b:\n",
    "            return FALLING\n",
    "        return NEUTRAL\n",
    "\n",
    "    ps = get_state(array[0], array[1])\n",
    "    begin = 1\n",
    "    for i in range(2, len(array)):\n",
    "        s = get_state(array[i - 1], array[i])\n",
    "        if s != NEUTRAL:\n",
    "            if ps != NEUTRAL and ps != s:\n",
    "                if s == FALLING:\n",
    "                    idx_max.append((begin + i - 1) // 2)\n",
    "                else:\n",
    "                    idx_min.append((begin + i - 1) // 2)\n",
    "            begin = i\n",
    "            ps = s\n",
    "    return idx_min, idx_max"
   ]
  },
  {
   "cell_type": "code",
   "execution_count": null,
   "id": "138f103b",
   "metadata": {},
   "outputs": [],
   "source": [
    "turning_points(\n",
    "    numpy.log(density_percentiles[0.01:].to_list())\n",
    "    - (numpy.log(density_percentiles.to_list()[1:]).max() * numpy.arange(0.01, 1, 0.01))\n",
    ")"
   ]
  },
  {
   "cell_type": "code",
   "execution_count": null,
   "id": "af5cd657",
   "metadata": {},
   "outputs": [],
   "source": [
    "# Percentile turning points\n",
    "numpy.arange(0.01, 1, 0.01)[[22, 92]]"
   ]
  },
  {
   "cell_type": "code",
   "execution_count": null,
   "id": "6c51acf0",
   "metadata": {},
   "outputs": [],
   "source": [
    "# Assign density classification to usrns\n",
    "usrn_gdf = usrn_gdf.assign(\n",
    "    classification=lambda df: df[\"density\"].apply(\n",
    "        lambda x: 1\n",
    "        if numpy.log(x) <= 3.91638117183093\n",
    "        else (2 if numpy.log(x) <= 5.947321067960089 else 3)\n",
    "    )\n",
    ")"
   ]
  },
  {
   "cell_type": "code",
   "execution_count": null,
   "id": "e862a7b3",
   "metadata": {},
   "outputs": [],
   "source": [
    "usrn_gdf.classification.value_counts().compute()"
   ]
  },
  {
   "cell_type": "code",
   "execution_count": null,
   "id": "956be739",
   "metadata": {},
   "outputs": [],
   "source": [
    "# Save out usrn_gdf\n",
    "usrn_gdf.to_parquet(\"./outputs/vectors/gb_usrn_lids_density.parquet\")"
   ]
  },
  {
   "cell_type": "markdown",
   "id": "39371f59",
   "metadata": {},
   "source": [
    "## Map Classes"
   ]
  },
  {
   "cell_type": "code",
   "execution_count": null,
   "id": "76de58eb",
   "metadata": {},
   "outputs": [],
   "source": [
    "from affine import Affine\n",
    "from rasterio.enums import MergeAlg\n",
    "\n",
    "# Declare processing extent (bounds in British National Grid)\n",
    "xmin = 5000\n",
    "xmax = 666000\n",
    "ymin = 6000\n",
    "ymax = 1221000\n",
    "\n",
    "# Affine transformation for surface in British national grid, with 500m cell size.\n",
    "cell_size = 100\n",
    "transform = Affine(cell_size, 0, xmin, 0, -cell_size, ymax)\n",
    "\n",
    "out_shape = (int((ymax - ymin) / cell_size), int((xmax - xmin) / cell_size))\n",
    "\n",
    "rasters = [numpy.zeros(out_shape, dtype=\"uint8\")]\n",
    "for classification in [1, 2, 3]:\n",
    "    usrn_gdf = gpd.read_parquet(\n",
    "        \"./outputs/vectors/gb_usrn_lids_density.parquet\",\n",
    "        filters=[[\"classification\", \"==\", classification]],\n",
    "    )\n",
    "    shapes = [\n",
    "        (geom, dens)\n",
    "        for geom, dens in zip(\n",
    "            usrn_gdf[\"geometry\"], numpy.ones(len(usrn_gdf), dtype=\"uint8\")\n",
    "        )\n",
    "    ]\n",
    "    rasters.append(\n",
    "        rasterize(\n",
    "            shapes=shapes,\n",
    "            out_shape=out_shape,\n",
    "            transform=transform,\n",
    "            merge_alg=MergeAlg.add,\n",
    "            dtype=\"uint8\",\n",
    "        )\n",
    "    )\n",
    "    print(classification)\n",
    "del usrn_gdf, shapes"
   ]
  },
  {
   "cell_type": "code",
   "execution_count": null,
   "id": "df2b0891",
   "metadata": {},
   "outputs": [],
   "source": [
    "rasters = numpy.dstack(rasters)"
   ]
  },
  {
   "cell_type": "code",
   "execution_count": null,
   "id": "70bd09ae",
   "metadata": {},
   "outputs": [],
   "source": [
    "majority_raster = numpy.argmax(rasters, axis=2)"
   ]
  },
  {
   "cell_type": "code",
   "execution_count": null,
   "id": "16b2026e",
   "metadata": {},
   "outputs": [],
   "source": [
    "del rasters"
   ]
  },
  {
   "cell_type": "code",
   "execution_count": null,
   "id": "1b3a6357",
   "metadata": {},
   "outputs": [],
   "source": [
    "cmap = ListedColormap([\"none\", \"#66c2a5\", \"#8da0cb\", \"#fc8d62\"])\n",
    "norm = BoundaryNorm([-0.5, 0.5, 1.5, 2.5, 3.5], cmap.N)\n",
    "\n",
    "# plot with 1 pixel = 1 cell on 96 dpi screen\n",
    "dpi = (96, 96)\n",
    "figsize = (majority_raster.shape[0] / dpi[0], majority_raster.shape[1] / dpi[1])"
   ]
  },
  {
   "cell_type": "code",
   "execution_count": null,
   "id": "54db28d8",
   "metadata": {
    "scrolled": false
   },
   "outputs": [],
   "source": [
    "f, ax = plt.subplots(figsize=figsize)\n",
    "\n",
    "show(\n",
    "    majority_raster,\n",
    "    transform=transform,\n",
    "    norm=norm,\n",
    "    cmap=cmap,\n",
    "    interpolation=\"none\",\n",
    "    ax=ax,\n",
    ")\n",
    "\n",
    "# Legend\n",
    "handles = [Patch(color=\"#fc8d62\"), Patch(color=\"#8da0cb\"), Patch(color=\"#66c2a5\")]\n",
    "labels = [\"> 383\", \"50 - 383\", \"< 50\"]\n",
    "\n",
    "ax.legend(\n",
    "    handles, labels, title=\"Linear Density\\nUPRNs/km\", fontsize=18, title_fontsize=22\n",
    ")\n",
    "\n",
    "# Decoration\n",
    "ax.add_artist(\n",
    "    ScaleBar(1, width_fraction=0.0067, location=4, font_properties={\"size\": 18})\n",
    ")\n",
    "\n",
    "x, y, arrow_length = 0.05, 0.98, 0.025\n",
    "ax.annotate(\n",
    "    \"N\",\n",
    "    xy=(x, y),\n",
    "    xytext=(x, y - arrow_length),\n",
    "    arrowprops=dict(facecolor=\"black\", width=5, headwidth=15),\n",
    "    ha=\"center\",\n",
    "    va=\"center\",\n",
    "    fontsize=28,\n",
    "    xycoords=ax.transAxes,\n",
    ")\n",
    "\n",
    "ax.set_axis_off()"
   ]
  },
  {
   "cell_type": "code",
   "execution_count": null,
   "id": "6998a730",
   "metadata": {},
   "outputs": [],
   "source": [
    "london = gpd.read_file(\n",
    "    \"https://services1.arcgis.com/ESMARspQHYMw9BZ9/arcgis/rest/services/Regions_December_2022_EN_BFC/FeatureServer/0/query?where=RGN22NM%20%3D%20'LONDON'&outFields=*&outSR=27700&f=json\"\n",
    ")"
   ]
  },
  {
   "cell_type": "code",
   "execution_count": null,
   "id": "c246adbf",
   "metadata": {},
   "outputs": [],
   "source": [
    "f, ax = plt.subplots(figsize=(8, 6))\n",
    "\n",
    "minx, miny, maxx, maxy = london.total_bounds\n",
    "\n",
    "show(\n",
    "    majority_raster,\n",
    "    transform=transform,\n",
    "    norm=norm,\n",
    "    cmap=cmap,\n",
    "    interpolation=\"none\",\n",
    "    ax=ax,\n",
    ")\n",
    "london.plot(facecolor=\"none\", edgecolor=\"k\", linewidth=0.8, ax=ax)\n",
    "\n",
    "ax.set_xlim([minx - 500, maxx + 500])\n",
    "ax.set_ylim([miny - 500, maxy + 500])\n",
    "ax.set_xticks([])\n",
    "ax.set_yticks([])\n",
    "\n",
    "x, y, arrow_length = 0.05, 0.97, 0.12\n",
    "ax.annotate(\n",
    "    \"N\",\n",
    "    xy=(x, y),\n",
    "    xytext=(x, y - arrow_length),\n",
    "    arrowprops=dict(facecolor=\"black\", width=5, headwidth=15),\n",
    "    ha=\"center\",\n",
    "    va=\"center\",\n",
    "    fontsize=22,\n",
    "    xycoords=ax.transAxes,\n",
    ")\n",
    "\n",
    "ax.add_artist(\n",
    "    ScaleBar(1, width_fraction=0.01, location=4, font_properties={\"size\": 12})\n",
    ")\n",
    "\n",
    "ax.set_title(\"Greater London\")"
   ]
  },
  {
   "cell_type": "code",
   "execution_count": null,
   "id": "a05375e6",
   "metadata": {},
   "outputs": [],
   "source": [
    "west_midlands = gpd.read_file(\n",
    "    \"https://services1.arcgis.com/ESMARspQHYMw9BZ9/arcgis/rest/services/Combined_Authorities_December_2022_EN_BFC/FeatureServer/0/query?where=CAUTH22NM%20%3D%20'WEST%20MIDLANDS'&outFields=*&outSR=27700&f=json\"\n",
    ")"
   ]
  },
  {
   "cell_type": "code",
   "execution_count": null,
   "id": "210f3c34",
   "metadata": {
    "lines_to_next_cell": 2
   },
   "outputs": [],
   "source": [
    "f, ax = plt.subplots(figsize=(8, 6))\n",
    "\n",
    "minx, miny, maxx, maxy = west_midlands.total_bounds\n",
    "\n",
    "show(\n",
    "    majority_raster,\n",
    "    transform=transform,\n",
    "    norm=norm,\n",
    "    cmap=cmap,\n",
    "    interpolation=\"none\",\n",
    "    ax=ax,\n",
    ")\n",
    "west_midlands.plot(facecolor=\"none\", edgecolor=\"k\", linewidth=0.8, ax=ax)\n",
    "\n",
    "ax.set_xlim([minx - 500, maxx + 500])\n",
    "ax.set_ylim([miny - 500, maxy + 500])\n",
    "ax.set_xticks([])\n",
    "ax.set_yticks([])\n",
    "\n",
    "x, y, arrow_length = 0.95, 0.97, 0.12\n",
    "ax.annotate(\n",
    "    \"N\",\n",
    "    xy=(x, y),\n",
    "    xytext=(x, y - arrow_length),\n",
    "    arrowprops=dict(facecolor=\"black\", width=5, headwidth=15),\n",
    "    ha=\"center\",\n",
    "    va=\"center\",\n",
    "    fontsize=22,\n",
    "    xycoords=ax.transAxes,\n",
    ")\n",
    "\n",
    "ax.add_artist(\n",
    "    ScaleBar(1, width_fraction=0.01, location=3, font_properties={\"size\": 12})\n",
    ")\n",
    "\n",
    "ax.set_title(\"West Midlands Combined Authority: Birmingham and Coventry\")\n",
    "\n",
    "# Legend\n",
    "handles = [Patch(color=\"#fc8d62\"), Patch(color=\"#8da0cb\"), Patch(color=\"#66c2a5\")]\n",
    "labels = [\"> 383\", \"50 - 383\", \"< 50\"]\n",
    "\n",
    "ax.legend(\n",
    "    handles,\n",
    "    labels,\n",
    "    title=\"Linear Density\\nUPRNs/km\",\n",
    "    fontsize=14,\n",
    "    title_fontsize=16,\n",
    "    bbox_to_anchor=(0.98, 0.8),\n",
    ")"
   ]
  },
  {
   "cell_type": "code",
   "execution_count": null,
   "id": "12b5be6f",
   "metadata": {},
   "outputs": [],
   "source": [
    "manchester = gpd.read_file(\n",
    "    \"https://services1.arcgis.com/ESMARspQHYMw9BZ9/arcgis/rest/services/Combined_Authorities_December_2022_EN_BFC/FeatureServer/0/query?where=CAUTH22NM%20%3D%20'GREATER%20MANCHESTER'&outFields=*&outSR=27700&f=json\"\n",
    ")"
   ]
  },
  {
   "cell_type": "code",
   "execution_count": null,
   "id": "29d09596",
   "metadata": {},
   "outputs": [],
   "source": [
    "f, ax = plt.subplots(figsize=(8, 6))\n",
    "\n",
    "minx, miny, maxx, maxy = manchester.total_bounds\n",
    "\n",
    "show(\n",
    "    majority_raster,\n",
    "    transform=transform,\n",
    "    norm=norm,\n",
    "    cmap=cmap,\n",
    "    interpolation=\"none\",\n",
    "    ax=ax,\n",
    ")\n",
    "manchester.plot(facecolor=\"none\", edgecolor=\"k\", linewidth=0.8, ax=ax)\n",
    "\n",
    "ax.set_xlim([minx - 500, maxx + 500])\n",
    "ax.set_ylim([miny - 500, maxy + 500])\n",
    "ax.set_xticks([])\n",
    "ax.set_yticks([])\n",
    "\n",
    "x, y, arrow_length = 0.95, 0.97, 0.12\n",
    "ax.annotate(\n",
    "    \"N\",\n",
    "    xy=(x, y),\n",
    "    xytext=(x, y - arrow_length),\n",
    "    arrowprops=dict(facecolor=\"black\", width=5, headwidth=15),\n",
    "    ha=\"center\",\n",
    "    va=\"center\",\n",
    "    fontsize=22,\n",
    "    xycoords=ax.transAxes,\n",
    ")\n",
    "\n",
    "ax.add_artist(\n",
    "    ScaleBar(1, width_fraction=0.01, location=3, font_properties={\"size\": 12})\n",
    ")\n",
    "\n",
    "ax.set_title(\"Greater Manchester\")"
   ]
  },
  {
   "cell_type": "markdown",
   "id": "947d283f",
   "metadata": {},
   "source": [
    "### Summaries by LSOA"
   ]
  },
  {
   "cell_type": "code",
   "execution_count": null,
   "id": "af1d41ec",
   "metadata": {},
   "outputs": [],
   "source": [
    "# read LSOA data - 2021 lsoas\n",
    "lsoa = read_dataframe(lsoa_path)\n",
    "datazone = read_dataframe(datazone_path)"
   ]
  },
  {
   "cell_type": "code",
   "execution_count": null,
   "id": "bc121690",
   "metadata": {},
   "outputs": [],
   "source": [
    "# read LSOA data - 2021 lsoas\n",
    "lsoa = read_dataframe(\n",
    "    \"inputs/data/lsoa/LSOA_Dec_2011_Boundaries_Generalised_Clipped_BGC_EW_V3_-1005832519865330139.gpkg\"\n",
    ")\n",
    "datazone = read_dataframe(datazone_path)"
   ]
  },
  {
   "cell_type": "code",
   "execution_count": null,
   "id": "a1354825",
   "metadata": {},
   "outputs": [],
   "source": [
    "# Combine lsoas and datazones\n",
    "lsoa = pandas.concat(\n",
    "    [\n",
    "        lsoa[[\"LSOA11CD\", \"LSOA11NM\", \"geometry\"]],\n",
    "        # lsoa[[\"LSOA21CD\", \"LSOA21NM\", \"geometry\"]],\n",
    "        datazone[[\"DataZone\", \"Name\", \"geometry\"]].rename(\n",
    "            columns={\"DataZone\": \"LSOA11CD\", \"Name\": \"LSOA11NM\"}\n",
    "        ),\n",
    "    ],\n",
    "    ignore_index=True,\n",
    ")\n",
    "del datazone"
   ]
  },
  {
   "cell_type": "code",
   "execution_count": null,
   "id": "0c86db97",
   "metadata": {},
   "outputs": [],
   "source": [
    "lsoa_gdf = dask_geopandas.from_geopandas(lsoa, npartitions=10)"
   ]
  },
  {
   "cell_type": "code",
   "execution_count": null,
   "id": "ce9f2941",
   "metadata": {},
   "outputs": [],
   "source": [
    "# overlay usrn_gdf with lsoa_gdf so that each row of clipped_gdf\n",
    "# corresponds to a segment of a USRN contained within an LSOA\n",
    "lsoa_gdf[\"lsoa_geometry\"] = lsoa_gdf.geometry\n",
    "overlaid_gdf = usrn_gdf.compute().overlay(\n",
    "    lsoa_gdf.compute(), how=\"intersection\", keep_geom_type=True\n",
    ")"
   ]
  },
  {
   "cell_type": "code",
   "execution_count": null,
   "id": "43b45ec6",
   "metadata": {},
   "outputs": [],
   "source": [
    "overlaid_gdf = dask_geopandas.from_geopandas(overlaid_gdf, npartitions=10)"
   ]
  },
  {
   "cell_type": "code",
   "execution_count": null,
   "id": "615844d1",
   "metadata": {},
   "outputs": [],
   "source": [
    "# for each LSOA, calculate average street density by dividing total clipped USRN estimate of UPRNs (density * clipped length)\n",
    "# by total length of clipped USRNs\n",
    "# NB this assumes that UPRNS are uniformly distributed along USRNs\n",
    "overlaid_gdf[\"clipped_usrn_length_km\"] = overlaid_gdf[\"geometry\"].length / 1000\n",
    "\n",
    "overlaid_gdf[\"clipped_usrn_uprn_estimate\"] = (\n",
    "    overlaid_gdf[\"clipped_usrn_length_km\"] * overlaid_gdf[\"density\"]\n",
    ")"
   ]
  },
  {
   "cell_type": "code",
   "execution_count": null,
   "id": "670418cf",
   "metadata": {},
   "outputs": [],
   "source": [
    "# Group by lsoas and derive lsoa totals for uprn count estimates and length of usrns.\n",
    "lsoa_summaries = overlaid_gdf.groupby(\"LSOA11NM\")[\n",
    "    [\"clipped_usrn_length_km\", \"clipped_usrn_uprn_estimate\"]\n",
    "].agg(\"sum\")\n",
    "\n",
    "# Calculate LSOA-level density\n",
    "lsoa_summaries[\"average_street_density\"] = (\n",
    "    lsoa_summaries[\"clipped_usrn_uprn_estimate\"]\n",
    "    / lsoa_summaries[\"clipped_usrn_length_km\"]\n",
    ")"
   ]
  },
  {
   "cell_type": "code",
   "execution_count": null,
   "id": "55aac6ec",
   "metadata": {},
   "outputs": [],
   "source": [
    "lsoa_summaries.sort_values(\"average_street_density\").compute()"
   ]
  },
  {
   "cell_type": "code",
   "execution_count": null,
   "id": "cc98ab0f",
   "metadata": {},
   "outputs": [],
   "source": [
    "# Reset index so that lsoa is a column\n",
    "lsoa_summaries = lsoa_summaries.reset_index()"
   ]
  },
  {
   "cell_type": "code",
   "execution_count": null,
   "id": "705d014e",
   "metadata": {},
   "outputs": [],
   "source": [
    "# Save out to file\n",
    "lsoa_summaries.compute().to_csv(\n",
    "    \"./inputs/data/lsoa/uprn_street_density_lsoa_2011.csv\", index=False\n",
    ")"
   ]
  },
  {
   "cell_type": "markdown",
   "id": "df14acf5",
   "metadata": {},
   "source": [
    "### Rasterisation"
   ]
  },
  {
   "cell_type": "code",
   "execution_count": null,
   "id": "d6fb0df0",
   "metadata": {},
   "outputs": [],
   "source": [
    "usrn_gdf = gpd.read_parquet(\"./outputs/vectors/gb_usrn_lids_density.parquet\")"
   ]
  },
  {
   "cell_type": "code",
   "execution_count": null,
   "id": "e1d57490",
   "metadata": {},
   "outputs": [],
   "source": [
    "from affine import Affine\n",
    "\n",
    "# Declare processing extent (bounds in British National Grid)\n",
    "xmin = 5000\n",
    "xmax = 666000\n",
    "ymin = 6000\n",
    "ymax = 1221000\n",
    "\n",
    "# Affine transformation for surface in British national grid, with 500m cell size.\n",
    "cell_size = 250\n",
    "transform = Affine(cell_size, 0, xmin, 0, -cell_size, ymax)\n",
    "\n",
    "out_shape = (int((ymax - ymin) / cell_size), int((xmax - xmin) / cell_size))\n",
    "\n",
    "# shapes = [(geom, dens) for geom, dens in zip(usrn_gdf[\"geometry\"], usrn_gdf[\"classification\"])]\n",
    "shapes = [(geom, dens) for geom, dens in zip(usrn_gdf[\"geometry\"], usrn_gdf[\"density\"])]"
   ]
  },
  {
   "cell_type": "code",
   "execution_count": null,
   "id": "ef824fe0",
   "metadata": {},
   "outputs": [],
   "source": [
    "raster = rasterize(shapes=shapes, out_shape=out_shape, transform=transform)"
   ]
  },
  {
   "cell_type": "code",
   "execution_count": null,
   "id": "7b228d43",
   "metadata": {},
   "outputs": [],
   "source": [
    "# Save raster out\n",
    "with rasterio.open(\n",
    "    \"./outputs/rasters/usrn_simple_density_250m.tif\",\n",
    "    \"w\",\n",
    "    driver=\"GTiff\",\n",
    "    height=raster.shape[0],\n",
    "    width=raster.shape[1],\n",
    "    count=1,\n",
    "    dtype=raster.dtype,\n",
    "    crs=CRS.from_epsg(27700),\n",
    "    transform=transform,\n",
    ") as dst:\n",
    "    dst.write(raster, 1)"
   ]
  },
  {
   "cell_type": "code",
   "execution_count": null,
   "id": "e8e253f2",
   "metadata": {},
   "outputs": [],
   "source": [
    "# plot with 1 pixel = 1 cell on 96 dpi screen\n",
    "dpi = (96, 96)\n",
    "figsize = (raster.shape[0] / dpi[0], raster.shape[1] / dpi[1])"
   ]
  },
  {
   "cell_type": "code",
   "execution_count": null,
   "id": "17497498",
   "metadata": {},
   "outputs": [],
   "source": [
    "# plot nonzero cells\n",
    "plt.figure(figsize=figsize)\n",
    "plt.imshow((raster != 0), interpolation=\"none\")"
   ]
  },
  {
   "cell_type": "code",
   "execution_count": null,
   "id": "d33b95d1",
   "metadata": {},
   "outputs": [],
   "source": [
    "cmap = ListedColormap([\"none\", \"red\", \"green\", \"orange\"])\n",
    "norm = BoundaryNorm([-0.5, 0.5, 1.5, 2.5, 3.5], cmap.N)"
   ]
  },
  {
   "cell_type": "code",
   "execution_count": null,
   "id": "6c58c395",
   "metadata": {},
   "outputs": [],
   "source": [
    "# plot nonzero cells\n",
    "plt.figure(figsize=figsize)\n",
    "plt.imshow(raster, cmap=cmap, norm=norm, interpolation=\"none\")"
   ]
  },
  {
   "cell_type": "code",
   "execution_count": null,
   "id": "7b8575de",
   "metadata": {},
   "outputs": [],
   "source": [
    "# cell density values are long-tailed\n",
    "print((raster > 1.5).sum())\n",
    "print((raster > 3.5).sum())\n",
    "print((raster > 9).sum())\n",
    "print((raster > 40).sum())\n",
    "print((raster > 140).sum())\n",
    "print((raster > 425).sum())\n",
    "print((raster > 1640).sum())\n",
    "print((raster > 7000).sum())"
   ]
  },
  {
   "cell_type": "code",
   "execution_count": null,
   "id": "83454627",
   "metadata": {},
   "outputs": [],
   "source": [
    "cell_percentiles = numpy.quantile(raster[raster > 0], numpy.arange(0, 1, 0.01))"
   ]
  },
  {
   "cell_type": "code",
   "execution_count": null,
   "id": "c0700660",
   "metadata": {},
   "outputs": [],
   "source": [
    "f, [ax1, ax2] = plt.subplots(1, 2, figsize=(12, 4))\n",
    "\n",
    "ax1.plot(numpy.arange(0, 1, 0.01), cell_percentiles)\n",
    "\n",
    "ax2.plot(numpy.arange(0, 1, 0.01), numpy.log(cell_percentiles))"
   ]
  },
  {
   "cell_type": "code",
   "execution_count": null,
   "id": "d3b11150",
   "metadata": {},
   "outputs": [],
   "source": [
    "f, ax = plt.subplots(figsize=figsize)\n",
    "\n",
    "norm = LogNorm(vmin=raster[raster > 0].min(), vmax=raster.max())\n",
    "\n",
    "ax.imshow(raster, norm=norm, cmap=\"coolwarm\", interpolation=\"none\")"
   ]
  },
  {
   "cell_type": "code",
   "execution_count": null,
   "id": "57f3dbc1",
   "metadata": {},
   "outputs": [],
   "source": [
    "# sense check: take a look at the areas corresponding to the highest value raster cells\n",
    "\n",
    "\n",
    "def plot_nth_largest_raster_cell(n):\n",
    "    # Flatten the array\n",
    "    flat_raster = raster.flatten()\n",
    "\n",
    "    # Get the indices that would sort the array in descending order\n",
    "    sorted_indices = numpy.argsort(flat_raster)[::-1]\n",
    "\n",
    "    # Get the index of the nth-largest value\n",
    "    nth_largest_index = sorted_indices[n - 1]\n",
    "\n",
    "    # Convert the flattened index to the corresponding indices in the original array\n",
    "    nth_largest_indices = numpy.unravel_index(nth_largest_index, raster.shape)\n",
    "\n",
    "    # Create a geometry representing the area of the nth-largest value cell\n",
    "    x_coord = xmin + nth_largest_indices[1] * cell_size\n",
    "    y_coord = ymax - nth_largest_indices[0] * cell_size\n",
    "    max_cell_geometry = box(x_coord, y_coord - cell_size, x_coord + cell_size, y_coord)\n",
    "\n",
    "    # Plot usrn_gdf clipped to this extent\n",
    "    f, ax = plt.subplots(figsize=figsize)\n",
    "    ax.set_xlim(x_coord, x_coord + cell_size)\n",
    "    ax.set_ylim(y_coord - cell_size, y_coord)\n",
    "    usrn_gdf_area = gpd.clip(usrn_gdf.compute(), mask=max_cell_geometry)\n",
    "    usrn_gdf_area.plot(ax=ax, alpha=0.5)\n",
    "    cx.add_basemap(ax, crs=\"EPSG:27700\", source=cx.providers.OpenStreetMap.Mapnik)"
   ]
  },
  {
   "cell_type": "code",
   "execution_count": null,
   "id": "ea8379fa",
   "metadata": {},
   "outputs": [],
   "source": [
    "plot_nth_largest_raster_cell(1)"
   ]
  },
  {
   "cell_type": "code",
   "execution_count": null,
   "id": "035d291e",
   "metadata": {
    "lines_to_next_cell": 2
   },
   "outputs": [],
   "source": [
    "plot_nth_largest_raster_cell(2)"
   ]
  },
  {
   "cell_type": "code",
   "execution_count": null,
   "id": "738e5c90",
   "metadata": {},
   "outputs": [],
   "source": [
    "plot_nth_largest_raster_cell(3)"
   ]
  },
  {
   "cell_type": "code",
   "execution_count": null,
   "id": "da40ef84",
   "metadata": {},
   "outputs": [],
   "source": [
    "plot_nth_largest_raster_cell(raster[raster > 0].size)"
   ]
  },
  {
   "cell_type": "markdown",
   "id": "1c5d275b",
   "metadata": {},
   "source": [
    "Seems about as expected on the whole, but surprising that so much of the top cell is unoccupied - may be worth exploring further"
   ]
  },
  {
   "cell_type": "markdown",
   "id": "c7bdea54",
   "metadata": {},
   "source": [
    "## Point-snapping approach"
   ]
  },
  {
   "cell_type": "markdown",
   "id": "72c2d1a6",
   "metadata": {},
   "source": [
    "Restrict the geometries to a bounded area to make computation manageable (specific area chosen is a section of the east coast between Great Yarmouth and Lowestoft):"
   ]
  },
  {
   "cell_type": "code",
   "execution_count": null,
   "id": "26866b16",
   "metadata": {},
   "outputs": [],
   "source": [
    "frame = (628160, 290000, 660000, 310000)"
   ]
  },
  {
   "cell_type": "code",
   "execution_count": null,
   "id": "621bd459",
   "metadata": {},
   "outputs": [],
   "source": [
    "usrn = gpd.read_file(usrn_path, bbox=frame)\n",
    "# only filters to geometries that intersect the bbox - clip with the frame to tidy up\n",
    "bbox = box(*frame)\n",
    "usrn = gpd.clip(usrn, mask=frame)\n",
    "\n",
    "# some duplicates - drop duplicate geometries\n",
    "usrn = usrn.drop_duplicates(\"geometry\")"
   ]
  },
  {
   "cell_type": "code",
   "execution_count": null,
   "id": "f7c2515a",
   "metadata": {},
   "outputs": [],
   "source": [
    "f, ax = plt.subplots(figsize=(15, 15))\n",
    "usrn.plot(ax=ax, alpha=0.5)\n",
    "cx.add_basemap(ax, crs=\"EPSG:27700\", source=cx.providers.OpenStreetMap.Mapnik)\n",
    "ax.set_title(\"Streets in filtered USRN dataset (blue)\")"
   ]
  },
  {
   "cell_type": "code",
   "execution_count": null,
   "id": "231b59ed",
   "metadata": {},
   "outputs": [],
   "source": [
    "# do the same to UPRNs\n",
    "uprn = dask_geopandas.clip(uprn_gdf, mask=frame).compute()"
   ]
  },
  {
   "cell_type": "code",
   "execution_count": null,
   "id": "bf141209",
   "metadata": {},
   "outputs": [],
   "source": [
    "f, ax = plt.subplots(figsize=(15, 15))\n",
    "usrn.plot(ax=ax, alpha=0.5)\n",
    "uprn.plot(ax=ax, markersize=2, color=\"orange\", alpha=0.5)\n",
    "cx.add_basemap(\n",
    "    ax, crs=\"EPSG:27700\", source=cx.providers.OpenStreetMap.Mapnik, alpha=0.5\n",
    ")\n",
    "ax.set_title(\n",
    "    \"Locations in filtered UPRN dataset (orange) and streets in filtered USRN dataset (blue)\"\n",
    ")"
   ]
  },
  {
   "cell_type": "markdown",
   "id": "ec287b65",
   "metadata": {},
   "source": [
    "### Joining each UPRN to its nearest street"
   ]
  },
  {
   "cell_type": "code",
   "execution_count": null,
   "id": "325bfb81",
   "metadata": {},
   "outputs": [],
   "source": [
    "uprn = uprn.set_crs(\"EPSG:27700\")"
   ]
  },
  {
   "cell_type": "code",
   "execution_count": null,
   "id": "0167dfb0",
   "metadata": {},
   "outputs": [],
   "source": [
    "joined = gpd.sjoin_nearest(uprn, usrn, how=\"left\", distance_col=\"distance\")"
   ]
  },
  {
   "cell_type": "code",
   "execution_count": null,
   "id": "0558ca2c",
   "metadata": {},
   "outputs": [],
   "source": [
    "# this automatically drops line geometries so re-add them\n",
    "joined = joined.merge(\n",
    "    usrn[[\"usrn\", \"geometry\"]], on=\"usrn\", suffixes=(\"_point\", \"_line\")\n",
    ")"
   ]
  },
  {
   "cell_type": "code",
   "execution_count": null,
   "id": "2afda8f2",
   "metadata": {},
   "outputs": [],
   "source": [
    "joined = gpd.GeoDataFrame(joined)"
   ]
  },
  {
   "cell_type": "markdown",
   "id": "1779b6ec",
   "metadata": {},
   "source": [
    "### Ranking streets by number of nearby UPRNs"
   ]
  },
  {
   "cell_type": "code",
   "execution_count": null,
   "id": "777eae39",
   "metadata": {},
   "outputs": [],
   "source": [
    "counts = joined.groupby(\"usrn\")[\"UPRN\"].count().sort_values(ascending=False)\n",
    "top_5_streets = list(counts.head().index)\n",
    "usrn_top = usrn.loc[usrn[\"usrn\"].isin(top_5_streets)]"
   ]
  },
  {
   "cell_type": "code",
   "execution_count": null,
   "id": "41fdc3e6",
   "metadata": {},
   "outputs": [],
   "source": [
    "f, ax = plt.subplots(figsize=(15, 15))\n",
    "usrn_top.plot(ax=ax, color=\"red\")\n",
    "cx.add_basemap(\n",
    "    ax, crs=\"EPSG:27700\", source=cx.providers.OpenStreetMap.Mapnik, alpha=0.5\n",
    ")\n",
    "ax.set_title(\"Top 5 streets with highest numbers of nearby UPRNs\")"
   ]
  },
  {
   "cell_type": "markdown",
   "id": "c8d01a4c",
   "metadata": {},
   "source": [
    "Note: some of these streets are high-ranking because they are long. Need to account for density of UPRNs.\n",
    "\n",
    "Note also that some streets are a weird shape! The cluster of roads in the bottom left seems to correspond to one USRN (83407249), and some are not connected."
   ]
  },
  {
   "cell_type": "markdown",
   "id": "95050c37",
   "metadata": {},
   "source": [
    "### Ranking streets by density of UPRNs (number per unit length)"
   ]
  },
  {
   "cell_type": "code",
   "execution_count": null,
   "id": "d2602ee9",
   "metadata": {},
   "outputs": [],
   "source": [
    "# add street lengths\n",
    "joined[\"length\"] = joined[\"geometry_line\"].length"
   ]
  },
  {
   "cell_type": "code",
   "execution_count": null,
   "id": "dfaf6b3d",
   "metadata": {},
   "outputs": [],
   "source": [
    "joined[\"uprn_count\"] = joined.groupby(\"usrn\")[\"UPRN\"].transform(\"count\")\n",
    "joined[\"uprn_density\"] = joined[\"uprn_count\"] / joined[\"length\"]"
   ]
  },
  {
   "cell_type": "code",
   "execution_count": null,
   "id": "789fae4d",
   "metadata": {},
   "outputs": [],
   "source": [
    "top_5_density_streets = list(\n",
    "    joined.groupby(\"usrn\")\n",
    "    .head(1)\n",
    "    .sort_values(\"uprn_density\", ascending=False)\n",
    "    .head()[\"usrn\"]\n",
    ")"
   ]
  },
  {
   "cell_type": "code",
   "execution_count": null,
   "id": "2f11e725",
   "metadata": {},
   "outputs": [],
   "source": [
    "usrn_top_density = usrn.loc[usrn[\"usrn\"].isin(top_5_density_streets)]"
   ]
  },
  {
   "cell_type": "code",
   "execution_count": null,
   "id": "d4b7d3e0",
   "metadata": {},
   "outputs": [],
   "source": [
    "f, ax = plt.subplots(figsize=(15, 15))\n",
    "usrn_top_density.plot(ax=ax, color=\"red\", linewidth=5)\n",
    "cx.add_basemap(\n",
    "    ax, crs=\"EPSG:27700\", source=cx.providers.OpenStreetMap.Mapnik, alpha=0.5\n",
    ")\n",
    "ax.set_title(\"Top 5 streets with highest UPRN density\")"
   ]
  },
  {
   "cell_type": "markdown",
   "id": "87b2ab82",
   "metadata": {},
   "source": [
    "Generally really tiny streets, barely visible on plot. Need to do something more involved, e.g. kernel density estimation."
   ]
  },
  {
   "cell_type": "markdown",
   "id": "e0ac29c0",
   "metadata": {},
   "source": [
    "### Snapping UPRNs to nearest points on street network"
   ]
  },
  {
   "cell_type": "code",
   "execution_count": null,
   "id": "ac6a1022",
   "metadata": {},
   "outputs": [],
   "source": [
    "joined[\"nearest_point\"] = joined.apply(\n",
    "    lambda x: nearest_points(x[\"geometry_point\"], x[\"geometry_line\"])[1], axis=1\n",
    ")"
   ]
  },
  {
   "cell_type": "markdown",
   "id": "09956fad",
   "metadata": {},
   "source": [
    "Plot of UPRNs (orange) and their equivalent points snapped to the street network (in red) just to check this is working - we should see that all red points fall on streets:"
   ]
  },
  {
   "cell_type": "code",
   "execution_count": null,
   "id": "0325781a",
   "metadata": {},
   "outputs": [],
   "source": [
    "f, ax = plt.subplots(figsize=(15, 15))\n",
    "joined.set_geometry(\"geometry_point\").plot(\n",
    "    ax=ax, markersize=2, color=\"orange\", zorder=1, alpha=0.5\n",
    ")\n",
    "joined.set_geometry(\"geometry_line\").plot(ax=ax, zorder=2, alpha=0.5)\n",
    "joined.set_geometry(\"nearest_point\").plot(\n",
    "    ax=ax, markersize=1, color=\"red\", zorder=3, alpha=0.5\n",
    ")\n",
    "cx.add_basemap(\n",
    "    ax, crs=\"EPSG:27700\", source=cx.providers.OpenStreetMap.Mapnik, alpha=0.5\n",
    ")\n",
    "ax.set_title(\"Streets (blue), UPRNs (orange) and UPRNs snapped to streets (red)\")"
   ]
  },
  {
   "cell_type": "markdown",
   "id": "ec58f612",
   "metadata": {},
   "source": [
    "Note in the map above that there are some areas with a large number of UPRNs without any streets nearby. Potential risk here that streets surrounding these areas \"absorb\" lots of UPRNs that they are not actually close to (i.e. too far for Kensa to connect from their nearest street). We can filter by distance to nearest street to avoid this problem. Also we need to remember to filter UPRNs to just domestic properties, and only those that are suitable (i.e. not blocks of flats)."
   ]
  },
  {
   "cell_type": "markdown",
   "id": "6e0a4a86",
   "metadata": {},
   "source": [
    "### Identifying dense street segments"
   ]
  },
  {
   "cell_type": "markdown",
   "id": "1d61b621",
   "metadata": {},
   "source": [
    "One potential method would involve applying kernel density estimation on the snapped UPRNs to get a continuous density measure on the street network. We could then identify high-density areas by filtering to street segments that have density greater than a particular threshold.\n",
    "\n",
    "An approximation to this is as follows:\n",
    "* For each snapped UPRN, identify the part of the street that is less than a given distance *d* from the snapped UPRN\n",
    "* For each street, get the union of these parts\n",
    "* Find the connected components of this union\n",
    "* Calculate the total length of each component and calculate the average distance between each component and the UPRNs that are nearest to it\n",
    "* 'Suitable' street segments are therefore components that are sufficiently long and have a sufficiently small average distance-to-UPRN\n",
    "\n",
    "This is a bit like applying KDE with a uniform kernel. If we used KDE then overlapping kernels would be additive and we would get a better picture of how dense street segments are. But we don't really need this if we have a 'minimum allowable' density in mind - we just need to set *d* according to this value, then the street segments that result from this process will be 'sufficiently dense'.\n",
    "\n",
    "The limitation is that we need to know this value in advance, whereas if we used KDE with a non-uniform kernel then we'd get a more general output that could be filtered according to different density values. It's also more strict than KDE - in this method, if two snapped UPRNs are more than twice the 'given distance' apart with nothing in between, then the resulting street segments will be disconnected, but if we used KDE then we could choose a kernel that provides more flexibility, potentially leading to segments being joined if there are enough points on either side.\n",
    "\n",
    "We can further simplify the first step by just intersecting the street with a buffer circle of radius *d* around the snapped point. This is roughly the same thing, under the assumption that streets are approximately linear. This assumption should be checked though given that we know from the above that some streets are non-linear."
   ]
  },
  {
   "cell_type": "code",
   "execution_count": null,
   "id": "e540671c",
   "metadata": {},
   "outputs": [],
   "source": [
    "# for each point, add a buffer circle (arbitrary radius of 50 for this demo)\n",
    "joined[\"buffer\"] = joined.set_geometry(\"nearest_point\").buffer(50)"
   ]
  },
  {
   "cell_type": "code",
   "execution_count": null,
   "id": "e745d228",
   "metadata": {},
   "outputs": [],
   "source": [
    "# intersect each buffer circle with its corresponding street geometry\n",
    "# need to intersect only with the corresponding street to avoid \"spillover\" to another nearby street\n",
    "joined[\"segment\"] = joined[\"buffer\"].intersection(joined[\"geometry_line\"])"
   ]
  },
  {
   "cell_type": "code",
   "execution_count": null,
   "id": "9eb2dbb9",
   "metadata": {},
   "outputs": [],
   "source": [
    "# for each street, get the union of its buffer intersections\n",
    "# the line merge cleans up the multi line strings by joining anything that should be connected\n",
    "intersections = joined.groupby(\"usrn\").apply(\n",
    "    lambda x: line_merge(unary_union(x[\"segment\"]))\n",
    ")\n",
    "\n",
    "intersections = intersections.reset_index().rename(columns={0: \"geometry\"})"
   ]
  },
  {
   "cell_type": "code",
   "execution_count": null,
   "id": "91be91ea",
   "metadata": {},
   "outputs": [],
   "source": [
    "f, ax = plt.subplots(figsize=(15, 15))\n",
    "\n",
    "intersections.set_geometry(\"geometry\").plot(ax=ax, color=\"red\")\n",
    "cx.add_basemap(\n",
    "    ax, crs=\"EPSG:27700\", source=cx.providers.OpenStreetMap.Mapnik, alpha=0.5\n",
    ")\n",
    "ax.set_title(\"Street segments with 'sufficiently high' UPRN density\")"
   ]
  },
  {
   "cell_type": "code",
   "execution_count": null,
   "id": "7884429a",
   "metadata": {},
   "outputs": [],
   "source": [
    "# explode multi line strings into individual line strings (connected components)\n",
    "# to check: are line strings actually connected components? is there a better way to do this?\n",
    "exploded = intersections.set_geometry(\"geometry\").explode(ignore_index=True)"
   ]
  },
  {
   "cell_type": "code",
   "execution_count": null,
   "id": "a9d85ae5",
   "metadata": {},
   "outputs": [],
   "source": [
    "# set CRS for mapping\n",
    "exploded = exploded.set_crs(\"EPSG:27700\")"
   ]
  },
  {
   "cell_type": "code",
   "execution_count": null,
   "id": "73dcb187",
   "metadata": {},
   "outputs": [],
   "source": [
    "# join UPRN closest points onto their nearest line string\n",
    "# there is probably a more efficient way to do this given that the line strings are based on the UPRNs\n",
    "segment_counts = (\n",
    "    joined[[\"nearest_point\", \"distance\"]]\n",
    "    .set_geometry(\"nearest_point\")\n",
    "    .sjoin_nearest(exploded)\n",
    ")"
   ]
  },
  {
   "cell_type": "code",
   "execution_count": null,
   "id": "deb8e1b5",
   "metadata": {},
   "outputs": [],
   "source": [
    "# define new variables\n",
    "exploded[\"uprn_count\"] = segment_counts.groupby(\"index_right\")[\"nearest_point\"].count()\n",
    "exploded[\"total_distance\"] = segment_counts.groupby(\"index_right\")[\"distance\"].sum()\n",
    "\n",
    "exploded[\"uprn_count\"] = exploded[\"uprn_count\"].fillna(0).astype(int)\n",
    "exploded[\"total_distance\"] = exploded[\"total_distance\"].fillna(0)\n",
    "\n",
    "exploded[\"average_distance\"] = exploded[\"total_distance\"] / exploded[\"uprn_count\"]\n",
    "\n",
    "exploded[\"length\"] = exploded[\"geometry\"].length\n",
    "exploded[\"density\"] = exploded[\"uprn_count\"] / exploded[\"length\"]"
   ]
  },
  {
   "cell_type": "code",
   "execution_count": null,
   "id": "49eb8326",
   "metadata": {},
   "outputs": [],
   "source": [
    "f, ax = plt.subplots(figsize=(15, 15))\n",
    "\n",
    "exploded.plot(\n",
    "    column=\"length\", ax=ax, cmap=\"OrRd\", legend=True, legend_kwds={\"shrink\": 0.3}\n",
    ")\n",
    "cx.add_basemap(\n",
    "    ax, crs=\"EPSG:27700\", source=cx.providers.OpenStreetMap.Mapnik, alpha=0.5\n",
    ")\n",
    "ax.set_title(\n",
    "    \"Street segments with 'sufficiently high' UPRN density, coloured by length\"\n",
    ")"
   ]
  },
  {
   "cell_type": "code",
   "execution_count": null,
   "id": "3b0b1128",
   "metadata": {},
   "outputs": [],
   "source": [
    "fig, ax = plt.subplots(figsize=(15, 15))\n",
    "\n",
    "# arbitrary parameters for now\n",
    "exploded.loc[\n",
    "    (exploded[\"length\"] > 100)\n",
    "    & (exploded[\"density\"] > 0.2)\n",
    "    & (exploded[\"average_distance\"] < 50)\n",
    "].plot(ax=ax, color=\"red\")\n",
    "cx.add_basemap(\n",
    "    ax, crs=\"EPSG:27700\", source=cx.providers.OpenStreetMap.Mapnik, alpha=0.5\n",
    ")\n",
    "ax.set_title(\n",
    "    \"Street segments with 'sufficient' length, UPRN density and average distance to UPRN\"\n",
    ")"
   ]
  },
  {
   "cell_type": "markdown",
   "id": "9349f295",
   "metadata": {},
   "source": [
    "Still a few issues to resolve - lots of the high-density segments are really small when looking at the full dataset, does this indicate problems with the underlying geometry? Possibly small segments that are detached from the rest? Disconnected line strings? Or points where streets change direction near a cluster of UPRNs, so they all get joined to a corner?"
   ]
  },
  {
   "cell_type": "markdown",
   "id": "3b47d54b",
   "metadata": {},
   "source": [
    "## Key things to resolve"
   ]
  },
  {
   "cell_type": "markdown",
   "id": "a2a5da6f",
   "metadata": {},
   "source": [
    "* Some streets are weird shapes - loops, forks, etc. This causes problems with the \"buffer circle\" approximation - would be better to \"crawl\" outward from the snapped point to find all points on the street that are within a certain distance along the street (not as the crow flies)\n",
    "\n",
    "* Generally check street geometries to make sure line segments are connected properly\n",
    "\n",
    "* Need to check that deduplicating streets by geometry is robust - why are streets duplicated in the first place?\n",
    "\n",
    "* Filter to domestic UPRNs of suitable built form (not flats)\n",
    "\n",
    "* Apply filtering to streets: not main roads, but sufficiently wide, no overhead power lines, etc\n",
    "\n",
    "* Some street geometries have a z-coordinate - need to investigate why / whether it's important (and whether it is breaking anything)\n",
    "\n",
    "* Average distance to UPRN becomes messed up if there is a faraway home that is joined to the street - realistically it wouldn't be connected. Better to filter UPRNs by minimum distance to a street at the start\n",
    "\n",
    "* Consider linearity of streets - how does this affect Kensa?\n",
    "\n",
    "* Are streets the right unit? If two streets are connected to form a straight line, should they be considered as one? Note that in the above method street segments are only subsets of one street\n",
    "\n",
    "* Scaling the method to all of the UK\n",
    "\n",
    "* Identifying suitable parameters for suitable length, density, average distance to UPRN - and radius of buffer circles (can we work with Kensa to find an approximate cost function?)\n",
    "\n",
    "* Used `explode` above to break MultiLineStrings into individual LineStrings assuming these are connected components - but not sure this is true (e.g. for cycles)\n",
    "\n",
    "* How does property density vary along the average street? If it's fairly constant then we don't really need to worry about street segments"
   ]
  },
  {
   "cell_type": "markdown",
   "id": "398ca91f",
   "metadata": {},
   "source": [
    "### Point-snapping approach applied to all GB"
   ]
  },
  {
   "cell_type": "code",
   "execution_count": null,
   "id": "3f991e76",
   "metadata": {},
   "outputs": [],
   "source": [
    "# copied from above\n",
    "\n",
    "# import fiona\n",
    "# from shapely.geometry import shape\n",
    "# # Find bad geoms\n",
    "# bad_usrns = []\n",
    "# with fiona.open(usrn_path) as src:\n",
    "#     for feat in src:\n",
    "#         try:\n",
    "#             shape(feat.geometry)\n",
    "#         except:\n",
    "#             bad_usrns.append(feat.properties['usrn'])"
   ]
  },
  {
   "cell_type": "code",
   "execution_count": null,
   "id": "882eec4a",
   "metadata": {},
   "outputs": [],
   "source": [
    "usrn_gdf = read_dataframe(\n",
    "    usrn_path, where=f\"usrn not in ({','.join(map(str, bad_usrns))})\"\n",
    ")\n",
    "\n",
    "usrn_gdf = dask_geopandas.from_geopandas(usrn_gdf, npartitions=10)"
   ]
  },
  {
   "cell_type": "code",
   "execution_count": null,
   "id": "9f23a307",
   "metadata": {},
   "outputs": [],
   "source": [
    "uprn_gdf = dask_geopandas.from_dask_dataframe(\n",
    "    uprn_df,\n",
    "    geometry=dask_geopandas.points_from_xy(uprn_df, \"X_COORDINATE\", \"Y_COORDINATE\"),\n",
    ")"
   ]
  },
  {
   "cell_type": "markdown",
   "id": "87a3c3ab",
   "metadata": {},
   "source": [
    "`sjoin_nearest` isn't implemented in dask_geopandas and takes ages. Instead we could use the linked UPRN-USRN dataset to get nearest points on the USRN that each UPRN is linked to. In fact this may be more accurate than the original method - the closest USRN to each UPRN isn't necessarily the most sensible one to connect to, whereas the linked USRN may be more reliable and unlikely to be too far away."
   ]
  },
  {
   "cell_type": "code",
   "execution_count": null,
   "id": "7e3d0b19",
   "metadata": {},
   "outputs": [],
   "source": [
    "uprn_gdf = uprn_gdf.set_crs(\"EPSG:27700\")\n",
    "joined_full = uprn_gdf.merge(\n",
    "    usrn_gdf,\n",
    "    how=\"inner\",\n",
    "    left_on=\"IDENTIFIER_2\",\n",
    "    right_on=\"usrn\",\n",
    "    suffixes=[\"_uprn\", \"_usrn\"],\n",
    ")"
   ]
  },
  {
   "cell_type": "code",
   "execution_count": null,
   "id": "586d23d8",
   "metadata": {},
   "outputs": [],
   "source": [
    "# tidy up\n",
    "joined_full = joined_full.drop(\n",
    "    columns=[\"X_COORDINATE\", \"Y_COORDINATE\", \"IDENTIFIER_1\", \"IDENTIFIER_2\"]\n",
    ")"
   ]
  },
  {
   "cell_type": "code",
   "execution_count": null,
   "id": "7c1c8a30",
   "metadata": {},
   "outputs": [],
   "source": [
    "joined_full = joined_full.set_geometry(\"geometry_usrn\")\n",
    "joined_full[\"length\"] = joined_full[\"geometry_usrn\"].length"
   ]
  },
  {
   "cell_type": "code",
   "execution_count": null,
   "id": "01bbf211",
   "metadata": {},
   "outputs": [],
   "source": [
    "joined_full[\"uprn_count\"] = joined_full.groupby(\"usrn\")[\"UPRN\"].transform(\"count\")\n",
    "joined_full[\"uprn_density\"] = joined_full[\"uprn_count\"] / joined_full[\"length\"]"
   ]
  },
  {
   "cell_type": "code",
   "execution_count": null,
   "id": "49885b62",
   "metadata": {},
   "outputs": [],
   "source": [
    "joined_full[\"nearest_point\"] = joined_full.apply(\n",
    "    lambda x: nearest_points(x[\"geometry_uprn\"], x[\"geometry_usrn\"])[1], axis=1\n",
    ")"
   ]
  },
  {
   "cell_type": "code",
   "execution_count": null,
   "id": "ef5c1ff5",
   "metadata": {},
   "outputs": [],
   "source": [
    "joined_full[\"total_uprn_to_usrn_distance\"] = joined_full[\"geometry_uprn\"].distance(\n",
    "    joined_full[\"geometry_usrn\"], align=False\n",
    ")"
   ]
  },
  {
   "cell_type": "code",
   "execution_count": null,
   "id": "b1b42bcd",
   "metadata": {},
   "outputs": [],
   "source": [
    "# joined_full.head()"
   ]
  },
  {
   "cell_type": "markdown",
   "id": "89c48a5b",
   "metadata": {},
   "source": [
    "At this point in the method applied to the small area above we identified buffer circles around each snapped point and merged them to get street segments. This takes too long on the full dataset, so instead we simplify by just aggregating this joined dataset by USRN to get street-level features."
   ]
  },
  {
   "cell_type": "code",
   "execution_count": null,
   "id": "f3969b1a",
   "metadata": {},
   "outputs": [],
   "source": [
    "usrn_agg = joined_full.groupby([\"usrn\"]).agg(\n",
    "    {\n",
    "        \"total_uprn_to_usrn_distance\": \"sum\",\n",
    "        \"length\": \"first\",\n",
    "        \"uprn_count\": \"first\",\n",
    "        \"uprn_density\": \"first\",\n",
    "        \"geometry_usrn\": \"first\",\n",
    "    }\n",
    ")"
   ]
  },
  {
   "cell_type": "code",
   "execution_count": null,
   "id": "6963495b",
   "metadata": {},
   "outputs": [],
   "source": [
    "usrn_agg_computed = usrn_agg.compute()"
   ]
  },
  {
   "cell_type": "code",
   "execution_count": null,
   "id": "d676cfd5",
   "metadata": {},
   "outputs": [],
   "source": [
    "usrn_agg_computed[\"average_uprn_to_usrn_distance\"] = (\n",
    "    usrn_agg_computed[\"total_uprn_to_usrn_distance\"] / usrn_agg_computed[\"uprn_count\"]\n",
    ")"
   ]
  },
  {
   "cell_type": "markdown",
   "id": "a04fe24c",
   "metadata": {},
   "source": [
    "This takes about an hour to compute on my machine. This is now a dataset of USRNs with the following measures that could be used to assess their suitability:\n",
    "- Number of linked properties\n",
    "- Length of street\n",
    "- Density of linked properties along street\n",
    "- Average distance between property and street\n",
    "\n",
    "If we can filter UPRNs to just eligible domestic properties, and filter USRNs to suitable streets, then these measures should correspond to some of the physical characteristics that are relevant to Kensa. As a general thought, potentially it would be best to use the rasterization approach to identify areas, then apply the more detailed point-snapping approach to these areas to get a more granular picture of the streets within them."
   ]
  },
  {
   "cell_type": "code",
   "execution_count": null,
   "id": "4c39b0c5",
   "metadata": {},
   "outputs": [],
   "source": [
    "# questionably large max of 184,686\n",
    "usrn_agg_computed[\"average_uprn_to_usrn_distance\"].describe()"
   ]
  },
  {
   "cell_type": "code",
   "execution_count": null,
   "id": "0863af85",
   "metadata": {},
   "outputs": [],
   "source": [
    "# suspiciously all of these roads are on the England/Scotland border (from uprn.uk)\n",
    "\n",
    "usrn_agg_computed.loc[usrn_agg_computed[\"average_uprn_to_usrn_distance\"] > 100000]"
   ]
  },
  {
   "cell_type": "code",
   "execution_count": null,
   "id": "e916a217",
   "metadata": {},
   "outputs": [],
   "source": [
    "# as an example, get \"top streets\" according to arbitrary metrics\n",
    "\n",
    "top_streets = usrn_agg_computed.loc[\n",
    "    (usrn_agg_computed[\"average_uprn_to_usrn_distance\"] < 100)\n",
    "    & (usrn_agg_computed[\"uprn_density\"] > 10)\n",
    "    & (usrn_agg_computed[\"length\"] > 100)\n",
    "]"
   ]
  },
  {
   "cell_type": "code",
   "execution_count": null,
   "id": "57c592a7",
   "metadata": {},
   "outputs": [],
   "source": [
    "top_streets"
   ]
  },
  {
   "cell_type": "code",
   "execution_count": null,
   "id": "c2454440",
   "metadata": {},
   "outputs": [],
   "source": [
    "f, ax = plt.subplots(figsize=(15, 15))\n",
    "top_streets.set_geometry(\"geometry_usrn\").plot(\n",
    "    ax=ax, color=\"red\", linewidth=3, alpha=0.5\n",
    ")\n",
    "cx.add_basemap(\n",
    "    ax, crs=\"EPSG:27700\", source=cx.providers.OpenStreetMap.Mapnik, alpha=0.5\n",
    ")"
   ]
  },
  {
   "cell_type": "markdown",
   "id": "99e890c1",
   "metadata": {},
   "source": [
    "Both of the \"top streets\" happen to be in Manchester - both appear to be located near blocks of student accommodation, though also with lots of other non-domestic buildings around."
   ]
  },
  {
   "cell_type": "markdown",
   "id": "02deb987",
   "metadata": {},
   "source": [
    "Thought: are USRN geometries accurate enough to give an accurate value for UPRN-USRN distance?"
   ]
  },
  {
   "cell_type": "code",
   "execution_count": null,
   "id": "958fbb9d",
   "metadata": {},
   "outputs": [],
   "source": [
    "# code for applying the full point-snapping method to the whole of GB\n",
    "# not sure how long it takes as it's never finished\n",
    "\n",
    "# joined_full[\"buffer\"] = joined_full.set_geometry(\"nearest_point\").buffer(50)\n",
    "# joined_full[\"segment\"] = joined_full[\"buffer\"].intersection(joined_full[\"geometry_usrn\"])\n",
    "\n",
    "# intersections_full = joined_full.groupby(\"usrn\").apply(\n",
    "#     lambda x: line_merge(unary_union(x[\"segment\"]))\n",
    "# )\n",
    "\n",
    "# intersections_full = intersections_full.reset_index().rename(columns={0: \"geometry\"})\n",
    "\n",
    "# exploded_full = intersections_full.set_geometry(\"geometry\").explode()\n",
    "\n",
    "# exploded_full = exploded_full.set_crs(\"EPSG:27700\")\n",
    "\n",
    "# segment_counts = (\n",
    "#     joined_full[[\"nearest_point\", \"distance\"]]\n",
    "#     .set_geometry(\"nearest_point\")\n",
    "#     .sjoin_nearest(exploded_full)\n",
    "# )\n",
    "\n",
    "# exploded_full[\"uprn_count\"] = segment_counts.groupby(\"index_right\")[\"nearest_point\"].count()\n",
    "# exploded_full[\"total_distance\"] = segment_counts.groupby(\"index_right\")[\"distance\"].sum()\n",
    "\n",
    "# exploded_full[\"uprn_count\"] = exploded_full[\"uprn_count\"].fillna(0).astype(int)\n",
    "# exploded_full[\"total_distance\"] = exploded_full[\"total_distance\"].fillna(0)\n",
    "\n",
    "# exploded_full[\"average_distance\"] = exploded_full[\"total_distance\"] / exploded_full[\"uprn_count\"]\n",
    "\n",
    "# exploded_full[\"length\"] = exploded_full[\"geometry\"].length\n",
    "# exploded_full[\"density\"] = exploded_full[\"uprn_count\"] / exploded_full[\"length\"]\n",
    "\n",
    "# fig, ax = plt.subplots(figsize=(15, 15))\n",
    "\n",
    "# # arbitrary parameters for now\n",
    "# exploded_full.loc[\n",
    "#     (exploded_full[\"length\"] > 100)\n",
    "#     & (exploded_full[\"density\"] > 0.2)\n",
    "#     & (exploded_full[\"average_distance\"] < 50)\n",
    "# ].plot(ax=ax, color=\"red\")\n",
    "# cx.add_basemap(\n",
    "#     ax, crs=\"EPSG:27700\", source=cx.providers.OpenStreetMap.Mapnik, alpha=0.5\n",
    "# )\n",
    "# ax.set_title(\n",
    "#     \"Street segments with 'sufficient' length, UPRN density and average distance to UPRN\"\n",
    "# )"
   ]
  },
  {
   "cell_type": "markdown",
   "id": "6626c3f3",
   "metadata": {},
   "source": [
    "## Other useful datasets\n",
    "\n",
    "### Open\n",
    "\n",
    "* Socio-economic - [admin-based income statistics by LSOA](https://www.ons.gov.uk/peoplepopulationandcommunity/personalandhouseholdfinances/incomeandwealth/articles/adminbasedincomestatisticsenglandandwales/taxyearending2018)\n",
    "\n",
    "* Pavements - [link on this page no longer works but could enquire](https://www.esriuk.com/en-gb/news/press-releases/uk/39-map-of-every-pavement-width-in-great-britain)\n",
    "\n",
    "* Overhead lines/cables - [National Grid network route map](https://www.nationalgrid.com/electricity-transmission/network-and-infrastructure/network-route-mapshttps://www.nationalgrid.com/electricity-transmission/network-and-infrastructure/network-route-maps)\n",
    "\n",
    "* Outdoor space - [MSOA level average garden size](https://www.ons.gov.uk/economy/environmentalaccounts/datasets/accesstogardensandpublicgreenspaceingreatbritain)\n",
    "\n",
    "* Road widths - could proxy from UPRN/USRN data, distance between adjacent UPRNs\n",
    "\n",
    "* Tenure - estimate proportions by small area from EPC\n",
    "\n",
    "* Floor area - as above\n",
    "\n",
    "### Closed\n",
    "\n",
    "* Road widths - [OS Mastermap Highways?](https://beta.ordnancesurvey.co.uk/products/os-mastermap-highways-network-roads)"
   ]
  },
  {
   "cell_type": "markdown",
   "id": "7abffff3",
   "metadata": {},
   "source": []
  }
 ],
 "metadata": {
  "jupytext": {
   "cell_metadata_filter": "-all",
   "comment_magics": true,
   "custom_cell_magics": "kql"
  },
  "kernelspec": {
   "display_name": "asf_kensa_suitability_prototype",
   "language": "python",
   "name": "asf_kensa_suitability_prototype"
  },
  "language_info": {
   "codemirror_mode": {
    "name": "ipython",
    "version": 3
   },
   "file_extension": ".py",
   "mimetype": "text/x-python",
   "name": "python",
   "nbconvert_exporter": "python",
   "pygments_lexer": "ipython3",
   "version": "3.8.17"
  }
 },
 "nbformat": 4,
 "nbformat_minor": 5
}
